{
 "cells": [
  {
   "cell_type": "markdown",
   "metadata": {},
   "source": [
    "# COMPARATIVA LEO MESSI VS LAMINE YAMAL\n",
    "\n",
    "## ¿SERÁ TAN BUENO ALGÚN DÍA EL JOVEN ESPAÑOL COMO EL ASTRO ARGENTINO?\n",
    "\n",
    "### EN ESTE PROYECTO PROFUNDIZAREMOS EN LOS DATOS Y ASENTAREMOS LAS BASES PARA UNA FUTURA PREDICCIÓN QUE NOS CONFIRME, EN LA MEDIDA DE LO POSIBLE, SI LAMINE CONSEGUIRÉ UN BALÓN DE ORO ANTES DE LA EDAD DE 22 AÑOS, EDAD A LA QUE MESSI LO CONSIGUIÓ POR PRIMERA VEZ. POR AHORA REALIZAREMOS COMPARATIVAS Y SACAREMOS CONCLUSIONES BASADOS EN LOS 3 PRIMEROS AÑOS DE SUS CARRERAS."
   ]
  },
  {
   "cell_type": "markdown",
   "metadata": {},
   "source": [
    "# Preparación del código"
   ]
  },
  {
   "cell_type": "code",
   "execution_count": 1,
   "metadata": {},
   "outputs": [],
   "source": [
    "import requests\n",
    "from bs4 import BeautifulSoup\n",
    "import pandas as pd\n",
    "import re"
   ]
  },
  {
   "cell_type": "code",
   "execution_count": 2,
   "metadata": {},
   "outputs": [
    {
     "name": "stdout",
     "output_type": "stream",
     "text": [
      "📁 Carpeta raíz fijada a: F:\\JCMDataCenter\\Cursos\\Evolve Academy\\Data Scientist IA\\Evolve_Proyecto_Abril\\notebooks\n"
     ]
    }
   ],
   "source": [
    "# Confirmar la raíz del proyecto (en caso de ser necesario hacerlo)\n",
    "# Esto es necesario para que el código funcione correctamente en Jupyter Notebook\n",
    "\n",
    "from pathlib import Path\n",
    "import os\n",
    "\n",
    "def find_project_root(marker_file=\"F:/JCMDataCenter/Cursos/Evolve Academy/Data Scientist IA/Evolve_Proyecto_Abril\"):\n",
    "    \"\"\"Busca la raíz del proyecto basado en un archivo marcador.\"\"\"\n",
    "    current = Path.cwd().resolve()\n",
    "\n",
    "    while current != current.parent:\n",
    "        if (current / marker_file).exists():\n",
    "            return current\n",
    "        current = current.parent\n",
    "\n",
    "    raise FileNotFoundError(f\"No se encontró el archivo marcador {marker_file} en ninguna carpeta padre.\")\n",
    "\n",
    "# Usamos esto al inicio de cualquier archivo para fijar la raíz del proyecto\n",
    "project_root = find_project_root()\n",
    "os.chdir(project_root)  # OPCIONAL: cambia el cwd real si estás en Jupyter\n",
    "print(f\"📁 Carpeta raíz fijada a: {project_root}\")\n",
    "\n"
   ]
  },
  {
   "cell_type": "code",
   "execution_count": 3,
   "metadata": {},
   "outputs": [
    {
     "name": "stdout",
     "output_type": "stream",
     "text": [
      "📁 Working directory cambiado a: F:\\JCMDataCenter\\Cursos\\Evolve Academy\\Data Scientist IA\\Evolve_Proyecto_Abril\n"
     ]
    }
   ],
   "source": [
    "# Raíz actualizada\n",
    "# Cambiar el directorio de trabajo al directorio raíz del proyecto\n",
    "\n",
    "import os\n",
    "from pathlib import Path\n",
    "\n",
    "# Cambiar al directorio raíz del proyecto (subí hasta donde esté \"main.py\" o \".git\", etc.)\n",
    "project_root = Path(os.getcwd()).resolve()\n",
    "\n",
    "while not (project_root / \"main.py\").exists() and project_root != project_root.parent:\n",
    "    project_root = project_root.parent\n",
    "\n",
    "os.chdir(project_root)\n",
    "print(f\"📁 Working directory cambiado a: {project_root}\")\n"
   ]
  },
  {
   "cell_type": "code",
   "execution_count": 4,
   "metadata": {},
   "outputs": [
    {
     "name": "stdout",
     "output_type": "stream",
     "text": [
      "🌍 Scrapeando Lamine: https://fbref.com/en/players/82ec26c1/matchlogs/2022-2023/Lamine-Yamal-Match-Logs\n",
      "🌍 Scrapeando Lamine: https://fbref.com/en/players/82ec26c1/matchlogs/2023-2024/Lamine-Yamal-Match-Logs\n",
      "🌍 Scrapeando Lamine: https://fbref.com/en/players/82ec26c1/matchlogs/2024-2025/Lamine-Yamal-Match-Logs\n",
      "✅ CSV guardado en F:\\JCMDataCenter\\Cursos\\Evolve Academy\\Data Scientist IA\\Evolve_Proyecto_Abril\\data\\raw\\lamine_raw_data.csv con 118 filas.\n"
     ]
    }
   ],
   "source": [
    "# Scraping de Lamine Yamal\n",
    "\n",
    "import pandas as pd\n",
    "from pathlib import Path\n",
    "import time\n",
    "\n",
    "# Rutas y carpeta\n",
    "project_root = Path().resolve()\n",
    "lamine_raw_path = project_root / \"data/raw/lamine_raw_data.csv\"\n",
    "lamine_raw_path.parent.mkdir(parents=True, exist_ok=True)\n",
    "\n",
    "# URLs de FBRef\n",
    "LAMINE_URLS = [\n",
    "    \"https://fbref.com/en/players/82ec26c1/matchlogs/2022-2023/Lamine-Yamal-Match-Logs\",\n",
    "    \"https://fbref.com/en/players/82ec26c1/matchlogs/2023-2024/Lamine-Yamal-Match-Logs\",\n",
    "    \"https://fbref.com/en/players/82ec26c1/matchlogs/2024-2025/Lamine-Yamal-Match-Logs\"\n",
    "]\n",
    "\n",
    "def scrape_lamine_data():\n",
    "    all_data = []\n",
    "\n",
    "    for url in LAMINE_URLS:\n",
    "        print(f\"🌍 Scrapeando Lamine: {url}\")\n",
    "        try:\n",
    "            df = pd.read_html(url, attrs={\"id\": \"matchlogs_all\"})[0]\n",
    "\n",
    "            if df.columns.nlevels > 1:\n",
    "                df.columns = df.columns.get_level_values(-1)\n",
    "\n",
    "            df = df[df[\"Date\"].notna()]\n",
    "            season = url.split(\"/\")[-2]\n",
    "            df[\"Season\"] = season\n",
    "            all_data.append(df)\n",
    "\n",
    "        except Exception as e:\n",
    "            print(f\"❌ Error en {url}: {e}\")\n",
    "\n",
    "        time.sleep(1)\n",
    "\n",
    "    if not all_data:\n",
    "        print(\"⚠️ No se encontraron datos de Lamine.\")\n",
    "        return\n",
    "\n",
    "    df_yamal = pd.concat(all_data, ignore_index=True)\n",
    "    df_yamal.to_csv(lamine_raw_path, index=False)\n",
    "    print(f\"✅ CSV guardado en {lamine_raw_path} con {len(df_yamal)} filas.\")\n",
    "\n",
    "# Ejecutar\n",
    "scrape_lamine_data()\n"
   ]
  },
  {
   "cell_type": "code",
   "execution_count": 5,
   "metadata": {},
   "outputs": [
    {
     "name": "stdout",
     "output_type": "stream",
     "text": [
      "         Date  Day     Comp         Round Venue Result      Squad  \\\n",
      "0  2023-04-23  Sun  La Liga  Matchweek 30  Home  W 1–0  Barcelona   \n",
      "1  2023-04-26  Wed  La Liga  Matchweek 31  Away  L 1–2  Barcelona   \n",
      "\n",
      "          Opponent Start                                  Pos  ...  \\\n",
      "0  Atlético Madrid     N  On matchday squad, but did not play  ...   \n",
      "1   Rayo Vallecano     N  On matchday squad, but did not play  ...   \n",
      "\n",
      "                                   Cmp                                  Att  \\\n",
      "0  On matchday squad, but did not play  On matchday squad, but did not play   \n",
      "1  On matchday squad, but did not play  On matchday squad, but did not play   \n",
      "\n",
      "                                  Cmp%                                 PrgP  \\\n",
      "0  On matchday squad, but did not play  On matchday squad, but did not play   \n",
      "1  On matchday squad, but did not play  On matchday squad, but did not play   \n",
      "\n",
      "                               Carries                                 PrgC  \\\n",
      "0  On matchday squad, but did not play  On matchday squad, but did not play   \n",
      "1  On matchday squad, but did not play  On matchday squad, but did not play   \n",
      "\n",
      "                                 Att.1                                 Succ  \\\n",
      "0  On matchday squad, but did not play  On matchday squad, but did not play   \n",
      "1  On matchday squad, but did not play  On matchday squad, but did not play   \n",
      "\n",
      "   Match Report     Season  \n",
      "0  Match Report  2022-2023  \n",
      "1  Match Report  2022-2023  \n",
      "\n",
      "[2 rows x 38 columns]\n"
     ]
    }
   ],
   "source": [
    "df_yamal = pd.read_csv(\"data/raw/lamine_raw_data.csv\")\n",
    "print(df_yamal.head(2))  # Verificar que se haya cargado correctamente"
   ]
  },
  {
   "cell_type": "code",
   "execution_count": 6,
   "metadata": {},
   "outputs": [],
   "source": [
    "# Procesar datos de Lamine Yamal\n",
    "\n",
    "import pandas as pd\n",
    "from pathlib import Path\n",
    "from datetime import datetime\n",
    "\n",
    "def process_lamine_data(input_rel=\"data/raw/lamine_raw_data.csv\", output_rel=\"data/processed/lamine_cleaned_data.csv\", return_df=True, decimal=\",\"):\n",
    "    project_root = Path().resolve()\n",
    "    input_path = project_root / input_rel\n",
    "    output_path = project_root / output_rel\n",
    "    output_path.parent.mkdir(parents=True, exist_ok=True)\n",
    "\n",
    "    df_yamal = pd.read_csv(input_path)\n",
    "    birthdate = pd.to_datetime(\"2007-07-13\")\n",
    "\n",
    "    df_yamal[\"Date\"] = pd.to_datetime(df_yamal[\"Date\"], errors=\"coerce\")\n",
    "\n",
    "    def asignar_temporada(fecha):\n",
    "        if pd.isna(fecha):\n",
    "            return None\n",
    "        year = fecha.year\n",
    "        return f\"{year}-{year + 1}\" if fecha.month >= 8 else f\"{year - 1}-{year}\"\n",
    "\n",
    "    df_yamal[\"Season\"] = df_yamal[\"Date\"].apply(asignar_temporada)\n",
    "    df_yamal[\"Age\"] = df_yamal[\"Date\"].apply(lambda d: round((d - birthdate).days / 365.25, 2) if pd.notna(d) else None)\n",
    "    df_yamal[\"Lineup\"] = df_yamal[\"Start\"].apply(lambda s: \"Starter\" if s == \"Y\" else \"Substitute\")\n",
    "\n",
    "    df_yamal[\"Squad\"] = df_yamal[\"Squad\"].str.replace(r\"^[a-z]{2,3}\\s\", \"\", regex=True)\n",
    "    df_yamal[\"Opponent\"] = df_yamal[\"Opponent\"].str.replace(r\"^[a-z]{2,3}\\s\", \"\", regex=True)\n",
    "\n",
    "    TEAM_NAME_FIXES = {\n",
    "        \"Barcelona\": \"FC Barcelona\",\n",
    "        \"Betis\": \"Real Betis\",\n",
    "        \"Athletic Club\": \"Athletic de Bilbao\",\n",
    "        \"Celta Vigo\": \"Celta de Vigo\",\n",
    "        \"Paris S-G\": \"Paris Saint-Germain\",\n",
    "        \"Shakhtar\": \"Shakhtar Donetsk\",\n",
    "        \"Almeria\": \"UD Almería\",\n",
    "        \"Porto\": \"FC Porto\",\n",
    "        \"Mallorca\": \"Real Mallorca\",\n",
    "        \"Antwerp\": \"Antwerp\",\n",
    "        \"Osasuna\": \"Osasuna\",\n",
    "        \"Napoli\": \"Napoli\",\n",
    "        \"Las Palmas\": \"Las Palmas\",\n",
    "        \"Granada\": \"Granada\",\n",
    "        \"Valencia\": \"Valencia\",\n",
    "        \"Real Sociedad\": \"Real Sociedad\",\n",
    "        \"Atlético Madrid\": \"Atlético Madrid\",\n",
    "        \"Real Madrid\": \"Real Madrid\",\n",
    "        \"Sevilla\": \"Sevilla\",\n",
    "        \"Girona\": \"Girona\",\n",
    "        \"Alavés\": \"Alavés\",\n",
    "        \"Rayo Vallecano\": \"Rayo Vallecano\",\n",
    "        \"Getafe\": \"Getafe\",\n",
    "        \"Cádiz\": \"Cádiz\",\n",
    "        \"Bayern Munich\": \"Bayern München\",\n",
    "        \"Young Boys\": \"Young Boys\",\n",
    "        \"Dortmund\": \"Borussia Dortmund\",\n",
    "        \"Red Star\": \"Red Star Belgrade\",\n",
    "        \"Valladolid\": \"Real Valladolid\",\n",
    "        \"Andorra\": \"Andorra\",\n",
    "        \"Cyprus\": \"Cyprus\",\n",
    "        \"Georgia\": \"Georgia\",\n",
    "        \"Denmark\": \"Denmark\",\n",
    "        \"Serbia\": \"Serbia\",\n",
    "        \"Monaco\": \"AS Monaco\",\n",
    "        \"Atalanta\": \"Atalanta\",\n",
    "        \"England\": \"England\",\n",
    "        \"Northern Ireland\": \"Northern Ireland\"\n",
    "    }\n",
    "\n",
    "    df_yamal[\"Squad\"] = df_yamal[\"Squad\"].replace(TEAM_NAME_FIXES)\n",
    "    df_yamal[\"Opponent\"] = df_yamal[\"Opponent\"].replace(TEAM_NAME_FIXES)\n",
    "\n",
    "    def limpiar_resultado(valor):\n",
    "        if pd.isna(valor):\n",
    "            return None\n",
    "        valor = str(valor).strip()\n",
    "        if valor.startswith((\"W\", \"D\", \"L\")):\n",
    "            partes = valor.split(\" \")\n",
    "            return partes[1] if len(partes) > 1 else None\n",
    "        if valor.isdigit():\n",
    "            return f\"{valor}-{valor}\"\n",
    "        return valor.replace(\"–\", \"-\")\n",
    "\n",
    "    df_yamal[\"Result\"] = df_yamal[\"Result\"].apply(limpiar_resultado)\n",
    "\n",
    "    COMP_FIXES = {\n",
    "        \"La Liga\": \"La Liga\",\n",
    "        \"Champions Lg\": \"UEFA Champions League\",\n",
    "        \"Copa del Rey\": \"Copa del Rey\",\n",
    "        \"Supercopa de España\": \"Spanish Super Cup\",\n",
    "        \"Friendlies (M)\": \"International friendly\",\n",
    "        \"UEFA Nations League\": \"UEFA Nations League\",\n",
    "        \"UEFA Euro Qualifying\": \"UEFA Euro Qualification\",\n",
    "        \"UEFA Euro\": \"UEFA Euro\"\n",
    "    }\n",
    "    df_yamal[\"Comp\"] = df_yamal[\"Comp\"].replace(COMP_FIXES)\n",
    "\n",
    "    df_cleaned = pd.DataFrame()\n",
    "    df_cleaned[\"Date\"] = df_yamal[\"Date\"]\n",
    "    df_cleaned[\"Season\"] = df_yamal[\"Season\"]\n",
    "    df_cleaned[\"Age\"] = df_yamal[\"Age\"].apply(lambda x: f\"{x:.2f}\".replace(\".\", \",\") if pd.notna(x) else \"\")\n",
    "    df_cleaned[\"Player\"] = \"Lamine Yamal\"\n",
    "\n",
    "    df_cleaned[\"Home Team\"] = df_yamal.apply(lambda row: row[\"Squad\"] if row[\"Venue\"] == \"Home\" else row[\"Opponent\"], axis=1)\n",
    "    df_cleaned[\"Away Team\"] = df_yamal.apply(lambda row: row[\"Opponent\"] if row[\"Venue\"] == \"Home\" else row[\"Squad\"], axis=1)\n",
    "    df_cleaned[\"Competition\"] = df_yamal[\"Comp\"]\n",
    "    df_cleaned[\"Result\"] = df_yamal[\"Result\"]\n",
    "    df_cleaned[\"Lineup\"] = df_yamal[\"Lineup\"]\n",
    "\n",
    "    for col in [\"Min\", \"Gls\", \"Ast\", \"CrdY\"]:\n",
    "        df_cleaned[col] = pd.to_numeric(df_yamal.get(col, 0), errors=\"coerce\").fillna(0).astype(int)\n",
    "\n",
    "    df_cleaned.rename(columns={\n",
    "        \"Min\": \"Minutes\",\n",
    "        \"Gls\": \"Goals\",\n",
    "        \"Ast\": \"Assists\",\n",
    "        \"CrdY\": \"Cards\"\n",
    "    }, inplace=True)\n",
    "\n",
    "    df_cleaned[\"Player_Team\"] = df_cleaned.apply(lambda row: \"Spain\" if \"international\" in row[\"Competition\"].lower() else \"FC Barcelona\", axis=1)\n",
    "    df_cleaned[\"Home/Away\"] = df_cleaned.apply(lambda row: \"Home\" if row[\"Home Team\"] == row[\"Player_Team\"] else \"Away\", axis=1)\n",
    "    df_cleaned[\"Rival_Team_Name\"] = df_cleaned.apply(lambda row: row[\"Away Team\"] if row[\"Player_Team\"] == row[\"Home Team\"] else row[\"Home Team\"], axis=1)\n",
    "\n",
    "    df_cleaned.to_csv(output_path, index=False, sep=\",\", encoding=\"utf-8\", decimal=decimal)\n",
    "    print(f\"✅ Datos procesados guardados en: {output_path}\")\n",
    "    if return_df:\n",
    "        return df_cleaned\n",
    "\n",
    "\n",
    "\n"
   ]
  },
  {
   "cell_type": "code",
   "execution_count": 7,
   "metadata": {},
   "outputs": [
    {
     "name": "stdout",
     "output_type": "stream",
     "text": [
      "         Date     Season    Age        Player       Home Team  \\\n",
      "0  2023-04-23  2022-2023  15,78  Lamine Yamal    FC Barcelona   \n",
      "1  2023-04-26  2022-2023  15,79  Lamine Yamal  Rayo Vallecano   \n",
      "\n",
      "         Away Team Competition Result      Lineup  Minutes  Goals  Assists  \\\n",
      "0  Atlético Madrid     La Liga    1–0  Substitute        0      0        0   \n",
      "1     FC Barcelona     La Liga    1–2  Substitute        0      0        0   \n",
      "\n",
      "   Cards   Player_Team Home/Away  Rival_Team_Name  \n",
      "0      0  FC Barcelona      Home  Atlético Madrid  \n",
      "1      0  FC Barcelona      Away   Rayo Vallecano  \n"
     ]
    }
   ],
   "source": [
    "df_cleaned = pd.read_csv(\"data/processed/lamine_cleaned_data.csv\")\n",
    "print(df_cleaned.head(2))  # Verificar que se haya cargado correctamente"
   ]
  },
  {
   "cell_type": "code",
   "execution_count": 8,
   "metadata": {},
   "outputs": [
    {
     "name": "stdout",
     "output_type": "stream",
     "text": [
      "✅ Datos procesados guardados en: F:\\JCMDataCenter\\Cursos\\Evolve Academy\\Data Scientist IA\\Evolve_Proyecto_Abril\\data\\processed\\lamine_cleaned_data.csv\n",
      "        Date     Season    Age        Player       Home Team        Away Team  \\\n",
      "0 2023-04-23  2022-2023  15,78  Lamine Yamal    FC Barcelona  Atlético Madrid   \n",
      "1 2023-04-26  2022-2023  15,79  Lamine Yamal  Rayo Vallecano     FC Barcelona   \n",
      "2 2023-04-29  2022-2023  15,79  Lamine Yamal    FC Barcelona       Real Betis   \n",
      "3 2023-05-02  2022-2023  15,80  Lamine Yamal    FC Barcelona          Osasuna   \n",
      "4 2023-08-13  2023-2024  16,08  Lamine Yamal          Getafe     FC Barcelona   \n",
      "\n",
      "  Competition Result      Lineup  Minutes  Goals  Assists  Cards  \\\n",
      "0     La Liga    1–0  Substitute        0      0        0      0   \n",
      "1     La Liga    1–2  Substitute        0      0        0      0   \n",
      "2     La Liga    4–0  Substitute        8      0        0      0   \n",
      "3     La Liga    1–0  Substitute        0      0        0      0   \n",
      "4     La Liga    0–0  Substitute       15      0        0      0   \n",
      "\n",
      "    Player_Team Home/Away  Rival_Team_Name  \n",
      "0  FC Barcelona      Home  Atlético Madrid  \n",
      "1  FC Barcelona      Away   Rayo Vallecano  \n",
      "2  FC Barcelona      Home       Real Betis  \n",
      "3  FC Barcelona      Home          Osasuna  \n",
      "4  FC Barcelona      Away           Getafe  \n",
      "✅ El DataFrame procesado tiene 118 filas.\n"
     ]
    }
   ],
   "source": [
    "df_cleaned_yamal = process_lamine_data(return_df=True)\n",
    "print(df_cleaned_yamal.head())\n",
    "print(f\"✅ El DataFrame procesado tiene {len(df_cleaned_yamal)} filas.\")"
   ]
  },
  {
   "cell_type": "code",
   "execution_count": 9,
   "metadata": {},
   "outputs": [
    {
     "name": "stdout",
     "output_type": "stream",
     "text": [
      "🌐 Scrapeando Messi: https://www.messistats.com/en/games/0/0/all/0/2/0/t/0/0/0/1\n",
      "🌐 Scrapeando Messi: https://www.messistats.com/en/games/0/0/all/0/3/0/t/0/0/0/1\n",
      "🌐 Scrapeando Messi: https://www.messistats.com/en/games/0/0/all/0/4/0/t/0/0/0/1\n",
      "🌐 Scrapeando Messi: https://www.messistats.com/en/games/0/0/all/0/5/0/t/0/0/0/1\n",
      "🌐 Scrapeando Messi: https://www.messistats.com/en/games/0/0/all/0/6/0/t/0/0/0/1\n",
      "🌐 Scrapeando Messi: https://www.messistats.com/en/games/0/0/all/0/7/0/t/0/0/0/1\n",
      "🌐 Scrapeando Messi: https://www.messistats.com/en/games/0/0/all/0/8/0/t/0/0/0/1\n",
      "🌐 Scrapeando Messi: https://www.messistats.com/en/games/0/0/all/0/9/0/t/0/0/0/1\n",
      "🌐 Scrapeando Messi: https://www.messistats.com/en/games/0/0/all/0/10/0/t/0/0/0/1\n",
      "🌐 Scrapeando Messi: https://www.messistats.com/en/games/0/0/all/0/11/0/t/0/0/0/1\n",
      "🌐 Scrapeando Messi: https://www.messistats.com/en/games/0/0/all/0/12/0/t/0/0/0/1\n",
      "🌐 Scrapeando Messi: https://www.messistats.com/en/games/0/0/all/0/13/0/t/0/0/0/1\n",
      "🌐 Scrapeando Messi: https://www.messistats.com/en/games/0/0/all/0/14/0/t/0/0/0/1\n",
      "🌐 Scrapeando Messi: https://www.messistats.com/en/games/0/0/all/0/15/0/t/0/0/0/1\n",
      "🌐 Scrapeando Messi: https://www.messistats.com/en/games/0/0/all/0/16/0/t/0/0/0/1\n",
      "🌐 Scrapeando Messi: https://www.messistats.com/en/games/0/0/all/0/17/0/t/0/0/0/1\n",
      "🌐 Scrapeando Messi: https://www.messistats.com/en/games/0/0/all/0/18/0/t/0/0/0/1\n",
      "🌐 Scrapeando Messi: https://www.messistats.com/en/games/0/0/all/0/19/0/t/0/0/0/1\n",
      "🌐 Scrapeando Messi: https://www.messistats.com/en/games/0/0/all/0/20/0/t/0/0/0/1\n",
      "🌐 Scrapeando Messi: https://www.messistats.com/en/games/0/0/all/0/21/0/t/0/0/0/1\n",
      "🌐 Scrapeando Messi: https://www.messistats.com/en/games/0/0/all/0/24/0/t/0/0/0/1\n",
      "✅ CSV actualizado: F:\\JCMDataCenter\\Cursos\\Evolve Academy\\Data Scientist IA\\Evolve_Proyecto_Abril\\data\\raw\\messi_raw_data.csv con 1092 registros.\n"
     ]
    }
   ],
   "source": [
    "# Scraping de Messi\n",
    "\n",
    "import requests\n",
    "from bs4 import BeautifulSoup\n",
    "import pandas as pd\n",
    "from pathlib import Path\n",
    "\n",
    "# Rutas y carpeta\n",
    "project_root = Path().resolve()\n",
    "messi_raw_path = project_root / \"data/raw/messi_raw_data.csv\"\n",
    "messi_raw_path.parent.mkdir(parents=True, exist_ok=True)\n",
    "\n",
    "# URLs de todas las temporadas de Messi\n",
    "URL_LIST_MESSI = [\n",
    "    \"https://www.messistats.com/en/games/0/0/all/0/2/0/t/0/0/0/1\",\n",
    "    \"https://www.messistats.com/en/games/0/0/all/0/3/0/t/0/0/0/1\",\n",
    "    \"https://www.messistats.com/en/games/0/0/all/0/4/0/t/0/0/0/1\",\n",
    "    \"https://www.messistats.com/en/games/0/0/all/0/5/0/t/0/0/0/1\",\n",
    "    \"https://www.messistats.com/en/games/0/0/all/0/6/0/t/0/0/0/1\",\n",
    "    \"https://www.messistats.com/en/games/0/0/all/0/7/0/t/0/0/0/1\",\n",
    "    \"https://www.messistats.com/en/games/0/0/all/0/8/0/t/0/0/0/1\",\n",
    "    \"https://www.messistats.com/en/games/0/0/all/0/9/0/t/0/0/0/1\",\n",
    "    \"https://www.messistats.com/en/games/0/0/all/0/10/0/t/0/0/0/1\",\n",
    "    \"https://www.messistats.com/en/games/0/0/all/0/11/0/t/0/0/0/1\",\n",
    "    \"https://www.messistats.com/en/games/0/0/all/0/12/0/t/0/0/0/1\",\n",
    "    \"https://www.messistats.com/en/games/0/0/all/0/13/0/t/0/0/0/1\",\n",
    "    \"https://www.messistats.com/en/games/0/0/all/0/14/0/t/0/0/0/1\",\n",
    "    \"https://www.messistats.com/en/games/0/0/all/0/15/0/t/0/0/0/1\",\n",
    "    \"https://www.messistats.com/en/games/0/0/all/0/16/0/t/0/0/0/1\",\n",
    "    \"https://www.messistats.com/en/games/0/0/all/0/17/0/t/0/0/0/1\",\n",
    "    \"https://www.messistats.com/en/games/0/0/all/0/18/0/t/0/0/0/1\",\n",
    "    \"https://www.messistats.com/en/games/0/0/all/0/19/0/t/0/0/0/1\",\n",
    "    \"https://www.messistats.com/en/games/0/0/all/0/20/0/t/0/0/0/1\",\n",
    "    \"https://www.messistats.com/en/games/0/0/all/0/21/0/t/0/0/0/1\",\n",
    "    \"https://www.messistats.com/en/games/0/0/all/0/24/0/t/0/0/0/1\",\n",
    "]\n",
    "\n",
    "def scrape_messi_data():\n",
    "    all_data = []\n",
    "\n",
    "    for url in URL_LIST_MESSI:\n",
    "        print(f\"🌐 Scrapeando Messi: {url}\")\n",
    "        response = requests.get(url)\n",
    "        soup = BeautifulSoup(response.content, \"html.parser\")\n",
    "\n",
    "        headers = [\n",
    "            \"Index\", \"Date\", \"Competition\", \"Home Team\", \"Result\", \"Away Team\",\n",
    "            \"Lineup\", \"Minutes\", \"Goals\", \"Assists\", \"Cards\", \"Jersey\", \"Extra\"\n",
    "        ]\n",
    "\n",
    "        data = []\n",
    "        for row in soup.find_all(\"tr\"):\n",
    "            cols = [col.text.strip() for col in row.find_all(\"td\")]\n",
    "            if cols:\n",
    "                data.append(cols)\n",
    "\n",
    "        if data:\n",
    "            df = pd.DataFrame(data, columns=headers[:len(data[0])])\n",
    "            all_data.append(df)\n",
    "\n",
    "    if not all_data:\n",
    "        print(\"⚠️ No se encontraron datos.\")\n",
    "        return\n",
    "\n",
    "    df_total = pd.concat(all_data, ignore_index=True)\n",
    "\n",
    "    if messi_raw_path.exists():\n",
    "        df_existing = pd.read_csv(messi_raw_path, dtype=str, on_bad_lines='skip')\n",
    "        df_combined = pd.concat([df_existing, df_total], ignore_index=True)\n",
    "    else:\n",
    "        df_combined = df_total\n",
    "\n",
    "    df_combined.drop_duplicates(subset=[\"Date\", \"Home Team\", \"Away Team\"], keep=\"last\", inplace=True)\n",
    "    df_combined.to_csv(messi_raw_path, index=False, encoding=\"utf-8\")\n",
    "    print(f\"✅ CSV actualizado: {messi_raw_path} con {len(df_combined)} registros.\")\n",
    "\n",
    "# Ejecutar\n",
    "scrape_messi_data()\n",
    "\n"
   ]
  },
  {
   "cell_type": "code",
   "execution_count": 10,
   "metadata": {},
   "outputs": [
    {
     "name": "stdout",
     "output_type": "stream",
     "text": [
      "✅ Datos procesados guardados en: F:\\JCMDataCenter\\Cursos\\Evolve Academy\\Data Scientist IA\\Evolve_Proyecto_Abril\\data\\processed\\messi_cleaned_data.csv\n"
     ]
    }
   ],
   "source": [
    "# Procesamiento datos de Messi\n",
    "\n",
    "import pandas as pd\n",
    "from pathlib import Path\n",
    "from datetime import datetime\n",
    "\n",
    "# -------------------- FUNCIONES AUXILIARES --------------------\n",
    "\n",
    "def deducir_equipo_jugador(row, jugador=\"Messi\"):\n",
    "    temporada = row[\"Season\"]\n",
    "    comp = str(row[\"Competition\"])\n",
    "    home = row[\"Home Team\"]\n",
    "    away = row[\"Away Team\"]\n",
    "\n",
    "    if pd.isna(temporada) or pd.isna(comp):\n",
    "        return \"Unknown\"\n",
    "\n",
    "    if jugador == \"Messi\":\n",
    "        if \"argentina\" in comp.lower() or home == \"Argentina\" or away == \"Argentina\":\n",
    "            return \"Argentina\"\n",
    "        elif temporada <= \"2020-2021\":\n",
    "            return \"FC Barcelona\"\n",
    "        elif temporada in [\"2021-2022\", \"2022-2023\"]:\n",
    "            return \"Paris Saint-Germain\"\n",
    "        elif temporada >= \"2023-2024\":\n",
    "            return \"Inter Miami CF\"\n",
    "\n",
    "    return \"Unknown\"\n",
    "\n",
    "def obtener_rival(row):\n",
    "    player_team = row[\"Player_Team\"]\n",
    "    home = row[\"Home Team\"]\n",
    "    away = row[\"Away Team\"]\n",
    "\n",
    "    if pd.isna(player_team) or pd.isna(home) or pd.isna(away):\n",
    "        return None\n",
    "\n",
    "    if player_team == home and away != player_team:\n",
    "        return away\n",
    "    elif player_team == away and home != player_team:\n",
    "        return home\n",
    "    else:\n",
    "        return None\n",
    "\n",
    "# -------------------- PROCESAMIENTO MESSI --------------------\n",
    "\n",
    "def process_messi_data(input_rel=\"data/raw/messi_raw_data.csv\", output_rel=\"data/processed/messi_cleaned_data.csv\", return_df=False, decimal=\",\"):\n",
    "    project_root = Path().resolve()\n",
    "    input_path = project_root / input_rel\n",
    "    output_path = project_root / output_rel\n",
    "    output_path.parent.mkdir(parents=True, exist_ok=True)\n",
    "\n",
    "    df = pd.read_csv(input_path)\n",
    "\n",
    "    df[\"Competition\"] = df[\"Competition\"].apply(lambda x: x.split(\"\\n\")[1].strip() if isinstance(x, str) and \"\\n\" in x else x)\n",
    "    df[\"Lineup\"] = df[\"Lineup\"].apply(lambda x: x.split(\"\\n\")[1].strip() if isinstance(x, str) and \"\\n\" in x else x)\n",
    "\n",
    "    df.drop(columns=[\"Index\", \"Jersey\", \"Extra\"], inplace=True, errors=\"ignore\")\n",
    "\n",
    "    for col in [\"Goals\", \"Assists\", \"Cards\", \"Minutes\"]:\n",
    "        df[col] = pd.to_numeric(df[col], errors=\"coerce\")\n",
    "\n",
    "    df[\"Date\"] = pd.to_datetime(df[\"Date\"], format=\"%d-%m-%Y\", errors=\"coerce\", dayfirst=True)\n",
    "\n",
    "    def asignar_temporada(fecha):\n",
    "        if pd.isna(fecha):\n",
    "            return None\n",
    "        if datetime(2019, 8, 15) <= fecha <= datetime(2020, 8, 14):\n",
    "            return \"2019-2020\"\n",
    "        year = fecha.year\n",
    "        return f\"{year}-{year + 1}\" if fecha.month >= 8 else f\"{year - 1}-{year}\"\n",
    "\n",
    "    df[\"Season\"] = df[\"Date\"].apply(asignar_temporada)\n",
    "\n",
    "    birthdate = pd.to_datetime(\"1987-06-24\")\n",
    "    df[\"Age\"] = df[\"Date\"].apply(lambda d: round((d - birthdate).days / 365.25, 2) if pd.notna(d) else None)\n",
    "    df[\"Player\"] = \"Leo Messi\"\n",
    "\n",
    "    df[\"Player_Team\"] = df.apply(lambda row: deducir_equipo_jugador(row, \"Messi\"), axis=1)\n",
    "    df[\"Home/Away\"] = df.apply(lambda row: \"Home\" if row[\"Home Team\"] == row[\"Player_Team\"] else \"Away\", axis=1)\n",
    "    df[\"Rival_Team_Name\"] = df.apply(obtener_rival, axis=1)\n",
    "\n",
    "    df[\"Age\"] = df[\"Age\"].apply(lambda x: f\"{x:.2f}\".replace(\".\", \",\") if pd.notna(x) else \"\")\n",
    "\n",
    "    cols = [\"Date\", \"Season\", \"Age\", \"Player\", \"Player_Team\", \"Home/Away\", \"Competition\", \"Home Team\", \"Result\", \"Away Team\", \"Rival_Team_Name\", \"Lineup\", \"Minutes\", \"Goals\", \"Assists\", \"Cards\"]\n",
    "    df = df[cols]\n",
    "\n",
    "    df.to_csv(output_path, index=False, sep=\",\", decimal=decimal, encoding=\"utf-8\")\n",
    "    print(f\"✅ Datos procesados guardados en: {output_path}\")\n",
    "    if return_df:\n",
    "        return df\n",
    "\n",
    "# Ejecutar procesamiento\n",
    "process_messi_data()\n"
   ]
  },
  {
   "cell_type": "code",
   "execution_count": 11,
   "metadata": {},
   "outputs": [
    {
     "name": "stdout",
     "output_type": "stream",
     "text": [
      "✅ Datos procesados guardados en: F:\\JCMDataCenter\\Cursos\\Evolve Academy\\Data Scientist IA\\Evolve_Proyecto_Abril\\data\\processed\\messi_cleaned_data.csv\n",
      "✅ Datos procesados guardados en: F:\\JCMDataCenter\\Cursos\\Evolve Academy\\Data Scientist IA\\Evolve_Proyecto_Abril\\data\\processed\\messi_cleaned_data.csv\n",
      "✅ El DataFrame procesado tiene 1092 filas.\n"
     ]
    },
    {
     "data": {
      "text/html": [
       "<div>\n",
       "<style scoped>\n",
       "    .dataframe tbody tr th:only-of-type {\n",
       "        vertical-align: middle;\n",
       "    }\n",
       "\n",
       "    .dataframe tbody tr th {\n",
       "        vertical-align: top;\n",
       "    }\n",
       "\n",
       "    .dataframe thead th {\n",
       "        text-align: right;\n",
       "    }\n",
       "</style>\n",
       "<table border=\"1\" class=\"dataframe\">\n",
       "  <thead>\n",
       "    <tr style=\"text-align: right;\">\n",
       "      <th></th>\n",
       "      <th>Date</th>\n",
       "      <th>Season</th>\n",
       "      <th>Age</th>\n",
       "      <th>Player</th>\n",
       "      <th>Player_Team</th>\n",
       "      <th>Home/Away</th>\n",
       "      <th>Competition</th>\n",
       "      <th>Home Team</th>\n",
       "      <th>Result</th>\n",
       "      <th>Away Team</th>\n",
       "      <th>Rival_Team_Name</th>\n",
       "      <th>Lineup</th>\n",
       "      <th>Minutes</th>\n",
       "      <th>Goals</th>\n",
       "      <th>Assists</th>\n",
       "      <th>Cards</th>\n",
       "    </tr>\n",
       "  </thead>\n",
       "  <tbody>\n",
       "    <tr>\n",
       "      <th>0</th>\n",
       "      <td>2005-05-01</td>\n",
       "      <td>2004-2005</td>\n",
       "      <td>17,85</td>\n",
       "      <td>Leo Messi</td>\n",
       "      <td>FC Barcelona</td>\n",
       "      <td>Home</td>\n",
       "      <td>La Liga</td>\n",
       "      <td>FC Barcelona</td>\n",
       "      <td>2-0</td>\n",
       "      <td>Albacete</td>\n",
       "      <td>Albacete</td>\n",
       "      <td>Substitute</td>\n",
       "      <td>3</td>\n",
       "      <td>1</td>\n",
       "      <td>0</td>\n",
       "      <td>0</td>\n",
       "    </tr>\n",
       "    <tr>\n",
       "      <th>1</th>\n",
       "      <td>2005-04-17</td>\n",
       "      <td>2004-2005</td>\n",
       "      <td>17,82</td>\n",
       "      <td>Leo Messi</td>\n",
       "      <td>FC Barcelona</td>\n",
       "      <td>Home</td>\n",
       "      <td>La Liga</td>\n",
       "      <td>FC Barcelona</td>\n",
       "      <td>2-0</td>\n",
       "      <td>Getafe</td>\n",
       "      <td>Getafe</td>\n",
       "      <td>Substitute</td>\n",
       "      <td>5</td>\n",
       "      <td>0</td>\n",
       "      <td>0</td>\n",
       "      <td>0</td>\n",
       "    </tr>\n",
       "    <tr>\n",
       "      <th>2</th>\n",
       "      <td>2004-12-21</td>\n",
       "      <td>2004-2005</td>\n",
       "      <td>17,49</td>\n",
       "      <td>Leo Messi</td>\n",
       "      <td>FC Barcelona</td>\n",
       "      <td>Home</td>\n",
       "      <td>La Liga</td>\n",
       "      <td>FC Barcelona</td>\n",
       "      <td>2-1</td>\n",
       "      <td>Levante</td>\n",
       "      <td>Levante</td>\n",
       "      <td>Substitute</td>\n",
       "      <td>33</td>\n",
       "      <td>0</td>\n",
       "      <td>0</td>\n",
       "      <td>0</td>\n",
       "    </tr>\n",
       "    <tr>\n",
       "      <th>3</th>\n",
       "      <td>2004-12-11</td>\n",
       "      <td>2004-2005</td>\n",
       "      <td>17,47</td>\n",
       "      <td>Leo Messi</td>\n",
       "      <td>FC Barcelona</td>\n",
       "      <td>Away</td>\n",
       "      <td>La Liga</td>\n",
       "      <td>Albacete</td>\n",
       "      <td>1-2</td>\n",
       "      <td>FC Barcelona</td>\n",
       "      <td>Albacete</td>\n",
       "      <td>Substitute</td>\n",
       "      <td>1</td>\n",
       "      <td>0</td>\n",
       "      <td>0</td>\n",
       "      <td>0</td>\n",
       "    </tr>\n",
       "    <tr>\n",
       "      <th>4</th>\n",
       "      <td>2004-12-07</td>\n",
       "      <td>2004-2005</td>\n",
       "      <td>17,46</td>\n",
       "      <td>Leo Messi</td>\n",
       "      <td>FC Barcelona</td>\n",
       "      <td>Away</td>\n",
       "      <td>UEFA Champions League</td>\n",
       "      <td>Shakhtar Donetsk</td>\n",
       "      <td>2-0</td>\n",
       "      <td>FC Barcelona</td>\n",
       "      <td>Shakhtar Donetsk</td>\n",
       "      <td>Starter</td>\n",
       "      <td>90</td>\n",
       "      <td>0</td>\n",
       "      <td>0</td>\n",
       "      <td>0</td>\n",
       "    </tr>\n",
       "  </tbody>\n",
       "</table>\n",
       "</div>"
      ],
      "text/plain": [
       "        Date     Season    Age     Player   Player_Team Home/Away  \\\n",
       "0 2005-05-01  2004-2005  17,85  Leo Messi  FC Barcelona      Home   \n",
       "1 2005-04-17  2004-2005  17,82  Leo Messi  FC Barcelona      Home   \n",
       "2 2004-12-21  2004-2005  17,49  Leo Messi  FC Barcelona      Home   \n",
       "3 2004-12-11  2004-2005  17,47  Leo Messi  FC Barcelona      Away   \n",
       "4 2004-12-07  2004-2005  17,46  Leo Messi  FC Barcelona      Away   \n",
       "\n",
       "             Competition         Home Team Result     Away Team  \\\n",
       "0                La Liga      FC Barcelona    2-0      Albacete   \n",
       "1                La Liga      FC Barcelona    2-0        Getafe   \n",
       "2                La Liga      FC Barcelona    2-1       Levante   \n",
       "3                La Liga          Albacete    1-2  FC Barcelona   \n",
       "4  UEFA Champions League  Shakhtar Donetsk    2-0  FC Barcelona   \n",
       "\n",
       "    Rival_Team_Name      Lineup  Minutes  Goals  Assists  Cards  \n",
       "0          Albacete  Substitute        3      1        0      0  \n",
       "1            Getafe  Substitute        5      0        0      0  \n",
       "2           Levante  Substitute       33      0        0      0  \n",
       "3          Albacete  Substitute        1      0        0      0  \n",
       "4  Shakhtar Donetsk     Starter       90      0        0      0  "
      ]
     },
     "execution_count": 11,
     "metadata": {},
     "output_type": "execute_result"
    }
   ],
   "source": [
    "process_messi_data(input_rel=\"data/raw/messi_raw_data.csv\", output_rel=\"data/processed/messi_cleaned_data.csv\", return_df=False, decimal=\",\")\n",
    "\n",
    "df_cleaned = process_messi_data(return_df=True)\n",
    "print(f\"✅ El DataFrame procesado tiene {len(df_cleaned)} filas.\")\n",
    "df_cleaned.head()\n"
   ]
  },
  {
   "cell_type": "code",
   "execution_count": 12,
   "metadata": {},
   "outputs": [
    {
     "name": "stdout",
     "output_type": "stream",
     "text": [
      "✅ Datos procesados guardados en: F:\\JCMDataCenter\\Cursos\\Evolve Academy\\Data Scientist IA\\Evolve_Proyecto_Abril\\data\\processed\\messi_cleaned_data.csv\n",
      "📊 Partidos en la temporada 2019-2020: 46\n"
     ]
    },
    {
     "data": {
      "text/html": [
       "<div>\n",
       "<style scoped>\n",
       "    .dataframe tbody tr th:only-of-type {\n",
       "        vertical-align: middle;\n",
       "    }\n",
       "\n",
       "    .dataframe tbody tr th {\n",
       "        vertical-align: top;\n",
       "    }\n",
       "\n",
       "    .dataframe thead th {\n",
       "        text-align: right;\n",
       "    }\n",
       "</style>\n",
       "<table border=\"1\" class=\"dataframe\">\n",
       "  <thead>\n",
       "    <tr style=\"text-align: right;\">\n",
       "      <th></th>\n",
       "      <th>Date</th>\n",
       "      <th>Season</th>\n",
       "      <th>Age</th>\n",
       "      <th>Player</th>\n",
       "      <th>Player_Team</th>\n",
       "      <th>Home/Away</th>\n",
       "      <th>Competition</th>\n",
       "      <th>Home Team</th>\n",
       "      <th>Result</th>\n",
       "      <th>Away Team</th>\n",
       "      <th>Rival_Team_Name</th>\n",
       "      <th>Lineup</th>\n",
       "      <th>Minutes</th>\n",
       "      <th>Goals</th>\n",
       "      <th>Assists</th>\n",
       "      <th>Cards</th>\n",
       "    </tr>\n",
       "  </thead>\n",
       "  <tbody>\n",
       "    <tr>\n",
       "      <th>823</th>\n",
       "      <td>2020-08-14</td>\n",
       "      <td>2019-2020</td>\n",
       "      <td>33,14</td>\n",
       "      <td>Leo Messi</td>\n",
       "      <td>FC Barcelona</td>\n",
       "      <td>Home</td>\n",
       "      <td>UEFA Champions League</td>\n",
       "      <td>FC Barcelona</td>\n",
       "      <td>2-8</td>\n",
       "      <td>Bayern München</td>\n",
       "      <td>Bayern München</td>\n",
       "      <td>Starter</td>\n",
       "      <td>90</td>\n",
       "      <td>0</td>\n",
       "      <td>0</td>\n",
       "      <td>0</td>\n",
       "    </tr>\n",
       "    <tr>\n",
       "      <th>824</th>\n",
       "      <td>2020-08-08</td>\n",
       "      <td>2019-2020</td>\n",
       "      <td>33,13</td>\n",
       "      <td>Leo Messi</td>\n",
       "      <td>FC Barcelona</td>\n",
       "      <td>Home</td>\n",
       "      <td>UEFA Champions League</td>\n",
       "      <td>FC Barcelona</td>\n",
       "      <td>3-1</td>\n",
       "      <td>Napoli</td>\n",
       "      <td>Napoli</td>\n",
       "      <td>Starter</td>\n",
       "      <td>90</td>\n",
       "      <td>1</td>\n",
       "      <td>0</td>\n",
       "      <td>0</td>\n",
       "    </tr>\n",
       "    <tr>\n",
       "      <th>825</th>\n",
       "      <td>2020-07-19</td>\n",
       "      <td>2019-2020</td>\n",
       "      <td>33,07</td>\n",
       "      <td>Leo Messi</td>\n",
       "      <td>FC Barcelona</td>\n",
       "      <td>Away</td>\n",
       "      <td>La Liga</td>\n",
       "      <td>Alavés</td>\n",
       "      <td>0-5</td>\n",
       "      <td>FC Barcelona</td>\n",
       "      <td>Alavés</td>\n",
       "      <td>Starter</td>\n",
       "      <td>90</td>\n",
       "      <td>2</td>\n",
       "      <td>1</td>\n",
       "      <td>0</td>\n",
       "    </tr>\n",
       "    <tr>\n",
       "      <th>826</th>\n",
       "      <td>2020-07-16</td>\n",
       "      <td>2019-2020</td>\n",
       "      <td>33,06</td>\n",
       "      <td>Leo Messi</td>\n",
       "      <td>FC Barcelona</td>\n",
       "      <td>Home</td>\n",
       "      <td>La Liga</td>\n",
       "      <td>FC Barcelona</td>\n",
       "      <td>1-2</td>\n",
       "      <td>Osasuna</td>\n",
       "      <td>Osasuna</td>\n",
       "      <td>Starter</td>\n",
       "      <td>90</td>\n",
       "      <td>1</td>\n",
       "      <td>0</td>\n",
       "      <td>0</td>\n",
       "    </tr>\n",
       "    <tr>\n",
       "      <th>827</th>\n",
       "      <td>2020-07-11</td>\n",
       "      <td>2019-2020</td>\n",
       "      <td>33,05</td>\n",
       "      <td>Leo Messi</td>\n",
       "      <td>FC Barcelona</td>\n",
       "      <td>Away</td>\n",
       "      <td>La Liga</td>\n",
       "      <td>Real Valladolid</td>\n",
       "      <td>0-1</td>\n",
       "      <td>FC Barcelona</td>\n",
       "      <td>Real Valladolid</td>\n",
       "      <td>Starter</td>\n",
       "      <td>90</td>\n",
       "      <td>0</td>\n",
       "      <td>1</td>\n",
       "      <td>0</td>\n",
       "    </tr>\n",
       "  </tbody>\n",
       "</table>\n",
       "</div>"
      ],
      "text/plain": [
       "          Date     Season    Age     Player   Player_Team Home/Away  \\\n",
       "823 2020-08-14  2019-2020  33,14  Leo Messi  FC Barcelona      Home   \n",
       "824 2020-08-08  2019-2020  33,13  Leo Messi  FC Barcelona      Home   \n",
       "825 2020-07-19  2019-2020  33,07  Leo Messi  FC Barcelona      Away   \n",
       "826 2020-07-16  2019-2020  33,06  Leo Messi  FC Barcelona      Home   \n",
       "827 2020-07-11  2019-2020  33,05  Leo Messi  FC Barcelona      Away   \n",
       "\n",
       "               Competition        Home Team Result       Away Team  \\\n",
       "823  UEFA Champions League     FC Barcelona    2-8  Bayern München   \n",
       "824  UEFA Champions League     FC Barcelona    3-1          Napoli   \n",
       "825                La Liga           Alavés    0-5    FC Barcelona   \n",
       "826                La Liga     FC Barcelona    1-2         Osasuna   \n",
       "827                La Liga  Real Valladolid    0-1    FC Barcelona   \n",
       "\n",
       "     Rival_Team_Name   Lineup  Minutes  Goals  Assists  Cards  \n",
       "823   Bayern München  Starter       90      0        0      0  \n",
       "824           Napoli  Starter       90      1        0      0  \n",
       "825           Alavés  Starter       90      2        1      0  \n",
       "826          Osasuna  Starter       90      1        0      0  \n",
       "827  Real Valladolid  Starter       90      0        1      0  "
      ]
     },
     "execution_count": 12,
     "metadata": {},
     "output_type": "execute_result"
    }
   ],
   "source": [
    "df = process_messi_data(return_df=True)\n",
    "\n",
    "# Filtrar solo temporada 2019-2020\n",
    "temporada_covid = df[df[\"Season\"] == \"2019-2020\"]\n",
    "\n",
    "print(f\"📊 Partidos en la temporada 2019-2020: {len(temporada_covid)}\")\n",
    "temporada_covid.head()"
   ]
  },
  {
   "cell_type": "code",
   "execution_count": 13,
   "metadata": {},
   "outputs": [
    {
     "name": "stdout",
     "output_type": "stream",
     "text": [
      "📅 Primer partido: 2019-09-17\n",
      "📅 Último partido: 2020-08-14\n"
     ]
    }
   ],
   "source": [
    "print(f\"📅 Primer partido: {temporada_covid['Date'].min().date()}\")\n",
    "print(f\"📅 Último partido: {temporada_covid['Date'].max().date()}\")"
   ]
  },
  {
   "cell_type": "code",
   "execution_count": 14,
   "metadata": {},
   "outputs": [
    {
     "name": "stdout",
     "output_type": "stream",
     "text": [
      "         Date     Season    Age     Player   Player_Team Home/Away  \\\n",
      "0  2005-05-01  2004-2005  17,85  Leo Messi  FC Barcelona      Home   \n",
      "1  2005-04-17  2004-2005  17,82  Leo Messi  FC Barcelona      Home   \n",
      "2  2004-12-21  2004-2005  17,49  Leo Messi  FC Barcelona      Home   \n",
      "3  2004-12-11  2004-2005  17,47  Leo Messi  FC Barcelona      Away   \n",
      "4  2004-12-07  2004-2005  17,46  Leo Messi  FC Barcelona      Away   \n",
      "\n",
      "             Competition         Home Team Result     Away Team  \\\n",
      "0                La Liga      FC Barcelona    2-0      Albacete   \n",
      "1                La Liga      FC Barcelona    2-0        Getafe   \n",
      "2                La Liga      FC Barcelona    2-1       Levante   \n",
      "3                La Liga          Albacete    1-2  FC Barcelona   \n",
      "4  UEFA Champions League  Shakhtar Donetsk    2-0  FC Barcelona   \n",
      "\n",
      "    Rival_Team_Name      Lineup  Minutes  Goals  Assists  Cards  \n",
      "0          Albacete  Substitute        3      1        0      0  \n",
      "1            Getafe  Substitute        5      0        0      0  \n",
      "2           Levante  Substitute       33      0        0      0  \n",
      "3          Albacete  Substitute        1      0        0      0  \n",
      "4  Shakhtar Donetsk     Starter       90      0        0      0  \n"
     ]
    }
   ],
   "source": [
    "# Cargar el CSV limpio en un DataFrame\n",
    "df_cleaned = pd.read_csv('data/processed/messi_cleaned_data.csv')\n",
    "\n",
    "# Ver las primeras filas para verificar que todo está bien\n",
    "print(df_cleaned.head())\n"
   ]
  },
  {
   "cell_type": "code",
   "execution_count": 15,
   "metadata": {},
   "outputs": [
    {
     "name": "stdout",
     "output_type": "stream",
     "text": [
      "Index(['Date', 'Season', 'Age', 'Player', 'Player_Team', 'Home/Away',\n",
      "       'Competition', 'Home Team', 'Result', 'Away Team', 'Rival_Team_Name',\n",
      "       'Lineup', 'Minutes', 'Goals', 'Assists', 'Cards'],\n",
      "      dtype='object')\n",
      "object\n"
     ]
    }
   ],
   "source": [
    "print(df_cleaned.columns)\n",
    "# Mostrar el tipo de dato de la columna date\n",
    "print(df_cleaned['Date'].dtype)"
   ]
  },
  {
   "cell_type": "code",
   "execution_count": 16,
   "metadata": {},
   "outputs": [
    {
     "name": "stdout",
     "output_type": "stream",
     "text": [
      "        Date\n",
      "0 2005-05-01\n",
      "1 2005-04-17\n",
      "2 2004-12-21\n",
      "3 2004-12-11\n",
      "4 2004-12-07\n",
      "datetime64[ns]\n"
     ]
    }
   ],
   "source": [
    "import pandas as pd\n",
    "from datetime import datetime\n",
    "\n",
    "# Leer el archivo CSV correcto (data/processed/messi_cleaned_data.csv)\n",
    "df_cleaned = pd.read_csv(\"data/processed/messi_cleaned_data.csv\")\n",
    "\n",
    "# Asegúrate de que la columna 'Date' esté en formato string (si no lo está)\n",
    "df_cleaned['Date'] = df_cleaned['Date'].astype(str)\n",
    "\n",
    "# Usar datetime para cambiar el formato de fecha de 'YYYY-MM-DD' a 'DD-MM-YYYY'\n",
    "df_cleaned['Date'] = df_cleaned['Date'].apply(lambda x: datetime.strptime(x, \"%Y-%m-%d\").strftime(\"%d-%m-%Y\"))\n",
    "\n",
    "# Ahora que la fecha está en el formato correcto, convertirla a datetime\n",
    "df_cleaned['Date'] = pd.to_datetime(df_cleaned['Date'], format='%d-%m-%Y', errors='coerce')\n",
    "\n",
    "# Mostrar las primeras filas para verificar que todo está correcto\n",
    "print(df_cleaned[['Date']].head())\n",
    "\n",
    "# Guardar el DataFrame actualizado en el archivo CSV correcto\n",
    "df_cleaned.to_csv(\"data/processed/messi_cleaned_data.csv\", index=False)\n",
    "\n",
    "# Mostrar el tipo de dato de la columna date\n",
    "print(df_cleaned['Date'].dtype)\n",
    "\n"
   ]
  },
  {
   "cell_type": "markdown",
   "metadata": {},
   "source": [
    "# Estadística básica sobre ambos jugadores"
   ]
  },
  {
   "cell_type": "code",
   "execution_count": 50,
   "metadata": {},
   "outputs": [
    {
     "name": "stdout",
     "output_type": "stream",
     "text": [
      "🔹 Messi - Estadísticas Generales:\n",
      "             Goals      Assists      Minutes        Cards\n",
      "count  1092.000000  1092.000000  1092.000000  1092.000000\n",
      "mean      0.785714     0.350733    81.996337     0.090659\n",
      "std       0.923200     0.626829    20.400571     0.287256\n",
      "min       0.000000     0.000000     1.000000     0.000000\n",
      "25%       0.000000     0.000000    90.000000     0.000000\n",
      "50%       1.000000     0.000000    90.000000     0.000000\n",
      "75%       1.000000     1.000000    90.000000     0.000000\n",
      "max       5.000000     5.000000   120.000000     1.000000\n",
      "\n",
      "🔹 Lamine - Estadísticas Generales:\n",
      "            Goals     Assists     Minutes       Cards\n",
      "count  118.000000  118.000000  118.000000  118.000000\n",
      "mean     0.211864    0.271186   65.915254    0.093220\n",
      "std      0.450103    0.483241   30.122138    0.291981\n",
      "min      0.000000    0.000000    0.000000    0.000000\n",
      "25%      0.000000    0.000000   45.000000    0.000000\n",
      "50%      0.000000    0.000000   80.000000    0.000000\n",
      "75%      0.000000    0.750000   90.000000    0.000000\n",
      "max      2.000000    2.000000  120.000000    1.000000\n",
      "\n",
      "⚽ Top 5 rivales más goleados por Messi:\n",
      "Rival_Team_Name\n",
      "Sevilla               38\n",
      "Atlético Madrid       32\n",
      "Valencia              31\n",
      "Athletic de Bilbao    29\n",
      "Real Madrid           26\n",
      "Name: Goals, dtype: int64\n",
      "\n",
      "⚽ Top 5 rivales más goleados por Lamine:\n",
      "Rival_Team_Name\n",
      "Athletic de Bilbao    3\n",
      "Granada               3\n",
      "Real Madrid           2\n",
      "Osasuna               2\n",
      "Girona                2\n",
      "Name: Goals, dtype: int64\n",
      "\n",
      "📈 Goles por temporada - Messi:\n",
      "Season\n",
      "2004-2005     1\n",
      "2005-2006    10\n",
      "2006-2007    21\n",
      "2007-2008    19\n",
      "2008-2009    41\n",
      "2009-2010    48\n",
      "2010-2011    57\n",
      "2011-2012    82\n",
      "2012-2013    69\n",
      "2013-2014    48\n",
      "2014-2015    62\n",
      "2015-2016    50\n",
      "2016-2017    57\n",
      "2017-2018    52\n",
      "2018-2019    54\n",
      "2019-2020    33\n",
      "2020-2021    44\n",
      "2021-2022    22\n",
      "2022-2023    40\n",
      "2023-2024    28\n",
      "2024-2025    20\n",
      "Name: Goals, dtype: int64\n",
      "\n",
      "📈 Goles por temporada - Lamine:\n",
      "Season\n",
      "2022-2023     0\n",
      "2023-2024    10\n",
      "2024-2025    15\n",
      "Name: Goals, dtype: int64\n"
     ]
    }
   ],
   "source": [
    "import pandas as pd\n",
    "\n",
    "# Cargar los datos procesados\n",
    "df_messi = pd.read_csv(\"data/processed/messi_cleaned_data.csv\")\n",
    "df_lamine = pd.read_csv(\"data/processed/lamine_cleaned_data.csv\")\n",
    "\n",
    "# Cambiar columnas de coma a punto si hace falta\n",
    "df_messi[\"Age\"] = df_messi[\"Age\"].str.replace(\",\", \".\").astype(float)\n",
    "df_lamine[\"Age\"] = df_lamine[\"Age\"].str.replace(\",\", \".\").astype(float)\n",
    "\n",
    "# ------------------------- #\n",
    "# 1. Estadísticas descriptivas\n",
    "print(\"🔹 Messi - Estadísticas Generales:\")\n",
    "print(df_messi[[\"Goals\", \"Assists\", \"Minutes\", \"Cards\"]].describe())\n",
    "\n",
    "print(\"\\n🔹 Lamine - Estadísticas Generales:\")\n",
    "print(df_lamine[[\"Goals\", \"Assists\", \"Minutes\", \"Cards\"]].describe())\n",
    "\n",
    "# 2. Goles por equipo rival (top 5)\n",
    "print(\"\\n⚽ Top 5 rivales más goleados por Messi:\")\n",
    "print(df_messi.groupby(\"Rival_Team_Name\")[\"Goals\"].sum().sort_values(ascending=False).head(5))\n",
    "\n",
    "print(\"\\n⚽ Top 5 rivales más goleados por Lamine:\")\n",
    "print(df_lamine.groupby(\"Rival_Team_Name\")[\"Goals\"].sum().sort_values(ascending=False).head(5))\n",
    "\n",
    "# 3. Goles por edad media\n",
    "print(\"\\n📈 Goles por temporada - Messi:\")\n",
    "print(df_messi.groupby(\"Season\")[\"Goals\"].sum())\n",
    "\n",
    "print(\"\\n📈 Goles por temporada - Lamine:\")\n",
    "print(df_lamine.groupby(\"Season\")[\"Goals\"].sum())\n"
   ]
  },
  {
   "cell_type": "code",
   "execution_count": null,
   "metadata": {},
   "outputs": [
    {
     "data": {
      "image/png": "[encoded data removed]",
      "text/plain": [
       "<Figure size 1400x500 with 2 Axes>"
      ]
     },
     "metadata": {},
     "output_type": "display_data"
    }
   ],
   "source": [
    "# Goles por equipo rival TOP 5\n",
    "\n",
    "import matplotlib.pyplot as plt\n",
    "\n",
    "# Agrupar y seleccionar top 5\n",
    "top5_messi = df_messi.groupby(\"Rival_Team_Name\")[\"Goals\"].sum().sort_values(ascending=False).head(5)\n",
    "top5_lamine = df_lamine.groupby(\"Rival_Team_Name\")[\"Goals\"].sum().sort_values(ascending=False).head(5)\n",
    "\n",
    "fig, axes = plt.subplots(1, 2, figsize=(14, 5))\n",
    "\n",
    "top5_messi.plot(kind=\"bar\", ax=axes[0], color=\"skyblue\", title=\"Top 5 Rivales más Goleados - Messi\")\n",
    "axes[0].set_ylabel(\"Goles\")\n",
    "axes[0].set_xlabel(\"Rival\")\n",
    "\n",
    "top5_lamine.plot(kind=\"bar\", ax=axes[1], color=\"lightcoral\", title=\"Top 5 Rivales más Goleados - Lamine\")\n",
    "axes[1].set_ylabel(\"Goles\")\n",
    "axes[1].set_xlabel(\"Rival\")\n",
    "\n",
    "plt.tight_layout()\n",
    "plt.show()\n"
   ]
  },
  {
   "cell_type": "code",
   "execution_count": 54,
   "metadata": {},
   "outputs": [
    {
     "name": "stderr",
     "output_type": "stream",
     "text": [
      "C:\\Users\\juanm\\AppData\\Local\\Temp\\ipykernel_16644\\667539159.py:15: UserWarning:\n",
      "\n",
      "Glyph 128198 (\\N{TEAR-OFF CALENDAR}) missing from font(s) DejaVu Sans.\n",
      "\n",
      "c:\\Users\\juanm\\miniconda3\\envs\\jcmdc_proy_abril\\Lib\\site-packages\\IPython\\core\\pylabtools.py:170: UserWarning:\n",
      "\n",
      "Glyph 128198 (\\N{TEAR-OFF CALENDAR}) missing from font(s) DejaVu Sans.\n",
      "\n"
     ]
    },
    {
     "data": {
      "image/png": "[encoded data removed]",
      "text/plain": [
       "<Figure size 1000x500 with 1 Axes>"
      ]
     },
     "metadata": {},
     "output_type": "display_data"
    }
   ],
   "source": [
    "# Goles por temporada\n",
    "\n",
    "# Agrupación por Season\n",
    "goals_messi = df_messi.groupby(\"Season\")[\"Goals\"].sum()\n",
    "goals_lamine = df_lamine.groupby(\"Season\")[\"Goals\"].sum()\n",
    "\n",
    "plt.figure(figsize=(10, 5))\n",
    "plt.plot(goals_messi.index, goals_messi.values, marker='o', label=\"Messi\", color=\"blue\")\n",
    "plt.plot(goals_lamine.index, goals_lamine.values, marker='o', label=\"Lamine\", color=\"red\")\n",
    "plt.title(\"📆 Goles por Temporada\")\n",
    "plt.xlabel(\"Temporada\")\n",
    "plt.ylabel(\"Goles\")\n",
    "plt.legend()\n",
    "plt.xticks(rotation=45)\n",
    "plt.tight_layout()\n",
    "plt.show()\n"
   ]
  },
  {
   "cell_type": "code",
   "execution_count": 56,
   "metadata": {},
   "outputs": [
    {
     "name": "stderr",
     "output_type": "stream",
     "text": [
      "C:\\Users\\juanm\\AppData\\Local\\Temp\\ipykernel_16644\\1556083456.py:16: UserWarning:\n",
      "\n",
      "Glyph 127919 (\\N{DIRECT HIT}) missing from font(s) DejaVu Sans.\n",
      "\n",
      "c:\\Users\\juanm\\miniconda3\\envs\\jcmdc_proy_abril\\Lib\\site-packages\\IPython\\core\\pylabtools.py:170: UserWarning:\n",
      "\n",
      "Glyph 127919 (\\N{DIRECT HIT}) missing from font(s) DejaVu Sans.\n",
      "\n"
     ]
    },
    {
     "data": {
      "image/png": "[encoded data removed]",
      "text/plain": [
       "<Figure size 1000x500 with 1 Axes>"
      ]
     },
     "metadata": {},
     "output_type": "display_data"
    }
   ],
   "source": [
    "# Goles por edad\n",
    "\n",
    "# Asegurar que Age es numérica\n",
    "\n",
    "\n",
    "goles_edad_messi = df_messi.groupby(\"Age\")[\"Goals\"].sum()\n",
    "goles_edad_lamine = df_lamine.groupby(\"Age\")[\"Goals\"].sum()\n",
    "\n",
    "plt.figure(figsize=(10, 5))\n",
    "plt.plot(goles_edad_messi.index, goles_edad_messi.values, label=\"Messi\", color=\"blue\", marker='o')\n",
    "plt.plot(goles_edad_lamine.index, goles_edad_lamine.values, label=\"Lamine\", color=\"red\", marker='o')\n",
    "plt.title(\"🎯 Goles por Edad\")\n",
    "plt.xlabel(\"Edad\")\n",
    "plt.ylabel(\"Goles\")\n",
    "plt.legend()\n",
    "plt.tight_layout()\n",
    "plt.show()\n"
   ]
  },
  {
   "cell_type": "code",
   "execution_count": 62,
   "metadata": {},
   "outputs": [
    {
     "name": "stderr",
     "output_type": "stream",
     "text": [
      "C:\\Users\\juanm\\AppData\\Local\\Temp\\ipykernel_16644\\1743680865.py:8: UserWarning:\n",
      "\n",
      "Glyph 128202 (\\N{BAR CHART}) missing from font(s) DejaVu Sans.\n",
      "\n",
      "c:\\Users\\juanm\\miniconda3\\envs\\jcmdc_proy_abril\\Lib\\site-packages\\IPython\\core\\pylabtools.py:170: UserWarning:\n",
      "\n",
      "Glyph 128202 (\\N{BAR CHART}) missing from font(s) DejaVu Sans.\n",
      "\n"
     ]
    },
    {
     "data": {
      "image/png": "[encoded data removed]",
      "text/plain": [
       "<Figure size 1000x500 with 1 Axes>"
      ]
     },
     "metadata": {},
     "output_type": "display_data"
    }
   ],
   "source": [
    "# Promedios por estadística\n",
    "\n",
    "promedios = df_all.groupby(\"Player\")[[\"Goals\", \"Assists\"]].mean().T\n",
    "\n",
    "promedios.plot(kind=\"bar\", figsize=(10, 5), title=\"📊 Promedio por Estadística\")\n",
    "plt.ylabel(\"Promedio\")\n",
    "plt.xticks(rotation=0)\n",
    "plt.tight_layout()\n",
    "plt.show()\n",
    "\n"
   ]
  },
  {
   "cell_type": "code",
   "execution_count": null,
   "metadata": {},
   "outputs": [],
   "source": []
  },
  {
   "cell_type": "markdown",
   "metadata": {},
   "source": [
    "# Información sobre Messi"
   ]
  },
  {
   "cell_type": "code",
   "execution_count": 17,
   "metadata": {},
   "outputs": [
    {
     "name": "stdout",
     "output_type": "stream",
     "text": [
      "Lista de rivales del FC Barcelona:\n",
      "0                     Albacete\n",
      "1                       Getafe\n",
      "2                      Levante\n",
      "3                       Málaga\n",
      "4                      Osasuna\n",
      "5                      Chelsea\n",
      "6                   Real Betis\n",
      "7              Atlético Madrid\n",
      "8                Real Zaragoza\n",
      "9                       Alavés\n",
      "10          Athletic de Bilbao\n",
      "11               Celta de Vigo\n",
      "12                     Sevilla\n",
      "13            Racing Santander\n",
      "14               Panathinaikos\n",
      "15                     Udinese\n",
      "16                    Espanyol\n",
      "17               Real Mallorca\n",
      "18         Deportivo La Coruña\n",
      "19                 Real Madrid\n",
      "20                   Liverpool\n",
      "21                    Valencia\n",
      "22           Manchester United\n",
      "23                      Celtic\n",
      "24                  Villarreal\n",
      "25           Recreativo Huelva\n",
      "26             Glasgow Rangers\n",
      "27                  UD Almería\n",
      "28          Olympique Lyonnais\n",
      "29              Bayern München\n",
      "30              Sporting Gijón\n",
      "31                    Numancia\n",
      "32                    Benidorm\n",
      "33             Real Valladolid\n",
      "34                    FC Basel\n",
      "35             Sporting Lisbon\n",
      "36                    Tenerife\n",
      "37              Internazionale\n",
      "38                       Xerez\n",
      "39                     Arsenal\n",
      "40               VfB Stuttgart\n",
      "41            Cultural Leonesa\n",
      "42                 Rubin Kazan\n",
      "43                 Dynamo Kyiv\n",
      "44            Shakhtar Donetsk\n",
      "45               Real Sociedad\n",
      "46                    AD Ceuta\n",
      "47               FC Copenhagen\n",
      "48           Hercules Alicante\n",
      "49                    AC Milan\n",
      "50                     Granada\n",
      "51            Bayer Leverkusen\n",
      "52              Rayo Vallecano\n",
      "53              Viktoria Plzen\n",
      "54                    FC Porto\n",
      "55         Paris Saint-Germain\n",
      "56                     Benfica\n",
      "57              Spartak Moscow\n",
      "58             Manchester City\n",
      "59                        Ajax\n",
      "60                       Elche\n",
      "61                     Córdoba\n",
      "62                       Eibar\n",
      "63                    APOEL FC\n",
      "64                     AS Roma\n",
      "65                  Las Palmas\n",
      "66                    Juventus\n",
      "67                     Leganés\n",
      "68    Borussia Mönchengladbach\n",
      "69                      Girona\n",
      "70                  Olympiacos\n",
      "71      Tottenham Hotspur F.C.\n",
      "72               PSV Eindhoven\n",
      "73                      Huesca\n",
      "74                      Napoli\n",
      "75           Borussia Dortmund\n",
      "76               Slavia Prague\n",
      "77                       Cádiz\n",
      "78                 Ferencváros\n",
      "79                    Gramenet\n",
      "80               Werder Bremen\n",
      "81                   Gimnàstic\n",
      "82                 Real Murcia\n",
      "83        Estudiantes La Plata\n",
      "84                     Atlante\n",
      "85                      Santos\n",
      "86                     Al-Sadd\n",
      "87                BATE Borisov\n",
      "88              CA River Plate\n",
      "dtype: object\n"
     ]
    }
   ],
   "source": [
    "import pandas as pd\n",
    "\n",
    "# Filtrar partidos donde el Barcelona fue local o visitante\n",
    "rivales_local = df_cleaned[df_cleaned[\"Home Team\"] == \"FC Barcelona\"][\"Away Team\"]\n",
    "rivales_visitante = df_cleaned[df_cleaned[\"Away Team\"] == \"FC Barcelona\"][\"Home Team\"]\n",
    "\n",
    "# Unir ambas listas y eliminar duplicados\n",
    "rivales = pd.concat([rivales_local, rivales_visitante]).drop_duplicates().reset_index(drop=True)\n",
    "\n",
    "# Ajustar el límite de filas que pandas puede mostrar\n",
    "pd.set_option('display.max_rows', None)  # Esto asegura que todas las filas se muestren\n",
    "\n",
    "# Mostrar listado completo de rivales\n",
    "print(\"Lista de rivales del FC Barcelona:\")\n",
    "print(rivales)\n",
    "\n"
   ]
  },
  {
   "cell_type": "code",
   "execution_count": 18,
   "metadata": {},
   "outputs": [
    {
     "name": "stdout",
     "output_type": "stream",
     "text": [
      "Total de goles de Messi en los partidos donde el Barcelona fue local: 400\n"
     ]
    }
   ],
   "source": [
    "# Filtrar partidos donde el Barcelona fue local\n",
    "partidos_locales = df_cleaned[df_cleaned['Home Team'] == 'FC Barcelona']  # Ajusta 'FC Barcelona' si es necesario\n",
    "\n",
    "# Sumar los goles de Messi en esos partidos\n",
    "total_goles_locales = partidos_locales['Goals'].sum()\n",
    "\n",
    "print(f\"Total de goles de Messi en los partidos donde el Barcelona fue local: {total_goles_locales}\")\n",
    "\n"
   ]
  },
  {
   "cell_type": "code",
   "execution_count": 19,
   "metadata": {},
   "outputs": [
    {
     "name": "stdout",
     "output_type": "stream",
     "text": [
      "Total de goles de Messi en los partidos donde el Barcelona fue local: 272\n"
     ]
    }
   ],
   "source": [
    "# Filtrar partidos donde el Barcelona fue visitante\n",
    "partidos_visitantes = df_cleaned[df_cleaned['Away Team'] == 'FC Barcelona']  # Ajusta 'FC Barcelona' si es necesario\n",
    "\n",
    "# Sumar los goles de Messi en esos partidos\n",
    "total_goles_visitantes = partidos_visitantes['Goals'].sum()\n",
    "\n",
    "print(f\"Total de goles de Messi en los partidos donde el Barcelona fue local: {total_goles_visitantes}\")"
   ]
  },
  {
   "cell_type": "code",
   "execution_count": 20,
   "metadata": {},
   "outputs": [
    {
     "name": "stdout",
     "output_type": "stream",
     "text": [
      "Total de goles de Messi en la carrera: 858\n"
     ]
    }
   ],
   "source": [
    "# Total de goles en la temporada\n",
    "total_goles = df_cleaned['Goals'].sum()\n",
    "print(f\"Total de goles de Messi en la carrera: {total_goles}\")\n"
   ]
  },
  {
   "cell_type": "code",
   "execution_count": 21,
   "metadata": {},
   "outputs": [
    {
     "name": "stdout",
     "output_type": "stream",
     "text": [
      "Total de goles de Messi en la carrera: 858\n",
      "\n",
      "📈 Goles por año:\n",
      " Year\n",
      "2004     0\n",
      "2005     3\n",
      "2006    12\n",
      "2007    31\n",
      "2008    22\n",
      "2009    41\n",
      "2010    60\n",
      "2011    59\n",
      "2012    91\n",
      "2013    45\n",
      "2014    58\n",
      "2015    52\n",
      "2016    59\n",
      "2017    54\n",
      "2018    51\n",
      "2019    50\n",
      "2020    27\n",
      "2021    43\n",
      "2022    35\n",
      "2023    28\n",
      "2024    29\n",
      "2025     8\n",
      "Name: Goals, dtype: int64\n"
     ]
    },
    {
     "data": {
      "image/png": "[encoded data removed]",
      "text/plain": [
       "<Figure size 640x480 with 1 Axes>"
      ]
     },
     "metadata": {},
     "output_type": "display_data"
    }
   ],
   "source": [
    "import matplotlib.pyplot as plt\n",
    "\n",
    "# Total de goles\n",
    "total_goles = df_cleaned['Goals'].sum()\n",
    "print(f\"Total de goles de Messi en la carrera: {total_goles}\")\n",
    "\n",
    "# Goles por año\n",
    "df_cleaned[\"Year\"] = df_cleaned[\"Date\"].dt.year\n",
    "goles_por_año = df_cleaned.groupby(\"Year\")[\"Goals\"].sum()\n",
    "print(\"\\n📈 Goles por año:\\n\", goles_por_año)\n",
    "\n",
    "# Gráfico de Goles por año\n",
    "goles_por_año.plot(kind=\"bar\", title=\"Goles por año de Leo Messi\")\n",
    "plt.ylabel(\"Goles\")\n",
    "plt.xlabel(\"Año\")\n",
    "plt.tight_layout()\n",
    "plt.show()\n"
   ]
  },
  {
   "cell_type": "code",
   "execution_count": 22,
   "metadata": {},
   "outputs": [
    {
     "name": "stdout",
     "output_type": "stream",
     "text": [
      "Total de goles de Messi en la carrera: 858\n",
      "\n",
      "📅 Goles por temporada:\n",
      " Season\n",
      "2004-2005     1\n",
      "2005-2006    10\n",
      "2006-2007    21\n",
      "2007-2008    19\n",
      "2008-2009    41\n",
      "2009-2010    48\n",
      "2010-2011    57\n",
      "2011-2012    82\n",
      "2012-2013    69\n",
      "2013-2014    48\n",
      "2014-2015    62\n",
      "2015-2016    50\n",
      "2016-2017    57\n",
      "2017-2018    52\n",
      "2018-2019    54\n",
      "2019-2020    33\n",
      "2020-2021    44\n",
      "2021-2022    22\n",
      "2022-2023    40\n",
      "2023-2024    28\n",
      "2024-2025    20\n",
      "Name: Goals, dtype: int64\n"
     ]
    },
    {
     "data": {
      "text/plain": [
       "<Axes: title={'center': 'Total de Goles por Temporada'}, xlabel='Temporada', ylabel='Goles'>"
      ]
     },
     "execution_count": 22,
     "metadata": {},
     "output_type": "execute_result"
    },
    {
     "data": {
      "image/png": "[encoded data removed]",
      "text/plain": [
       "<Figure size 640x480 with 1 Axes>"
      ]
     },
     "metadata": {},
     "output_type": "display_data"
    }
   ],
   "source": [
    "# Total de goles en la temporada\n",
    "total_goles = df_cleaned['Goals'].sum()\n",
    "print(f\"Total de goles de Messi en la carrera: {total_goles}\")\n",
    "\n",
    "#Goles por temporada\n",
    "goles_por_temporada = df_cleaned.groupby(\"Season\")[\"Goals\"].sum()\n",
    "print(\"\\n📅 Goles por temporada:\\n\", goles_por_temporada)\n",
    "\n",
    "# Gráfico de Goles por temporada\n",
    "goles_por_temporada = df_cleaned.groupby('Season')['Goals'].sum()\n",
    "goles_por_temporada.plot(kind='bar', title='Total de Goles por Temporada', xlabel='Temporada', ylabel='Goles')\n"
   ]
  },
  {
   "cell_type": "code",
   "execution_count": 23,
   "metadata": {},
   "outputs": [
    {
     "name": "stdout",
     "output_type": "stream",
     "text": [
      "\n",
      "🏆 Top competiciones con más goles:\n",
      " Competition\n",
      "La Liga                   474\n",
      "UEFA Champions League     129\n",
      "Copa del Rey               56\n",
      "International friendly     51\n",
      "Major League Soccer        24\n",
      "Name: Goals, dtype: int64\n"
     ]
    },
    {
     "data": {
      "text/plain": [
       "<Axes: title={'center': 'Top competiciones con más goles de Leo Messi'}, xlabel='Competition'>"
      ]
     },
     "execution_count": 23,
     "metadata": {},
     "output_type": "execute_result"
    },
    {
     "data": {
      "image/png": "[encoded data removed]",
      "text/plain": [
       "<Figure size 640x480 with 1 Axes>"
      ]
     },
     "metadata": {},
     "output_type": "display_data"
    }
   ],
   "source": [
    "# Top competiciones con más goles\n",
    "top_competiciones = df_cleaned.groupby(\"Competition\")[\"Goals\"].sum().sort_values(ascending=False).head(5)\n",
    "print(\"\\n🏆 Top competiciones con más goles:\\n\", top_competiciones)\n",
    "\n",
    "# Gráfico de Top competiciones con más goles\n",
    "top_competiciones.plot(kind=\"bar\", title=\"Top competiciones con más goles de Leo Messi\")"
   ]
  },
  {
   "cell_type": "code",
   "execution_count": 24,
   "metadata": {},
   "outputs": [
    {
     "name": "stdout",
     "output_type": "stream",
     "text": [
      "Promedio de goles de Messi por minuto: Metió un gol cada 104.36 minutos.\n"
     ]
    }
   ],
   "source": [
    "# Asegurarnos de que 'Minutos' es numérico y luego calcular el promedio de goles por minuto\n",
    "df_cleaned['Minutes'] = pd.to_numeric(df_cleaned['Minutes'], errors='coerce')  # Convertir Minutos a numérico\n",
    "\n",
    "# Total de minutos jugados\n",
    "total_minutos = df_cleaned['Minutes'].sum()\n",
    "\n",
    "# Promedio de goles por minuto (total de goles / total de minutos jugados)\n",
    "promedio_goles_por_minuto = total_minutos / total_goles if total_goles > 0 else 0\n",
    "\n",
    "# Mostrar los resultados\n",
    "print(f\"Promedio de goles de Messi por minuto: Metió un gol cada {promedio_goles_por_minuto:.2f} minutos.\")"
   ]
  },
  {
   "cell_type": "code",
   "execution_count": 25,
   "metadata": {},
   "outputs": [
    {
     "name": "stdout",
     "output_type": "stream",
     "text": [
      "Promedio de goles por partido: 0.7857142857142857\n"
     ]
    }
   ],
   "source": [
    "promedio_goles = df_cleaned['Goals'].mean()\n",
    "print(f\"Promedio de goles por partido: {promedio_goles}\")\n"
   ]
  },
  {
   "cell_type": "code",
   "execution_count": 26,
   "metadata": {},
   "outputs": [
    {
     "name": "stdout",
     "output_type": "stream",
     "text": [
      "\n",
      "🏆 Goles totales por competición:\n",
      " Competition\n",
      "La Liga                                474\n",
      "UEFA Champions League                  129\n",
      "Copa del Rey                            56\n",
      "International friendly                  51\n",
      "Major League Soccer                     24\n",
      "Ligue 1                                 22\n",
      "Spanish Super Cup                       14\n",
      "Leagues Cup                             10\n",
      "World Cup 2014 Qualification            10\n",
      "Concacaf Champions Cup                   7\n",
      "World Cup 2022                           7\n",
      "World Cup 2022 Qualification             7\n",
      "World Cup 2018 Qualification             7\n",
      "World Cup 2026 Qualification             6\n",
      "Copa América Centenario                  5\n",
      "FIFA Club World Cup                      5\n",
      "World Cup 2014                           4\n",
      "Copa América 2021                        4\n",
      "World Cup 2010 Qualification             4\n",
      "UEFA European Super Cup                  3\n",
      "Copa América 2007                        2\n",
      "World Cup 2018                           1\n",
      "Copa América 2015                        1\n",
      "Copa América 2019                        1\n",
      "Copa América 2024                        1\n",
      "Major League Soccer Play Offs            1\n",
      "Trophée des Champions                    1\n",
      "World Cup 2006                           1\n",
      "CONMEBOL–UEFA Cup of Champions 2022      0\n",
      "Copa América 2011                        0\n",
      "Coupe de France                          0\n",
      "World Cup 2010                           0\n",
      "US Open Cup                              0\n",
      "World Cup 2006 Qualification             0\n",
      "Name: Goals, dtype: int64\n"
     ]
    },
    {
     "data": {
      "text/plain": [
       "<Axes: title={'center': 'Goles por Competición'}, xlabel='Competición', ylabel='Goles'>"
      ]
     },
     "execution_count": 26,
     "metadata": {},
     "output_type": "execute_result"
    },
    {
     "data": {
      "image/png": "[encoded data removed]",
      "text/plain": [
       "<Figure size 640x480 with 1 Axes>"
      ]
     },
     "metadata": {},
     "output_type": "display_data"
    }
   ],
   "source": [
    "goles_por_competicion = df_cleaned.groupby('Competition')['Goals'].sum()\n",
    "# Mostrar los goles por competición ordenados de mayor a menor\n",
    "goles_por_competicion = goles_por_competicion.sort_values(ascending=False)\n",
    "print(\"\\n🏆 Goles totales por competición:\\n\", goles_por_competicion)\n",
    "goles_por_competicion.plot(kind='bar', title='Goles por Competición', xlabel='Competición', ylabel='Goles')\n"
   ]
  },
  {
   "cell_type": "code",
   "execution_count": 27,
   "metadata": {},
   "outputs": [
    {
     "name": "stdout",
     "output_type": "stream",
     "text": [
      "Total de asistencias de Messi en la carrera: 383\n",
      "\n",
      "🏆 Asistencias totales por temporada:\n",
      " Season\n",
      "2011-2012    34\n",
      "2014-2015    32\n",
      "2010-2011    29\n",
      "2015-2016    27\n",
      "2022-2023    26\n",
      "2019-2020    26\n",
      "2017-2018    21\n",
      "2018-2019    20\n",
      "2008-2009    19\n",
      "2012-2013    18\n",
      "2016-2017    18\n",
      "2020-2021    17\n",
      "2023-2024    17\n",
      "2021-2022    16\n",
      "2013-2014    16\n",
      "2007-2008    16\n",
      "2009-2010    12\n",
      "2024-2025     8\n",
      "2005-2006     6\n",
      "2006-2007     5\n",
      "2004-2005     0\n",
      "Name: Assists, dtype: int64\n"
     ]
    },
    {
     "data": {
      "text/plain": [
       "<Axes: title={'center': 'Total de Asistencias por Temporada'}, xlabel='Temporada', ylabel='Asistencias'>"
      ]
     },
     "execution_count": 27,
     "metadata": {},
     "output_type": "execute_result"
    },
    {
     "data": {
      "image/png": "[encoded data removed]",
      "text/plain": [
       "<Figure size 640x480 with 1 Axes>"
      ]
     },
     "metadata": {},
     "output_type": "display_data"
    }
   ],
   "source": [
    "# Mostrar las asistencias totales\n",
    "asistencias_totales = df_cleaned['Assists'].sum()\n",
    "print(f\"Total de asistencias de Messi en la carrera: {asistencias_totales}\")\n",
    "\n",
    "asistencias_por_temporada = df_cleaned.groupby('Season')['Assists'].sum()\n",
    "\n",
    "# Mostrar las asistencias por competición ordenados de mayor a menor\n",
    "\n",
    "asistencias_por_temporada = asistencias_por_temporada.sort_values(ascending=False)\n",
    "print(\"\\n🏆 Asistencias totales por temporada:\\n\", asistencias_por_temporada)\n",
    "asistencias_por_temporada.plot(kind='bar', title='Total de Asistencias por Temporada', xlabel='Temporada', ylabel='Asistencias')\n"
   ]
  },
  {
   "cell_type": "code",
   "execution_count": 28,
   "metadata": {},
   "outputs": [
    {
     "data": {
      "text/plain": [
       "<Axes: title={'center': 'Goles por Mes'}, xlabel='Mes', ylabel='Goles'>"
      ]
     },
     "execution_count": 28,
     "metadata": {},
     "output_type": "execute_result"
    },
    {
     "data": {
      "image/png": "[encoded data removed]",
      "text/plain": [
       "<Figure size 640x480 with 1 Axes>"
      ]
     },
     "metadata": {},
     "output_type": "display_data"
    }
   ],
   "source": [
    "# Goles por mes\n",
    "\n",
    "df_cleaned['Month'] = df_cleaned['Date'].dt.month\n",
    "goles_por_mes = df_cleaned.groupby('Month')['Goals'].sum()\n",
    "goles_por_mes.plot(kind='bar', title='Goles por Mes', xlabel='Mes', ylabel='Goles')\n"
   ]
  },
  {
   "cell_type": "code",
   "execution_count": 29,
   "metadata": {},
   "outputs": [
    {
     "name": "stdout",
     "output_type": "stream",
     "text": [
      "✅ Datos procesados guardados en: F:\\JCMDataCenter\\Cursos\\Evolve Academy\\Data Scientist IA\\Evolve_Proyecto_Abril\\data\\processed\\messi_cleaned_data.csv\n",
      "\n",
      "📊 Goles y asistencias - Home vs Away:\n",
      "            Goals  Assists\n",
      "Home/Away                \n",
      "Away         340      180\n",
      "Home         518      203\n",
      "🖼️ Guardado: local_vs_visitante.png\n"
     ]
    },
    {
     "data": {
      "image/png": "[encoded data removed]",
      "text/plain": [
       "<Figure size 640x480 with 1 Axes>"
      ]
     },
     "metadata": {},
     "output_type": "display_data"
    }
   ],
   "source": [
    "from src.processing import process_data\n",
    "from src.analysis import plot_local_vs_visitante\n",
    "\n",
    "# Obtener el DataFrame limpio\n",
    "df = process_data(return_df=True)\n",
    "\n",
    "# Mostrar y guardar el gráfico local vs visitante\n",
    "plot_local_vs_visitante(df, save=True)\n",
    "\n"
   ]
  },
  {
   "cell_type": "code",
   "execution_count": 30,
   "metadata": {},
   "outputs": [
    {
     "data": {
      "image/png": "[encoded data removed]",
      "text/plain": [
       "<Figure size 1000x600 with 1 Axes>"
      ]
     },
     "metadata": {},
     "output_type": "display_data"
    }
   ],
   "source": [
    "# Promedio de Goles por Temporada (Home vs Away)\n",
    "\n",
    "# Filtrar goles por temporada\n",
    "df_cleaned['Season'] = df_cleaned['Date'].dt.year.astype(str) + \"-\" + (df_cleaned['Date'].dt.year + 1).astype(str)\n",
    "\n",
    "# Goles de Messi en casa (FC Barcelona como local)\n",
    "goles_locales_season = df_cleaned[df_cleaned[\"Home Team\"] == \"FC Barcelona\"].groupby(\"Season\")[\"Goals\"].sum()\n",
    "\n",
    "# Goles de Messi fuera de casa (FC Barcelona como visitante)\n",
    "goles_visitantes_season = df_cleaned[df_cleaned[\"Away Team\"] == \"FC Barcelona\"].groupby(\"Season\")[\"Goals\"].sum()\n",
    "\n",
    "# Graficar comparación de goles por temporada\n",
    "plt.figure(figsize=(10, 6))\n",
    "goles_locales_season.plot(kind='bar', label='Goles en Casa', width=0.4, position=1, color='blue')\n",
    "goles_visitantes_season.plot(kind='bar', label='Goles Fuera de Casa', width=0.4, position=0, color='orange')\n",
    "plt.title(\"Promedio de Goles por Temporada (En Casa vs Fuera de Casa)\")\n",
    "plt.xlabel(\"Temporada\")\n",
    "plt.ylabel(\"Goles Totales\")\n",
    "plt.xticks(rotation=45)\n",
    "plt.legend()\n",
    "plt.tight_layout()\n",
    "plt.show()\n"
   ]
  },
  {
   "cell_type": "code",
   "execution_count": 31,
   "metadata": {},
   "outputs": [
    {
     "data": {
      "image/png": "[encoded data removed]",
      "text/plain": [
       "<Figure size 1000x600 with 1 Axes>"
      ]
     },
     "metadata": {},
     "output_type": "display_data"
    },
    {
     "data": {
      "text/plain": [
       "Season\n",
       "2005-2006    0\n",
       "2006-2007    0\n",
       "2007-2008    3\n",
       "2008-2009    1\n",
       "2009-2010    2\n",
       "2010-2011    1\n",
       "2011-2012    6\n",
       "2012-2013    4\n",
       "2013-2014    1\n",
       "2014-2015    3\n",
       "2015-2016    0\n",
       "2016-2017    0\n",
       "2017-2018    4\n",
       "2018-2019    1\n",
       "2019-2020    0\n",
       "2020-2021    0\n",
       "2021-2022    0\n",
       "Name: Goals, dtype: int64"
      ]
     },
     "execution_count": 31,
     "metadata": {},
     "output_type": "execute_result"
    }
   ],
   "source": [
    "# Número de Goles por Rival Específico\n",
    "\n",
    "# Supongamos que quieres ver los goles contra el Real Madrid\n",
    "rival_elegido = \"Real Madrid\"\n",
    "\n",
    "# Goles contra el Real Madrid (como local o visitante)\n",
    "goles_rival = df_cleaned[\n",
    "    ((df_cleaned[\"Home Team\"] == \"FC Barcelona\") & (df_cleaned[\"Away Team\"] == rival_elegido)) |\n",
    "    ((df_cleaned[\"Away Team\"] == \"FC Barcelona\") & (df_cleaned[\"Home Team\"] == rival_elegido))\n",
    "]\n",
    "\n",
    "# Graficar\n",
    "goles_rival_season = goles_rival.groupby(\"Season\")[\"Goals\"].sum()\n",
    "goles_rival_season.plot(kind='bar', color='orange', figsize=(10, 6))\n",
    "\n",
    "plt.title(f\"Goles de Messi contra {rival_elegido} por Temporada\")\n",
    "plt.xlabel(\"Temporada\")\n",
    "plt.ylabel(\"Total de Goles\")\n",
    "plt.xticks(rotation=45)\n",
    "plt.tight_layout()\n",
    "plt.show()\n",
    "\n",
    "goles_rival_season"
   ]
  },
  {
   "cell_type": "code",
   "execution_count": 32,
   "metadata": {},
   "outputs": [
    {
     "name": "stdout",
     "output_type": "stream",
     "text": [
      "Home Team     Away Team       \n",
      "Argentina     Estonia             5\n",
      "FC Barcelona  Bayer Leverkusen    5\n",
      "              Eibar               4\n",
      "              Espanyol            4\n",
      "              Arsenal             4\n",
      "              Valencia            4\n",
      "              Osasuna             4\n",
      "Argentina     Haiti               3\n",
      "APOEL FC      FC Barcelona        3\n",
      "FC Barcelona  Celta de Vigo       3\n",
      "Name: Goals, dtype: int64\n"
     ]
    }
   ],
   "source": [
    "# Rivales con Más Goles Anotados en un Solo Partido\n",
    "\n",
    "# Filtrar partidos donde el Barcelona ha jugado contra el rival elegido\n",
    "rivales_goles_maximos = df_cleaned[df_cleaned[\"Goals\"] > 0]\n",
    "\n",
    "# Obtener el máximo de goles por partido y por rival\n",
    "goles_maximos = rivales_goles_maximos.groupby([\"Home Team\", \"Away Team\"])[\"Goals\"].max()\n",
    "\n",
    "# Mostrar los 10 partidos con más goles\n",
    "print(goles_maximos.sort_values(ascending=False).head(10))\n"
   ]
  },
  {
   "cell_type": "markdown",
   "metadata": {},
   "source": [
    "# Lamine Yamal"
   ]
  },
  {
   "cell_type": "code",
   "execution_count": 33,
   "metadata": {},
   "outputs": [
    {
     "data": {
      "text/plain": [
       "<Axes: title={'center': 'Goles y asistencias por temporada'}, xlabel='Season'>"
      ]
     },
     "execution_count": 33,
     "metadata": {},
     "output_type": "execute_result"
    },
    {
     "data": {
      "image/png": "[encoded data removed]",
      "text/plain": [
       "<Figure size 1000x500 with 1 Axes>"
      ]
     },
     "metadata": {},
     "output_type": "display_data"
    }
   ],
   "source": [
    "# 📊 Goles y asistencias por edad\n",
    "\n",
    "df_cleaned_yamal.groupby(\"Season\")[[\"Goals\", \"Assists\"]].sum().plot(kind=\"bar\", figsize=(10, 5), title=\"Goles y asistencias por temporada\")\n"
   ]
  },
  {
   "cell_type": "code",
   "execution_count": 34,
   "metadata": {},
   "outputs": [
    {
     "data": {
      "text/plain": [
       "<Axes: title={'center': 'Minutos jugados por temporada'}, xlabel='Season', ylabel='Minutos'>"
      ]
     },
     "execution_count": 34,
     "metadata": {},
     "output_type": "execute_result"
    },
    {
     "data": {
      "image/png": "[encoded data removed]",
      "text/plain": [
       "<Figure size 640x480 with 1 Axes>"
      ]
     },
     "metadata": {},
     "output_type": "display_data"
    }
   ],
   "source": [
    "# 📈 Minutos jugados por temporada\n",
    "\n",
    "df_cleaned_yamal.groupby(\"Season\")[\"Minutes\"].sum().plot(kind=\"bar\", title=\"Minutos jugados por temporada\", ylabel=\"Minutos\")\n"
   ]
  },
  {
   "cell_type": "code",
   "execution_count": 35,
   "metadata": {},
   "outputs": [
    {
     "data": {
      "text/plain": [
       "<Axes: title={'center': 'Titular vs Suplente'}, ylabel='count'>"
      ]
     },
     "execution_count": 35,
     "metadata": {},
     "output_type": "execute_result"
    },
    {
     "data": {
      "image/png": "[encoded data removed]",
      "text/plain": [
       "<Figure size 640x480 with 1 Axes>"
      ]
     },
     "metadata": {},
     "output_type": "display_data"
    }
   ],
   "source": [
    "# ⚽ Distribución de titularidades vs suplencias\n",
    "\n",
    "df_cleaned_yamal[\"Lineup\"].value_counts().plot(kind=\"pie\", autopct=\"%1.1f%%\", title=\"Titular vs Suplente\")\n"
   ]
  },
  {
   "cell_type": "code",
   "execution_count": 36,
   "metadata": {},
   "outputs": [
    {
     "data": {
      "text/plain": [
       "<Axes: title={'center': 'Local vs Visitante'}, xlabel='Home/Away'>"
      ]
     },
     "execution_count": 36,
     "metadata": {},
     "output_type": "execute_result"
    },
    {
     "data": {
      "image/png": "[encoded data removed]",
      "text/plain": [
       "<Figure size 640x480 with 1 Axes>"
      ]
     },
     "metadata": {},
     "output_type": "display_data"
    }
   ],
   "source": [
    "# 🏟️ Actuaciones como local vs visitante\n",
    "\n",
    "df_cleaned_yamal[\"Home/Away\"].value_counts().plot(kind=\"bar\", title=\"Local vs Visitante\")\n"
   ]
  },
  {
   "cell_type": "code",
   "execution_count": 37,
   "metadata": {},
   "outputs": [
    {
     "data": {
      "text/plain": [
       "<Axes: title={'center': 'Evolución de minutos por edad'}, xlabel='Age', ylabel='Minutes'>"
      ]
     },
     "execution_count": 37,
     "metadata": {},
     "output_type": "execute_result"
    },
    {
     "data": {
      "image/png": "[encoded data removed]",
      "text/plain": [
       "<Figure size 640x480 with 1 Axes>"
      ]
     },
     "metadata": {},
     "output_type": "display_data"
    }
   ],
   "source": [
    "# 🧠 Evolución de minutos por partido (scatter por edad)\n",
    "\n",
    "df_cleaned_yamal.plot.scatter(x=\"Age\", y=\"Minutes\", title=\"Evolución de minutos por edad\", alpha=0.6)\n"
   ]
  },
  {
   "cell_type": "markdown",
   "metadata": {},
   "source": [
    "# Comparativa Messi vs Lamine"
   ]
  },
  {
   "cell_type": "code",
   "execution_count": 38,
   "metadata": {},
   "outputs": [
    {
     "name": "stdout",
     "output_type": "stream",
     "text": [
      "📊 Comparativa rápida:\n",
      "Messi - Goles totales: 858, Asistencias: 383, Partidos: 1092\n",
      "Lamine - Goles totales: 25, Asistencias: 32, Partidos: 118\n"
     ]
    }
   ],
   "source": [
    "print(\"📊 Comparativa rápida:\")\n",
    "print(f\"Messi - Goles totales: {df_cleaned['Goals'].sum()}, Asistencias: {df_cleaned['Assists'].sum()}, Partidos: {len(df_cleaned)}\")\n",
    "print(f\"Lamine - Goles totales: {df_cleaned_yamal['Goals'].sum()}, Asistencias: {df_cleaned_yamal['Assists'].sum()}, Partidos: {len(df_cleaned_yamal)}\")\n",
    "\n"
   ]
  },
  {
   "cell_type": "code",
   "execution_count": 39,
   "metadata": {},
   "outputs": [
    {
     "data": {
      "image/png": "[encoded data removed]",
      "text/plain": [
       "<Figure size 1000x600 with 1 Axes>"
      ]
     },
     "metadata": {},
     "output_type": "display_data"
    }
   ],
   "source": [
    "import matplotlib.pyplot as plt\n",
    "import pandas as pd\n",
    "\n",
    "# Filtrar temporadas específicas\n",
    "messi_1112 = df_cleaned[df_cleaned[\"Season\"] == \"2011-2012\"]\n",
    "lamine_2324 = df_cleaned_yamal[df_cleaned_yamal[\"Season\"] == \"2023-2024\"]\n",
    "\n",
    "# Extraer métricas\n",
    "goles_messi = messi_1112[\"Goals\"].sum()\n",
    "goles_lamine = lamine_2324[\"Goals\"].sum()\n",
    "asis_messi = messi_1112[\"Assists\"].sum()\n",
    "asis_lamine = lamine_2324[\"Assists\"].sum()\n",
    "min_messi = messi_1112[\"Minutes\"].sum()\n",
    "min_lamine = lamine_2324[\"Minutes\"].sum()\n",
    "\n",
    "# Calcular métricas por minuto\n",
    "stats_por_minuto = {\n",
    "    \"Goles por minuto\": [goles_messi / min_messi, goles_lamine / min_lamine],\n",
    "    \"Asistencias por minuto\": [asis_messi / min_messi, asis_lamine / min_lamine],\n",
    "}\n",
    "\n",
    "# Crear DataFrame comparativo\n",
    "df_minuto = pd.DataFrame(stats_por_minuto, index=[\"Messi 11/12\", \"Lamine 23/24\"])\n",
    "\n",
    "# 📈 Gráfico\n",
    "df_minuto.plot(kind=\"bar\", figsize=(10, 6), title=\"⚖️ Rendimiento por Minuto — Messi vs Lamine\", width=0.6)\n",
    "plt.ylabel(\"Ratio por minuto\")\n",
    "plt.xticks(rotation=0)\n",
    "plt.grid(axis=\"y\", linestyle=\"--\", alpha=0.4)\n",
    "plt.tight_layout()\n",
    "plt.legend(loc=\"upper right\")\n",
    "plt.show()\n",
    "\n",
    "\n",
    "\n"
   ]
  },
  {
   "cell_type": "markdown",
   "metadata": {},
   "source": [
    "# Test de hipótesis y predicciones"
   ]
  },
  {
   "cell_type": "code",
   "execution_count": 66,
   "metadata": {},
   "outputs": [
    {
     "name": "stdout",
     "output_type": "stream",
     "text": [
      "📊 Test de Hipótesis (Media Goles por Partido)\n",
      "Estadístico t: 11.4830\n",
      "Valor p: 0.0000\n",
      "❗ Hay evidencia significativa de que las medias son diferentes.\n"
     ]
    }
   ],
   "source": [
    "# ¿Messi y Lamine tienen la misma media de goles por partido?\n",
    "\n",
    "from scipy.stats import ttest_ind\n",
    "\n",
    "# Goles por partido\n",
    "goles_messi = df_messi[\"Goals\"]\n",
    "goles_lamine = df_lamine[\"Goals\"]\n",
    "\n",
    "# Test de hipótesis: H0 = misma media\n",
    "t_stat, p_value = ttest_ind(goles_messi, goles_lamine, equal_var=False)\n",
    "\n",
    "print(f\"📊 Test de Hipótesis (Media Goles por Partido)\")\n",
    "print(f\"Estadístico t: {t_stat:.4f}\")\n",
    "print(f\"Valor p: {p_value:.4f}\")\n",
    "\n",
    "if p_value < 0.05:\n",
    "    print(\"❗ Hay evidencia significativa de que las medias son diferentes.\")\n",
    "else:\n",
    "    print(\"✅ No se puede rechazar la hipótesis nula: las medias podrían ser iguales.\")\n"
   ]
  },
  {
   "cell_type": "code",
   "execution_count": 75,
   "metadata": {},
   "outputs": [
    {
     "name": "stdout",
     "output_type": "stream",
     "text": [
      "                            OLS Regression Results                            \n",
      "==============================================================================\n",
      "Dep. Variable:                  Goals   R-squared:                       0.110\n",
      "Model:                            OLS   Adj. R-squared:                  0.089\n",
      "Method:                 Least Squares   F-statistic:                     5.239\n",
      "Date:                Thu, 10 Apr 2025   Prob (F-statistic):           3.08e-15\n",
      "Time:                        23:13:30   Log-Likelihood:                -1395.9\n",
      "No. Observations:                1090   AIC:                             2844.\n",
      "Df Residuals:                    1064   BIC:                             2974.\n",
      "Df Model:                          25                                         \n",
      "Covariance Type:            nonrobust                                         \n",
      "=========================================================================================================\n",
      "                                            coef    std err          t      P>|t|      [0.025      0.975]\n",
      "---------------------------------------------------------------------------------------------------------\n",
      "const                                     1.4109      1.957      0.721      0.471      -2.430       5.251\n",
      "Minutes                                   0.0075      0.003      2.716      0.007       0.002       0.013\n",
      "Age                                      -0.1007      0.111     -0.910      0.363      -0.318       0.117\n",
      "Home/Away_Home                            0.2858      0.054      5.307      0.000       0.180       0.392\n",
      "Lineup_Substitute                         0.1112      0.183      0.607      0.544      -0.248       0.471\n",
      "Rival_Top_Atlético Madrid                 0.0709      0.193      0.367      0.714      -0.308       0.450\n",
      "Rival_Top_Espanyol                        0.0441      0.203      0.217      0.828      -0.355       0.443\n",
      "Rival_Top_Getafe                          0.0965      0.220      0.438      0.661      -0.336       0.529\n",
      "Rival_Top_Other                           0.3268      0.150      2.182      0.029       0.033       0.621\n",
      "Rival_Top_Real Betis                      0.3943      0.229      1.725      0.085      -0.054       0.843\n",
      "Rival_Top_Real Madrid                    -0.1524      0.189     -0.807      0.420      -0.523       0.218\n",
      "Rival_Top_Real Sociedad                  -0.0767      0.220     -0.349      0.727      -0.508       0.355\n",
      "Rival_Top_Sevilla                         0.1702      0.193      0.883      0.378      -0.208       0.548\n",
      "Rival_Top_Valencia                        0.1235      0.203      0.610      0.542      -0.274       0.521\n",
      "Rival_Top_Villarreal                     -0.1072      0.218     -0.493      0.622      -0.534       0.320\n",
      "Comp_Top_International friendly           0.0497      0.163      0.306      0.760      -0.269       0.369\n",
      "Comp_Top_La Liga                          0.1459      0.108      1.353      0.176      -0.066       0.357\n",
      "Comp_Top_Ligue 1                         -0.7348      0.170     -4.332      0.000      -1.068      -0.402\n",
      "Comp_Top_Major League Soccer             -0.2704      0.209     -1.293      0.196      -0.681       0.140\n",
      "Comp_Top_Other                           -0.4767      0.140     -3.399      0.001      -0.752      -0.202\n",
      "Comp_Top_Spanish Super Cup                0.0326      0.230      0.141      0.888      -0.419       0.484\n",
      "Comp_Top_UEFA Champions League           -0.1160      0.130     -0.892      0.373      -0.371       0.139\n",
      "Comp_Top_World Cup 2010 Qualification    -0.6427      0.239     -2.694      0.007      -1.111      -0.175\n",
      "Comp_Top_World Cup 2014 Qualification    -0.1833      0.261     -0.703      0.482      -0.695       0.329\n",
      "Comp_Top_World Cup 2022 Qualification    -0.6300      0.258     -2.439      0.015      -1.137      -0.123\n",
      "Season_Num                                0.1199      0.111      1.083      0.279      -0.097       0.337\n",
      "==============================================================================\n",
      "Omnibus:                      144.848   Durbin-Watson:                   1.986\n",
      "Prob(Omnibus):                  0.000   Jarque-Bera (JB):              206.090\n",
      "Skew:                           0.977   Prob(JB):                     1.77e-45\n",
      "Kurtosis:                       3.851   Cond. No.                     6.58e+03\n",
      "==============================================================================\n",
      "\n",
      "Notes:\n",
      "[1] Standard Errors assume that the covariance matrix of the errors is correctly specified.\n",
      "[2] The condition number is large, 6.58e+03. This might indicate that there are\n",
      "strong multicollinearity or other numerical problems.\n"
     ]
    }
   ],
   "source": [
    "import pandas as pd\n",
    "import numpy as np\n",
    "import statsmodels.api as sm\n",
    "\n",
    "# Copia del DataFrame original\n",
    "df_model = df_messi[[\"Goals\", \"Minutes\", \"Age\", \"Home/Away\", \"Lineup\", \"Competition\", \"Season\", \"Rival_Team_Name\"]].copy()\n",
    "\n",
    "# Eliminar filas con nulos\n",
    "df_model = df_model.dropna()\n",
    "\n",
    "# 🔢 Filtrar rivales y competiciones más frecuentes\n",
    "top_rivales = df_model[\"Rival_Team_Name\"].value_counts().head(10).index\n",
    "top_competitions = df_model[\"Competition\"].value_counts().head(10).index\n",
    "\n",
    "df_model[\"Rival_Top\"] = df_model[\"Rival_Team_Name\"].where(df_model[\"Rival_Team_Name\"].isin(top_rivales), \"Other\")\n",
    "df_model[\"Comp_Top\"] = df_model[\"Competition\"].where(df_model[\"Competition\"].isin(top_competitions), \"Other\")\n",
    "\n",
    "# ✅ Variables categóricas a dummies\n",
    "df_model = pd.get_dummies(df_model, columns=[\"Home/Away\", \"Lineup\", \"Rival_Top\", \"Comp_Top\"], drop_first=True)\n",
    "\n",
    "# 🔁 Codificamos Season si es necesario (puede funcionar como proxy de evolución temporal)\n",
    "df_model[\"Season_Num\"] = df_model[\"Season\"].astype(\"category\").cat.codes\n",
    "\n",
    "# 🎯 Variables\n",
    "X = df_model.drop(columns=[\"Goals\", \"Rival_Team_Name\", \"Competition\", \"Season\"])  # quitamos las originales categóricas\n",
    "y = df_model[\"Goals\"]\n",
    "\n",
    "# Añadir constante\n",
    "X = sm.add_constant(X)\n",
    "\n",
    "# Convertir a float\n",
    "X = X.astype(float)\n",
    "y = y.astype(float)\n",
    "\n",
    "# 📈 Ajustar modelo\n",
    "model = sm.OLS(y, X).fit()\n",
    "print(model.summary())\n",
    "\n",
    "\n"
   ]
  },
  {
   "cell_type": "code",
   "execution_count": 76,
   "metadata": {},
   "outputs": [
    {
     "data": {
      "image/png": "[encoded data removed]",
      "text/plain": [
       "<Figure size 800x500 with 1 Axes>"
      ]
     },
     "metadata": {},
     "output_type": "display_data"
    }
   ],
   "source": [
    "import matplotlib.pyplot as plt\n",
    "\n",
    "y_pred = model.predict(X)\n",
    "\n",
    "plt.figure(figsize=(8, 5))\n",
    "plt.scatter(y, y_pred, alpha=0.5)\n",
    "plt.plot([0, y.max()], [0, y.max()], 'r--', label=\"Ideal\")\n",
    "plt.xlabel(\"Goles reales\")\n",
    "plt.ylabel(\"Goles predichos\")\n",
    "plt.title(\"Predicción vs Real - Modelo Messi\")\n",
    "plt.legend()\n",
    "plt.tight_layout()\n",
    "plt.show()\n"
   ]
  },
  {
   "cell_type": "code",
   "execution_count": 70,
   "metadata": {},
   "outputs": [
    {
     "name": "stdout",
     "output_type": "stream",
     "text": [
      "⚽ Goles esperados por Messi si juega 90 minutos: 0.83\n"
     ]
    }
   ],
   "source": [
    "# Predicción simple: goles esperados según minutos\n",
    "\n",
    "# Predecir goles si juega 90 minutos\n",
    "min_jugados = 90\n",
    "goles_esperados = modelo.predict([1, min_jugados])[0]\n",
    "print(f\"⚽ Goles esperados por Messi si juega {min_jugados} minutos: {goles_esperados:.2f}\")\n"
   ]
  },
  {
   "cell_type": "markdown",
   "metadata": {},
   "source": [
    "# Extra SQL Messi"
   ]
  },
  {
   "cell_type": "code",
   "execution_count": 40,
   "metadata": {},
   "outputs": [],
   "source": [
    "# 📦 Cargar variables de entorno desde .env (asegúrate de tener el archivo en la raíz del proyecto)\n",
    "from dotenv import load_dotenv\n",
    "import os\n",
    "load_dotenv()\n",
    "\n",
    "# ✅ Recuperar credenciales de la base de datos\n",
    "host = os.getenv(\"DB_HOST\")\n",
    "user = os.getenv(\"DB_USER\")\n",
    "password = os.getenv(\"DB_PASSWORD\")\n",
    "database = os.getenv(\"DB_NAME\")\n",
    "\n",
    "# 🛠️ Agregar carpeta src/ al path para poder importar módulos personalizados\n",
    "import sys\n",
    "from pathlib import Path\n",
    "\n",
    "root_path = Path().resolve()  # Ajusta esto si estás dentro de otra carpeta como notebooks/\n",
    "src_path = root_path / \"src\"\n",
    "if str(src_path) not in sys.path:\n",
    "    sys.path.append(str(src_path))\n",
    "\n",
    "# 🧩 Importar función para obtener el engine de conexión a MySQL\n",
    "from db import get_engine\n",
    "\n",
    "# ⚙️ Crear el engine de conexión\n",
    "engine = get_engine()\n"
   ]
  },
  {
   "cell_type": "code",
   "execution_count": 41,
   "metadata": {},
   "outputs": [
    {
     "name": "stdout",
     "output_type": "stream",
     "text": [
      "✅ Datos procesados guardados en: F:\\JCMDataCenter\\Cursos\\Evolve Academy\\Data Scientist IA\\Evolve_Proyecto_Abril\\data\\processed\\messi_cleaned_data.csv\n",
      "Columnas del DataFrame: ['Date', 'Season', 'Age', 'Player', 'Player_Team', 'Home/Away', 'Competition', 'Home Team', 'Result', 'Away Team', 'Rival_Team_Name', 'Lineup', 'Minutes', 'Goals', 'Assists', 'Cards']\n"
     ]
    },
    {
     "data": {
      "text/html": [
       "<div>\n",
       "<style scoped>\n",
       "    .dataframe tbody tr th:only-of-type {\n",
       "        vertical-align: middle;\n",
       "    }\n",
       "\n",
       "    .dataframe tbody tr th {\n",
       "        vertical-align: top;\n",
       "    }\n",
       "\n",
       "    .dataframe thead th {\n",
       "        text-align: right;\n",
       "    }\n",
       "</style>\n",
       "<table border=\"1\" class=\"dataframe\">\n",
       "  <thead>\n",
       "    <tr style=\"text-align: right;\">\n",
       "      <th></th>\n",
       "      <th>Field</th>\n",
       "      <th>Type</th>\n",
       "      <th>Null</th>\n",
       "      <th>Key</th>\n",
       "      <th>Default</th>\n",
       "      <th>Extra</th>\n",
       "    </tr>\n",
       "  </thead>\n",
       "  <tbody>\n",
       "    <tr>\n",
       "      <th>0</th>\n",
       "      <td>Date</td>\n",
       "      <td>datetime</td>\n",
       "      <td>YES</td>\n",
       "      <td></td>\n",
       "      <td>None</td>\n",
       "      <td></td>\n",
       "    </tr>\n",
       "    <tr>\n",
       "      <th>1</th>\n",
       "      <td>Season</td>\n",
       "      <td>text</td>\n",
       "      <td>YES</td>\n",
       "      <td></td>\n",
       "      <td>None</td>\n",
       "      <td></td>\n",
       "    </tr>\n",
       "    <tr>\n",
       "      <th>2</th>\n",
       "      <td>Age</td>\n",
       "      <td>text</td>\n",
       "      <td>YES</td>\n",
       "      <td></td>\n",
       "      <td>None</td>\n",
       "      <td></td>\n",
       "    </tr>\n",
       "    <tr>\n",
       "      <th>3</th>\n",
       "      <td>Player</td>\n",
       "      <td>text</td>\n",
       "      <td>YES</td>\n",
       "      <td></td>\n",
       "      <td>None</td>\n",
       "      <td></td>\n",
       "    </tr>\n",
       "    <tr>\n",
       "      <th>4</th>\n",
       "      <td>Player_Team</td>\n",
       "      <td>text</td>\n",
       "      <td>YES</td>\n",
       "      <td></td>\n",
       "      <td>None</td>\n",
       "      <td></td>\n",
       "    </tr>\n",
       "    <tr>\n",
       "      <th>5</th>\n",
       "      <td>Home/Away</td>\n",
       "      <td>text</td>\n",
       "      <td>YES</td>\n",
       "      <td></td>\n",
       "      <td>None</td>\n",
       "      <td></td>\n",
       "    </tr>\n",
       "    <tr>\n",
       "      <th>6</th>\n",
       "      <td>Competition</td>\n",
       "      <td>text</td>\n",
       "      <td>YES</td>\n",
       "      <td></td>\n",
       "      <td>None</td>\n",
       "      <td></td>\n",
       "    </tr>\n",
       "    <tr>\n",
       "      <th>7</th>\n",
       "      <td>Home Team</td>\n",
       "      <td>text</td>\n",
       "      <td>YES</td>\n",
       "      <td></td>\n",
       "      <td>None</td>\n",
       "      <td></td>\n",
       "    </tr>\n",
       "    <tr>\n",
       "      <th>8</th>\n",
       "      <td>Result</td>\n",
       "      <td>text</td>\n",
       "      <td>YES</td>\n",
       "      <td></td>\n",
       "      <td>None</td>\n",
       "      <td></td>\n",
       "    </tr>\n",
       "    <tr>\n",
       "      <th>9</th>\n",
       "      <td>Away Team</td>\n",
       "      <td>text</td>\n",
       "      <td>YES</td>\n",
       "      <td></td>\n",
       "      <td>None</td>\n",
       "      <td></td>\n",
       "    </tr>\n",
       "    <tr>\n",
       "      <th>10</th>\n",
       "      <td>Rival_Team_Name</td>\n",
       "      <td>text</td>\n",
       "      <td>YES</td>\n",
       "      <td></td>\n",
       "      <td>None</td>\n",
       "      <td></td>\n",
       "    </tr>\n",
       "    <tr>\n",
       "      <th>11</th>\n",
       "      <td>Lineup</td>\n",
       "      <td>text</td>\n",
       "      <td>YES</td>\n",
       "      <td></td>\n",
       "      <td>None</td>\n",
       "      <td></td>\n",
       "    </tr>\n",
       "    <tr>\n",
       "      <th>12</th>\n",
       "      <td>Minutes</td>\n",
       "      <td>bigint</td>\n",
       "      <td>YES</td>\n",
       "      <td></td>\n",
       "      <td>None</td>\n",
       "      <td></td>\n",
       "    </tr>\n",
       "    <tr>\n",
       "      <th>13</th>\n",
       "      <td>Goals</td>\n",
       "      <td>bigint</td>\n",
       "      <td>YES</td>\n",
       "      <td></td>\n",
       "      <td>None</td>\n",
       "      <td></td>\n",
       "    </tr>\n",
       "    <tr>\n",
       "      <th>14</th>\n",
       "      <td>Assists</td>\n",
       "      <td>bigint</td>\n",
       "      <td>YES</td>\n",
       "      <td></td>\n",
       "      <td>None</td>\n",
       "      <td></td>\n",
       "    </tr>\n",
       "    <tr>\n",
       "      <th>15</th>\n",
       "      <td>Cards</td>\n",
       "      <td>bigint</td>\n",
       "      <td>YES</td>\n",
       "      <td></td>\n",
       "      <td>None</td>\n",
       "      <td></td>\n",
       "    </tr>\n",
       "  </tbody>\n",
       "</table>\n",
       "</div>"
      ],
      "text/plain": [
       "              Field      Type Null Key Default Extra\n",
       "0              Date  datetime  YES        None      \n",
       "1            Season      text  YES        None      \n",
       "2               Age      text  YES        None      \n",
       "3            Player      text  YES        None      \n",
       "4       Player_Team      text  YES        None      \n",
       "5         Home/Away      text  YES        None      \n",
       "6       Competition      text  YES        None      \n",
       "7         Home Team      text  YES        None      \n",
       "8            Result      text  YES        None      \n",
       "9         Away Team      text  YES        None      \n",
       "10  Rival_Team_Name      text  YES        None      \n",
       "11           Lineup      text  YES        None      \n",
       "12          Minutes    bigint  YES        None      \n",
       "13            Goals    bigint  YES        None      \n",
       "14          Assists    bigint  YES        None      \n",
       "15            Cards    bigint  YES        None      "
      ]
     },
     "execution_count": 41,
     "metadata": {},
     "output_type": "execute_result"
    }
   ],
   "source": [
    "# 🧼 Importar función de procesamiento (desde src/processing.py)\n",
    "from processing import process_data\n",
    "\n",
    "# 🧠 Ejecutar la función para obtener el DataFrame procesado\n",
    "df = process_data(return_df=True)\n",
    "\n",
    "# 👀 Verificar columnas del DataFrame\n",
    "print(\"Columnas del DataFrame:\", df.columns.tolist())  # Confirmar que tenga \"Home/Away\" y demás\n",
    "\n",
    "# 💾 Guardar el DataFrame en la base de datos\n",
    "df.to_sql(\"messi_career_data\", con=engine, if_exists=\"replace\", index=False)\n",
    "\n",
    "# 🔍 Comprobar que la tabla se creó correctamente\n",
    "import pandas as pd\n",
    "pd.read_sql(\"SHOW COLUMNS FROM messi_career_data;\", engine)\n",
    "\n"
   ]
  },
  {
   "cell_type": "code",
   "execution_count": 42,
   "metadata": {},
   "outputs": [
    {
     "data": {
      "application/vnd.plotly.v1+json": {
       "config": {
        "plotlyServerURL": "https://plot.ly"
       },
       "data": [
        {
         "alignmentgroup": "True",
         "hovertemplate": "variable=Total_Goals<br>Season=%{x}<br>value=%{y}<extra></extra>",
         "legendgroup": "Total_Goals",
         "marker": {
          "color": "#636efa",
          "pattern": {
           "shape": ""
          }
         },
         "name": "Total_Goals",
         "offsetgroup": "Total_Goals",
         "orientation": "v",
         "showlegend": true,
         "textposition": "auto",
         "type": "bar",
         "x": [
          "2004-2005",
          "2005-2006",
          "2006-2007",
          "2007-2008",
          "2008-2009",
          "2009-2010",
          "2010-2011",
          "2011-2012",
          "2012-2013",
          "2013-2014",
          "2014-2015",
          "2015-2016",
          "2016-2017",
          "2017-2018",
          "2018-2019",
          "2019-2020",
          "2020-2021",
          "2021-2022",
          "2022-2023",
          "2023-2024",
          "2024-2025"
         ],
         "xaxis": "x",
         "y": [
          1,
          10,
          21,
          19,
          41,
          48,
          57,
          82,
          69,
          48,
          62,
          50,
          57,
          52,
          54,
          33,
          44,
          22,
          40,
          28,
          20
         ],
         "yaxis": "y"
        },
        {
         "alignmentgroup": "True",
         "hovertemplate": "variable=Total_Assists<br>Season=%{x}<br>value=%{y}<extra></extra>",
         "legendgroup": "Total_Assists",
         "marker": {
          "color": "#EF553B",
          "pattern": {
           "shape": ""
          }
         },
         "name": "Total_Assists",
         "offsetgroup": "Total_Assists",
         "orientation": "v",
         "showlegend": true,
         "textposition": "auto",
         "type": "bar",
         "x": [
          "2004-2005",
          "2005-2006",
          "2006-2007",
          "2007-2008",
          "2008-2009",
          "2009-2010",
          "2010-2011",
          "2011-2012",
          "2012-2013",
          "2013-2014",
          "2014-2015",
          "2015-2016",
          "2016-2017",
          "2017-2018",
          "2018-2019",
          "2019-2020",
          "2020-2021",
          "2021-2022",
          "2022-2023",
          "2023-2024",
          "2024-2025"
         ],
         "xaxis": "x",
         "y": [
          0,
          6,
          5,
          16,
          19,
          12,
          29,
          34,
          18,
          16,
          32,
          27,
          18,
          21,
          20,
          26,
          17,
          16,
          26,
          17,
          8
         ],
         "yaxis": "y"
        }
       ],
       "layout": {
        "barmode": "group",
        "legend": {
         "title": {
          "text": "variable"
         },
         "tracegroupgap": 0
        },
        "template": {
         "data": {
          "bar": [
           {
            "error_x": {
             "color": "#2a3f5f"
            },
            "error_y": {
             "color": "#2a3f5f"
            },
            "marker": {
             "line": {
              "color": "#E5ECF6",
              "width": 0.5
             },
             "pattern": {
              "fillmode": "overlay",
              "size": 10,
              "solidity": 0.2
             }
            },
            "type": "bar"
           }
          ],
          "barpolar": [
           {
            "marker": {
             "line": {
              "color": "#E5ECF6",
              "width": 0.5
             },
             "pattern": {
              "fillmode": "overlay",
              "size": 10,
              "solidity": 0.2
             }
            },
            "type": "barpolar"
           }
          ],
          "carpet": [
           {
            "aaxis": {
             "endlinecolor": "#2a3f5f",
             "gridcolor": "white",
             "linecolor": "white",
             "minorgridcolor": "white",
             "startlinecolor": "#2a3f5f"
            },
            "baxis": {
             "endlinecolor": "#2a3f5f",
             "gridcolor": "white",
             "linecolor": "white",
             "minorgridcolor": "white",
             "startlinecolor": "#2a3f5f"
            },
            "type": "carpet"
           }
          ],
          "choropleth": [
           {
            "colorbar": {
             "outlinewidth": 0,
             "ticks": ""
            },
            "type": "choropleth"
           }
          ],
          "contour": [
           {
            "colorbar": {
             "outlinewidth": 0,
             "ticks": ""
            },
            "colorscale": [
             [
              0,
              "#0d0887"
             ],
             [
              0.1111111111111111,
              "#46039f"
             ],
             [
              0.2222222222222222,
              "#7201a8"
             ],
             [
              0.3333333333333333,
              "#9c179e"
             ],
             [
              0.4444444444444444,
              "#bd3786"
             ],
             [
              0.5555555555555556,
              "#d8576b"
             ],
             [
              0.6666666666666666,
              "#ed7953"
             ],
             [
              0.7777777777777778,
              "#fb9f3a"
             ],
             [
              0.8888888888888888,
              "#fdca26"
             ],
             [
              1,
              "#f0f921"
             ]
            ],
            "type": "contour"
           }
          ],
          "contourcarpet": [
           {
            "colorbar": {
             "outlinewidth": 0,
             "ticks": ""
            },
            "type": "contourcarpet"
           }
          ],
          "heatmap": [
           {
            "colorbar": {
             "outlinewidth": 0,
             "ticks": ""
            },
            "colorscale": [
             [
              0,
              "#0d0887"
             ],
             [
              0.1111111111111111,
              "#46039f"
             ],
             [
              0.2222222222222222,
              "#7201a8"
             ],
             [
              0.3333333333333333,
              "#9c179e"
             ],
             [
              0.4444444444444444,
              "#bd3786"
             ],
             [
              0.5555555555555556,
              "#d8576b"
             ],
             [
              0.6666666666666666,
              "#ed7953"
             ],
             [
              0.7777777777777778,
              "#fb9f3a"
             ],
             [
              0.8888888888888888,
              "#fdca26"
             ],
             [
              1,
              "#f0f921"
             ]
            ],
            "type": "heatmap"
           }
          ],
          "heatmapgl": [
           {
            "colorbar": {
             "outlinewidth": 0,
             "ticks": ""
            },
            "colorscale": [
             [
              0,
              "#0d0887"
             ],
             [
              0.1111111111111111,
              "#46039f"
             ],
             [
              0.2222222222222222,
              "#7201a8"
             ],
             [
              0.3333333333333333,
              "#9c179e"
             ],
             [
              0.4444444444444444,
              "#bd3786"
             ],
             [
              0.5555555555555556,
              "#d8576b"
             ],
             [
              0.6666666666666666,
              "#ed7953"
             ],
             [
              0.7777777777777778,
              "#fb9f3a"
             ],
             [
              0.8888888888888888,
              "#fdca26"
             ],
             [
              1,
              "#f0f921"
             ]
            ],
            "type": "heatmapgl"
           }
          ],
          "histogram": [
           {
            "marker": {
             "pattern": {
              "fillmode": "overlay",
              "size": 10,
              "solidity": 0.2
             }
            },
            "type": "histogram"
           }
          ],
          "histogram2d": [
           {
            "colorbar": {
             "outlinewidth": 0,
             "ticks": ""
            },
            "colorscale": [
             [
              0,
              "#0d0887"
             ],
             [
              0.1111111111111111,
              "#46039f"
             ],
             [
              0.2222222222222222,
              "#7201a8"
             ],
             [
              0.3333333333333333,
              "#9c179e"
             ],
             [
              0.4444444444444444,
              "#bd3786"
             ],
             [
              0.5555555555555556,
              "#d8576b"
             ],
             [
              0.6666666666666666,
              "#ed7953"
             ],
             [
              0.7777777777777778,
              "#fb9f3a"
             ],
             [
              0.8888888888888888,
              "#fdca26"
             ],
             [
              1,
              "#f0f921"
             ]
            ],
            "type": "histogram2d"
           }
          ],
          "histogram2dcontour": [
           {
            "colorbar": {
             "outlinewidth": 0,
             "ticks": ""
            },
            "colorscale": [
             [
              0,
              "#0d0887"
             ],
             [
              0.1111111111111111,
              "#46039f"
             ],
             [
              0.2222222222222222,
              "#7201a8"
             ],
             [
              0.3333333333333333,
              "#9c179e"
             ],
             [
              0.4444444444444444,
              "#bd3786"
             ],
             [
              0.5555555555555556,
              "#d8576b"
             ],
             [
              0.6666666666666666,
              "#ed7953"
             ],
             [
              0.7777777777777778,
              "#fb9f3a"
             ],
             [
              0.8888888888888888,
              "#fdca26"
             ],
             [
              1,
              "#f0f921"
             ]
            ],
            "type": "histogram2dcontour"
           }
          ],
          "mesh3d": [
           {
            "colorbar": {
             "outlinewidth": 0,
             "ticks": ""
            },
            "type": "mesh3d"
           }
          ],
          "parcoords": [
           {
            "line": {
             "colorbar": {
              "outlinewidth": 0,
              "ticks": ""
             }
            },
            "type": "parcoords"
           }
          ],
          "pie": [
           {
            "automargin": true,
            "type": "pie"
           }
          ],
          "scatter": [
           {
            "fillpattern": {
             "fillmode": "overlay",
             "size": 10,
             "solidity": 0.2
            },
            "type": "scatter"
           }
          ],
          "scatter3d": [
           {
            "line": {
             "colorbar": {
              "outlinewidth": 0,
              "ticks": ""
             }
            },
            "marker": {
             "colorbar": {
              "outlinewidth": 0,
              "ticks": ""
             }
            },
            "type": "scatter3d"
           }
          ],
          "scattercarpet": [
           {
            "marker": {
             "colorbar": {
              "outlinewidth": 0,
              "ticks": ""
             }
            },
            "type": "scattercarpet"
           }
          ],
          "scattergeo": [
           {
            "marker": {
             "colorbar": {
              "outlinewidth": 0,
              "ticks": ""
             }
            },
            "type": "scattergeo"
           }
          ],
          "scattergl": [
           {
            "marker": {
             "colorbar": {
              "outlinewidth": 0,
              "ticks": ""
             }
            },
            "type": "scattergl"
           }
          ],
          "scattermapbox": [
           {
            "marker": {
             "colorbar": {
              "outlinewidth": 0,
              "ticks": ""
             }
            },
            "type": "scattermapbox"
           }
          ],
          "scatterpolar": [
           {
            "marker": {
             "colorbar": {
              "outlinewidth": 0,
              "ticks": ""
             }
            },
            "type": "scatterpolar"
           }
          ],
          "scatterpolargl": [
           {
            "marker": {
             "colorbar": {
              "outlinewidth": 0,
              "ticks": ""
             }
            },
            "type": "scatterpolargl"
           }
          ],
          "scatterternary": [
           {
            "marker": {
             "colorbar": {
              "outlinewidth": 0,
              "ticks": ""
             }
            },
            "type": "scatterternary"
           }
          ],
          "surface": [
           {
            "colorbar": {
             "outlinewidth": 0,
             "ticks": ""
            },
            "colorscale": [
             [
              0,
              "#0d0887"
             ],
             [
              0.1111111111111111,
              "#46039f"
             ],
             [
              0.2222222222222222,
              "#7201a8"
             ],
             [
              0.3333333333333333,
              "#9c179e"
             ],
             [
              0.4444444444444444,
              "#bd3786"
             ],
             [
              0.5555555555555556,
              "#d8576b"
             ],
             [
              0.6666666666666666,
              "#ed7953"
             ],
             [
              0.7777777777777778,
              "#fb9f3a"
             ],
             [
              0.8888888888888888,
              "#fdca26"
             ],
             [
              1,
              "#f0f921"
             ]
            ],
            "type": "surface"
           }
          ],
          "table": [
           {
            "cells": {
             "fill": {
              "color": "#EBF0F8"
             },
             "line": {
              "color": "white"
             }
            },
            "header": {
             "fill": {
              "color": "#C8D4E3"
             },
             "line": {
              "color": "white"
             }
            },
            "type": "table"
           }
          ]
         },
         "layout": {
          "annotationdefaults": {
           "arrowcolor": "#2a3f5f",
           "arrowhead": 0,
           "arrowwidth": 1
          },
          "autotypenumbers": "strict",
          "coloraxis": {
           "colorbar": {
            "outlinewidth": 0,
            "ticks": ""
           }
          },
          "colorscale": {
           "diverging": [
            [
             0,
             "#8e0152"
            ],
            [
             0.1,
             "#c51b7d"
            ],
            [
             0.2,
             "#de77ae"
            ],
            [
             0.3,
             "#f1b6da"
            ],
            [
             0.4,
             "#fde0ef"
            ],
            [
             0.5,
             "#f7f7f7"
            ],
            [
             0.6,
             "#e6f5d0"
            ],
            [
             0.7,
             "#b8e186"
            ],
            [
             0.8,
             "#7fbc41"
            ],
            [
             0.9,
             "#4d9221"
            ],
            [
             1,
             "#276419"
            ]
           ],
           "sequential": [
            [
             0,
             "#0d0887"
            ],
            [
             0.1111111111111111,
             "#46039f"
            ],
            [
             0.2222222222222222,
             "#7201a8"
            ],
            [
             0.3333333333333333,
             "#9c179e"
            ],
            [
             0.4444444444444444,
             "#bd3786"
            ],
            [
             0.5555555555555556,
             "#d8576b"
            ],
            [
             0.6666666666666666,
             "#ed7953"
            ],
            [
             0.7777777777777778,
             "#fb9f3a"
            ],
            [
             0.8888888888888888,
             "#fdca26"
            ],
            [
             1,
             "#f0f921"
            ]
           ],
           "sequentialminus": [
            [
             0,
             "#0d0887"
            ],
            [
             0.1111111111111111,
             "#46039f"
            ],
            [
             0.2222222222222222,
             "#7201a8"
            ],
            [
             0.3333333333333333,
             "#9c179e"
            ],
            [
             0.4444444444444444,
             "#bd3786"
            ],
            [
             0.5555555555555556,
             "#d8576b"
            ],
            [
             0.6666666666666666,
             "#ed7953"
            ],
            [
             0.7777777777777778,
             "#fb9f3a"
            ],
            [
             0.8888888888888888,
             "#fdca26"
            ],
            [
             1,
             "#f0f921"
            ]
           ]
          },
          "colorway": [
           "#636efa",
           "#EF553B",
           "#00cc96",
           "#ab63fa",
           "#FFA15A",
           "#19d3f3",
           "#FF6692",
           "#B6E880",
           "#FF97FF",
           "#FECB52"
          ],
          "font": {
           "color": "#2a3f5f"
          },
          "geo": {
           "bgcolor": "white",
           "lakecolor": "white",
           "landcolor": "#E5ECF6",
           "showlakes": true,
           "showland": true,
           "subunitcolor": "white"
          },
          "hoverlabel": {
           "align": "left"
          },
          "hovermode": "closest",
          "mapbox": {
           "style": "light"
          },
          "paper_bgcolor": "white",
          "plot_bgcolor": "#E5ECF6",
          "polar": {
           "angularaxis": {
            "gridcolor": "white",
            "linecolor": "white",
            "ticks": ""
           },
           "bgcolor": "#E5ECF6",
           "radialaxis": {
            "gridcolor": "white",
            "linecolor": "white",
            "ticks": ""
           }
          },
          "scene": {
           "xaxis": {
            "backgroundcolor": "#E5ECF6",
            "gridcolor": "white",
            "gridwidth": 2,
            "linecolor": "white",
            "showbackground": true,
            "ticks": "",
            "zerolinecolor": "white"
           },
           "yaxis": {
            "backgroundcolor": "#E5ECF6",
            "gridcolor": "white",
            "gridwidth": 2,
            "linecolor": "white",
            "showbackground": true,
            "ticks": "",
            "zerolinecolor": "white"
           },
           "zaxis": {
            "backgroundcolor": "#E5ECF6",
            "gridcolor": "white",
            "gridwidth": 2,
            "linecolor": "white",
            "showbackground": true,
            "ticks": "",
            "zerolinecolor": "white"
           }
          },
          "shapedefaults": {
           "line": {
            "color": "#2a3f5f"
           }
          },
          "ternary": {
           "aaxis": {
            "gridcolor": "white",
            "linecolor": "white",
            "ticks": ""
           },
           "baxis": {
            "gridcolor": "white",
            "linecolor": "white",
            "ticks": ""
           },
           "bgcolor": "#E5ECF6",
           "caxis": {
            "gridcolor": "white",
            "linecolor": "white",
            "ticks": ""
           }
          },
          "title": {
           "x": 0.05
          },
          "xaxis": {
           "automargin": true,
           "gridcolor": "white",
           "linecolor": "white",
           "ticks": "",
           "title": {
            "standoff": 15
           },
           "zerolinecolor": "white",
           "zerolinewidth": 2
          },
          "yaxis": {
           "automargin": true,
           "gridcolor": "white",
           "linecolor": "white",
           "ticks": "",
           "title": {
            "standoff": 15
           },
           "zerolinecolor": "white",
           "zerolinewidth": 2
          }
         }
        },
        "title": {
         "text": "⚽ Goles y 🎯 Asistencias por Temporada"
        },
        "xaxis": {
         "anchor": "y",
         "domain": [
          0,
          1
         ],
         "title": {
          "text": "Season"
         }
        },
        "yaxis": {
         "anchor": "x",
         "domain": [
          0,
          1
         ],
         "title": {
          "text": "value"
         }
        }
       }
      }
     },
     "metadata": {},
     "output_type": "display_data"
    }
   ],
   "source": [
    "# Goles y asistencias por temporada\n",
    "\n",
    "import pandas as pd\n",
    "import plotly.express as px\n",
    "from src.db import get_engine\n",
    "\n",
    "engine = get_engine()\n",
    "\n",
    "query = \"\"\"\n",
    "SELECT\n",
    "  `Season`,\n",
    "  SUM(`Goals`) AS Total_Goals,\n",
    "  SUM(`Assists`) AS Total_Assists\n",
    "FROM messi_career_data\n",
    "GROUP BY `Season`\n",
    "ORDER BY `Season`;\n",
    "\"\"\"\n",
    "\n",
    "df = pd.read_sql(query, engine)\n",
    "\n",
    "fig = px.bar(df, x=\"Season\", y=[\"Total_Goals\", \"Total_Assists\"],\n",
    "             title=\"⚽ Goles y 🎯 Asistencias por Temporada\",\n",
    "             barmode=\"group\")\n",
    "fig.show()\n"
   ]
  },
  {
   "cell_type": "code",
   "execution_count": 43,
   "metadata": {},
   "outputs": [
    {
     "data": {
      "application/vnd.plotly.v1+json": {
       "config": {
        "plotlyServerURL": "https://plot.ly"
       },
       "data": [
        {
         "alignmentgroup": "True",
         "hovertemplate": "Local/Visitante=%{x}<br>Goles=%{y}<extra></extra>",
         "legendgroup": "",
         "marker": {
          "color": "#636efa",
          "pattern": {
           "shape": ""
          }
         },
         "name": "",
         "offsetgroup": "",
         "orientation": "v",
         "showlegend": false,
         "textposition": "auto",
         "texttemplate": "%{y}",
         "type": "bar",
         "x": [
          "Home",
          "Away"
         ],
         "xaxis": "x",
         "y": [
          518,
          340
         ],
         "yaxis": "y"
        }
       ],
       "layout": {
        "barmode": "relative",
        "legend": {
         "tracegroupgap": 0
        },
        "template": {
         "data": {
          "bar": [
           {
            "error_x": {
             "color": "#2a3f5f"
            },
            "error_y": {
             "color": "#2a3f5f"
            },
            "marker": {
             "line": {
              "color": "#E5ECF6",
              "width": 0.5
             },
             "pattern": {
              "fillmode": "overlay",
              "size": 10,
              "solidity": 0.2
             }
            },
            "type": "bar"
           }
          ],
          "barpolar": [
           {
            "marker": {
             "line": {
              "color": "#E5ECF6",
              "width": 0.5
             },
             "pattern": {
              "fillmode": "overlay",
              "size": 10,
              "solidity": 0.2
             }
            },
            "type": "barpolar"
           }
          ],
          "carpet": [
           {
            "aaxis": {
             "endlinecolor": "#2a3f5f",
             "gridcolor": "white",
             "linecolor": "white",
             "minorgridcolor": "white",
             "startlinecolor": "#2a3f5f"
            },
            "baxis": {
             "endlinecolor": "#2a3f5f",
             "gridcolor": "white",
             "linecolor": "white",
             "minorgridcolor": "white",
             "startlinecolor": "#2a3f5f"
            },
            "type": "carpet"
           }
          ],
          "choropleth": [
           {
            "colorbar": {
             "outlinewidth": 0,
             "ticks": ""
            },
            "type": "choropleth"
           }
          ],
          "contour": [
           {
            "colorbar": {
             "outlinewidth": 0,
             "ticks": ""
            },
            "colorscale": [
             [
              0,
              "#0d0887"
             ],
             [
              0.1111111111111111,
              "#46039f"
             ],
             [
              0.2222222222222222,
              "#7201a8"
             ],
             [
              0.3333333333333333,
              "#9c179e"
             ],
             [
              0.4444444444444444,
              "#bd3786"
             ],
             [
              0.5555555555555556,
              "#d8576b"
             ],
             [
              0.6666666666666666,
              "#ed7953"
             ],
             [
              0.7777777777777778,
              "#fb9f3a"
             ],
             [
              0.8888888888888888,
              "#fdca26"
             ],
             [
              1,
              "#f0f921"
             ]
            ],
            "type": "contour"
           }
          ],
          "contourcarpet": [
           {
            "colorbar": {
             "outlinewidth": 0,
             "ticks": ""
            },
            "type": "contourcarpet"
           }
          ],
          "heatmap": [
           {
            "colorbar": {
             "outlinewidth": 0,
             "ticks": ""
            },
            "colorscale": [
             [
              0,
              "#0d0887"
             ],
             [
              0.1111111111111111,
              "#46039f"
             ],
             [
              0.2222222222222222,
              "#7201a8"
             ],
             [
              0.3333333333333333,
              "#9c179e"
             ],
             [
              0.4444444444444444,
              "#bd3786"
             ],
             [
              0.5555555555555556,
              "#d8576b"
             ],
             [
              0.6666666666666666,
              "#ed7953"
             ],
             [
              0.7777777777777778,
              "#fb9f3a"
             ],
             [
              0.8888888888888888,
              "#fdca26"
             ],
             [
              1,
              "#f0f921"
             ]
            ],
            "type": "heatmap"
           }
          ],
          "heatmapgl": [
           {
            "colorbar": {
             "outlinewidth": 0,
             "ticks": ""
            },
            "colorscale": [
             [
              0,
              "#0d0887"
             ],
             [
              0.1111111111111111,
              "#46039f"
             ],
             [
              0.2222222222222222,
              "#7201a8"
             ],
             [
              0.3333333333333333,
              "#9c179e"
             ],
             [
              0.4444444444444444,
              "#bd3786"
             ],
             [
              0.5555555555555556,
              "#d8576b"
             ],
             [
              0.6666666666666666,
              "#ed7953"
             ],
             [
              0.7777777777777778,
              "#fb9f3a"
             ],
             [
              0.8888888888888888,
              "#fdca26"
             ],
             [
              1,
              "#f0f921"
             ]
            ],
            "type": "heatmapgl"
           }
          ],
          "histogram": [
           {
            "marker": {
             "pattern": {
              "fillmode": "overlay",
              "size": 10,
              "solidity": 0.2
             }
            },
            "type": "histogram"
           }
          ],
          "histogram2d": [
           {
            "colorbar": {
             "outlinewidth": 0,
             "ticks": ""
            },
            "colorscale": [
             [
              0,
              "#0d0887"
             ],
             [
              0.1111111111111111,
              "#46039f"
             ],
             [
              0.2222222222222222,
              "#7201a8"
             ],
             [
              0.3333333333333333,
              "#9c179e"
             ],
             [
              0.4444444444444444,
              "#bd3786"
             ],
             [
              0.5555555555555556,
              "#d8576b"
             ],
             [
              0.6666666666666666,
              "#ed7953"
             ],
             [
              0.7777777777777778,
              "#fb9f3a"
             ],
             [
              0.8888888888888888,
              "#fdca26"
             ],
             [
              1,
              "#f0f921"
             ]
            ],
            "type": "histogram2d"
           }
          ],
          "histogram2dcontour": [
           {
            "colorbar": {
             "outlinewidth": 0,
             "ticks": ""
            },
            "colorscale": [
             [
              0,
              "#0d0887"
             ],
             [
              0.1111111111111111,
              "#46039f"
             ],
             [
              0.2222222222222222,
              "#7201a8"
             ],
             [
              0.3333333333333333,
              "#9c179e"
             ],
             [
              0.4444444444444444,
              "#bd3786"
             ],
             [
              0.5555555555555556,
              "#d8576b"
             ],
             [
              0.6666666666666666,
              "#ed7953"
             ],
             [
              0.7777777777777778,
              "#fb9f3a"
             ],
             [
              0.8888888888888888,
              "#fdca26"
             ],
             [
              1,
              "#f0f921"
             ]
            ],
            "type": "histogram2dcontour"
           }
          ],
          "mesh3d": [
           {
            "colorbar": {
             "outlinewidth": 0,
             "ticks": ""
            },
            "type": "mesh3d"
           }
          ],
          "parcoords": [
           {
            "line": {
             "colorbar": {
              "outlinewidth": 0,
              "ticks": ""
             }
            },
            "type": "parcoords"
           }
          ],
          "pie": [
           {
            "automargin": true,
            "type": "pie"
           }
          ],
          "scatter": [
           {
            "fillpattern": {
             "fillmode": "overlay",
             "size": 10,
             "solidity": 0.2
            },
            "type": "scatter"
           }
          ],
          "scatter3d": [
           {
            "line": {
             "colorbar": {
              "outlinewidth": 0,
              "ticks": ""
             }
            },
            "marker": {
             "colorbar": {
              "outlinewidth": 0,
              "ticks": ""
             }
            },
            "type": "scatter3d"
           }
          ],
          "scattercarpet": [
           {
            "marker": {
             "colorbar": {
              "outlinewidth": 0,
              "ticks": ""
             }
            },
            "type": "scattercarpet"
           }
          ],
          "scattergeo": [
           {
            "marker": {
             "colorbar": {
              "outlinewidth": 0,
              "ticks": ""
             }
            },
            "type": "scattergeo"
           }
          ],
          "scattergl": [
           {
            "marker": {
             "colorbar": {
              "outlinewidth": 0,
              "ticks": ""
             }
            },
            "type": "scattergl"
           }
          ],
          "scattermapbox": [
           {
            "marker": {
             "colorbar": {
              "outlinewidth": 0,
              "ticks": ""
             }
            },
            "type": "scattermapbox"
           }
          ],
          "scatterpolar": [
           {
            "marker": {
             "colorbar": {
              "outlinewidth": 0,
              "ticks": ""
             }
            },
            "type": "scatterpolar"
           }
          ],
          "scatterpolargl": [
           {
            "marker": {
             "colorbar": {
              "outlinewidth": 0,
              "ticks": ""
             }
            },
            "type": "scatterpolargl"
           }
          ],
          "scatterternary": [
           {
            "marker": {
             "colorbar": {
              "outlinewidth": 0,
              "ticks": ""
             }
            },
            "type": "scatterternary"
           }
          ],
          "surface": [
           {
            "colorbar": {
             "outlinewidth": 0,
             "ticks": ""
            },
            "colorscale": [
             [
              0,
              "#0d0887"
             ],
             [
              0.1111111111111111,
              "#46039f"
             ],
             [
              0.2222222222222222,
              "#7201a8"
             ],
             [
              0.3333333333333333,
              "#9c179e"
             ],
             [
              0.4444444444444444,
              "#bd3786"
             ],
             [
              0.5555555555555556,
              "#d8576b"
             ],
             [
              0.6666666666666666,
              "#ed7953"
             ],
             [
              0.7777777777777778,
              "#fb9f3a"
             ],
             [
              0.8888888888888888,
              "#fdca26"
             ],
             [
              1,
              "#f0f921"
             ]
            ],
            "type": "surface"
           }
          ],
          "table": [
           {
            "cells": {
             "fill": {
              "color": "#EBF0F8"
             },
             "line": {
              "color": "white"
             }
            },
            "header": {
             "fill": {
              "color": "#C8D4E3"
             },
             "line": {
              "color": "white"
             }
            },
            "type": "table"
           }
          ]
         },
         "layout": {
          "annotationdefaults": {
           "arrowcolor": "#2a3f5f",
           "arrowhead": 0,
           "arrowwidth": 1
          },
          "autotypenumbers": "strict",
          "coloraxis": {
           "colorbar": {
            "outlinewidth": 0,
            "ticks": ""
           }
          },
          "colorscale": {
           "diverging": [
            [
             0,
             "#8e0152"
            ],
            [
             0.1,
             "#c51b7d"
            ],
            [
             0.2,
             "#de77ae"
            ],
            [
             0.3,
             "#f1b6da"
            ],
            [
             0.4,
             "#fde0ef"
            ],
            [
             0.5,
             "#f7f7f7"
            ],
            [
             0.6,
             "#e6f5d0"
            ],
            [
             0.7,
             "#b8e186"
            ],
            [
             0.8,
             "#7fbc41"
            ],
            [
             0.9,
             "#4d9221"
            ],
            [
             1,
             "#276419"
            ]
           ],
           "sequential": [
            [
             0,
             "#0d0887"
            ],
            [
             0.1111111111111111,
             "#46039f"
            ],
            [
             0.2222222222222222,
             "#7201a8"
            ],
            [
             0.3333333333333333,
             "#9c179e"
            ],
            [
             0.4444444444444444,
             "#bd3786"
            ],
            [
             0.5555555555555556,
             "#d8576b"
            ],
            [
             0.6666666666666666,
             "#ed7953"
            ],
            [
             0.7777777777777778,
             "#fb9f3a"
            ],
            [
             0.8888888888888888,
             "#fdca26"
            ],
            [
             1,
             "#f0f921"
            ]
           ],
           "sequentialminus": [
            [
             0,
             "#0d0887"
            ],
            [
             0.1111111111111111,
             "#46039f"
            ],
            [
             0.2222222222222222,
             "#7201a8"
            ],
            [
             0.3333333333333333,
             "#9c179e"
            ],
            [
             0.4444444444444444,
             "#bd3786"
            ],
            [
             0.5555555555555556,
             "#d8576b"
            ],
            [
             0.6666666666666666,
             "#ed7953"
            ],
            [
             0.7777777777777778,
             "#fb9f3a"
            ],
            [
             0.8888888888888888,
             "#fdca26"
            ],
            [
             1,
             "#f0f921"
            ]
           ]
          },
          "colorway": [
           "#636efa",
           "#EF553B",
           "#00cc96",
           "#ab63fa",
           "#FFA15A",
           "#19d3f3",
           "#FF6692",
           "#B6E880",
           "#FF97FF",
           "#FECB52"
          ],
          "font": {
           "color": "#2a3f5f"
          },
          "geo": {
           "bgcolor": "white",
           "lakecolor": "white",
           "landcolor": "#E5ECF6",
           "showlakes": true,
           "showland": true,
           "subunitcolor": "white"
          },
          "hoverlabel": {
           "align": "left"
          },
          "hovermode": "closest",
          "mapbox": {
           "style": "light"
          },
          "paper_bgcolor": "white",
          "plot_bgcolor": "#E5ECF6",
          "polar": {
           "angularaxis": {
            "gridcolor": "white",
            "linecolor": "white",
            "ticks": ""
           },
           "bgcolor": "#E5ECF6",
           "radialaxis": {
            "gridcolor": "white",
            "linecolor": "white",
            "ticks": ""
           }
          },
          "scene": {
           "xaxis": {
            "backgroundcolor": "#E5ECF6",
            "gridcolor": "white",
            "gridwidth": 2,
            "linecolor": "white",
            "showbackground": true,
            "ticks": "",
            "zerolinecolor": "white"
           },
           "yaxis": {
            "backgroundcolor": "#E5ECF6",
            "gridcolor": "white",
            "gridwidth": 2,
            "linecolor": "white",
            "showbackground": true,
            "ticks": "",
            "zerolinecolor": "white"
           },
           "zaxis": {
            "backgroundcolor": "#E5ECF6",
            "gridcolor": "white",
            "gridwidth": 2,
            "linecolor": "white",
            "showbackground": true,
            "ticks": "",
            "zerolinecolor": "white"
           }
          },
          "shapedefaults": {
           "line": {
            "color": "#2a3f5f"
           }
          },
          "ternary": {
           "aaxis": {
            "gridcolor": "white",
            "linecolor": "white",
            "ticks": ""
           },
           "baxis": {
            "gridcolor": "white",
            "linecolor": "white",
            "ticks": ""
           },
           "bgcolor": "#E5ECF6",
           "caxis": {
            "gridcolor": "white",
            "linecolor": "white",
            "ticks": ""
           }
          },
          "title": {
           "x": 0.05
          },
          "xaxis": {
           "automargin": true,
           "gridcolor": "white",
           "linecolor": "white",
           "ticks": "",
           "title": {
            "standoff": 15
           },
           "zerolinecolor": "white",
           "zerolinewidth": 2
          },
          "yaxis": {
           "automargin": true,
           "gridcolor": "white",
           "linecolor": "white",
           "ticks": "",
           "title": {
            "standoff": 15
           },
           "zerolinecolor": "white",
           "zerolinewidth": 2
          }
         }
        },
        "title": {
         "text": "🏠 Goles Local vs Visitante"
        },
        "xaxis": {
         "anchor": "y",
         "domain": [
          0,
          1
         ],
         "title": {
          "text": "Local/Visitante"
         }
        },
        "yaxis": {
         "anchor": "x",
         "domain": [
          0,
          1
         ],
         "title": {
          "text": "Goles"
         }
        }
       }
      }
     },
     "metadata": {},
     "output_type": "display_data"
    }
   ],
   "source": [
    "# Goles como local vs visitante\n",
    "\n",
    "import pandas as pd\n",
    "import plotly.express as px\n",
    "from src.db import get_engine\n",
    "\n",
    "engine = get_engine()\n",
    "\n",
    "query = \"\"\"\n",
    "SELECT\n",
    "  `Home/Away` AS `Local/Visitante`,\n",
    "  SUM(`Goals`) AS Total_Goals\n",
    "FROM messi_career_data\n",
    "GROUP BY `Home/Away`;\n",
    "\"\"\"\n",
    "\n",
    "df = pd.read_sql(query, engine)\n",
    "\n",
    "fig = px.bar(df, x=\"Local/Visitante\", y=\"Total_Goals\",\n",
    "             title=\"🏠 Goles Local vs Visitante\",\n",
    "             text_auto=True, labels={\"Total_Goals\": \"Goles\"})\n",
    "fig.update_layout(yaxis_title=\"Goles\")\n",
    "fig.show()\n"
   ]
  },
  {
   "cell_type": "code",
   "execution_count": 44,
   "metadata": {},
   "outputs": [
    {
     "data": {
      "application/vnd.plotly.v1+json": {
       "config": {
        "plotlyServerURL": "https://plot.ly"
       },
       "data": [
        {
         "alignmentgroup": "True",
         "hovertemplate": "Competition=%{x}<br>Total_Goals=%{y}<extra></extra>",
         "legendgroup": "",
         "marker": {
          "color": "#636efa",
          "pattern": {
           "shape": ""
          }
         },
         "name": "",
         "offsetgroup": "",
         "orientation": "v",
         "showlegend": false,
         "textposition": "auto",
         "texttemplate": "%{y}",
         "type": "bar",
         "x": [
          "La Liga",
          "UEFA Champions League",
          "Copa del Rey",
          "International friendly",
          "Major League Soccer",
          "Ligue 1",
          "Spanish Super Cup",
          "World Cup 2014 Qualification",
          "Leagues Cup",
          "World Cup 2018 Qualification",
          "World Cup 2022 Qualification",
          "World Cup 2022",
          "Concacaf Champions Cup",
          "World Cup 2026 Qualification",
          "FIFA Club World Cup",
          "Copa América Centenario",
          "World Cup 2010 Qualification",
          "Copa América 2021",
          "World Cup 2014",
          "UEFA European Super Cup",
          "Copa América 2007",
          "World Cup 2006",
          "World Cup 2018",
          "Copa América 2019",
          "Trophée des Champions",
          "Copa América 2024",
          "Copa América 2015",
          "Major League Soccer Play Offs",
          "World Cup 2006 Qualification",
          "World Cup 2010",
          "Copa América 2011",
          "CONMEBOL–UEFA Cup of Champions 2022",
          "Coupe de France",
          "US Open Cup"
         ],
         "xaxis": "x",
         "y": [
          474,
          129,
          56,
          51,
          24,
          22,
          14,
          10,
          10,
          7,
          7,
          7,
          7,
          6,
          5,
          5,
          4,
          4,
          4,
          3,
          2,
          1,
          1,
          1,
          1,
          1,
          1,
          1,
          0,
          0,
          0,
          0,
          0,
          0
         ],
         "yaxis": "y"
        }
       ],
       "layout": {
        "barmode": "relative",
        "legend": {
         "tracegroupgap": 0
        },
        "template": {
         "data": {
          "bar": [
           {
            "error_x": {
             "color": "#2a3f5f"
            },
            "error_y": {
             "color": "#2a3f5f"
            },
            "marker": {
             "line": {
              "color": "#E5ECF6",
              "width": 0.5
             },
             "pattern": {
              "fillmode": "overlay",
              "size": 10,
              "solidity": 0.2
             }
            },
            "type": "bar"
           }
          ],
          "barpolar": [
           {
            "marker": {
             "line": {
              "color": "#E5ECF6",
              "width": 0.5
             },
             "pattern": {
              "fillmode": "overlay",
              "size": 10,
              "solidity": 0.2
             }
            },
            "type": "barpolar"
           }
          ],
          "carpet": [
           {
            "aaxis": {
             "endlinecolor": "#2a3f5f",
             "gridcolor": "white",
             "linecolor": "white",
             "minorgridcolor": "white",
             "startlinecolor": "#2a3f5f"
            },
            "baxis": {
             "endlinecolor": "#2a3f5f",
             "gridcolor": "white",
             "linecolor": "white",
             "minorgridcolor": "white",
             "startlinecolor": "#2a3f5f"
            },
            "type": "carpet"
           }
          ],
          "choropleth": [
           {
            "colorbar": {
             "outlinewidth": 0,
             "ticks": ""
            },
            "type": "choropleth"
           }
          ],
          "contour": [
           {
            "colorbar": {
             "outlinewidth": 0,
             "ticks": ""
            },
            "colorscale": [
             [
              0,
              "#0d0887"
             ],
             [
              0.1111111111111111,
              "#46039f"
             ],
             [
              0.2222222222222222,
              "#7201a8"
             ],
             [
              0.3333333333333333,
              "#9c179e"
             ],
             [
              0.4444444444444444,
              "#bd3786"
             ],
             [
              0.5555555555555556,
              "#d8576b"
             ],
             [
              0.6666666666666666,
              "#ed7953"
             ],
             [
              0.7777777777777778,
              "#fb9f3a"
             ],
             [
              0.8888888888888888,
              "#fdca26"
             ],
             [
              1,
              "#f0f921"
             ]
            ],
            "type": "contour"
           }
          ],
          "contourcarpet": [
           {
            "colorbar": {
             "outlinewidth": 0,
             "ticks": ""
            },
            "type": "contourcarpet"
           }
          ],
          "heatmap": [
           {
            "colorbar": {
             "outlinewidth": 0,
             "ticks": ""
            },
            "colorscale": [
             [
              0,
              "#0d0887"
             ],
             [
              0.1111111111111111,
              "#46039f"
             ],
             [
              0.2222222222222222,
              "#7201a8"
             ],
             [
              0.3333333333333333,
              "#9c179e"
             ],
             [
              0.4444444444444444,
              "#bd3786"
             ],
             [
              0.5555555555555556,
              "#d8576b"
             ],
             [
              0.6666666666666666,
              "#ed7953"
             ],
             [
              0.7777777777777778,
              "#fb9f3a"
             ],
             [
              0.8888888888888888,
              "#fdca26"
             ],
             [
              1,
              "#f0f921"
             ]
            ],
            "type": "heatmap"
           }
          ],
          "heatmapgl": [
           {
            "colorbar": {
             "outlinewidth": 0,
             "ticks": ""
            },
            "colorscale": [
             [
              0,
              "#0d0887"
             ],
             [
              0.1111111111111111,
              "#46039f"
             ],
             [
              0.2222222222222222,
              "#7201a8"
             ],
             [
              0.3333333333333333,
              "#9c179e"
             ],
             [
              0.4444444444444444,
              "#bd3786"
             ],
             [
              0.5555555555555556,
              "#d8576b"
             ],
             [
              0.6666666666666666,
              "#ed7953"
             ],
             [
              0.7777777777777778,
              "#fb9f3a"
             ],
             [
              0.8888888888888888,
              "#fdca26"
             ],
             [
              1,
              "#f0f921"
             ]
            ],
            "type": "heatmapgl"
           }
          ],
          "histogram": [
           {
            "marker": {
             "pattern": {
              "fillmode": "overlay",
              "size": 10,
              "solidity": 0.2
             }
            },
            "type": "histogram"
           }
          ],
          "histogram2d": [
           {
            "colorbar": {
             "outlinewidth": 0,
             "ticks": ""
            },
            "colorscale": [
             [
              0,
              "#0d0887"
             ],
             [
              0.1111111111111111,
              "#46039f"
             ],
             [
              0.2222222222222222,
              "#7201a8"
             ],
             [
              0.3333333333333333,
              "#9c179e"
             ],
             [
              0.4444444444444444,
              "#bd3786"
             ],
             [
              0.5555555555555556,
              "#d8576b"
             ],
             [
              0.6666666666666666,
              "#ed7953"
             ],
             [
              0.7777777777777778,
              "#fb9f3a"
             ],
             [
              0.8888888888888888,
              "#fdca26"
             ],
             [
              1,
              "#f0f921"
             ]
            ],
            "type": "histogram2d"
           }
          ],
          "histogram2dcontour": [
           {
            "colorbar": {
             "outlinewidth": 0,
             "ticks": ""
            },
            "colorscale": [
             [
              0,
              "#0d0887"
             ],
             [
              0.1111111111111111,
              "#46039f"
             ],
             [
              0.2222222222222222,
              "#7201a8"
             ],
             [
              0.3333333333333333,
              "#9c179e"
             ],
             [
              0.4444444444444444,
              "#bd3786"
             ],
             [
              0.5555555555555556,
              "#d8576b"
             ],
             [
              0.6666666666666666,
              "#ed7953"
             ],
             [
              0.7777777777777778,
              "#fb9f3a"
             ],
             [
              0.8888888888888888,
              "#fdca26"
             ],
             [
              1,
              "#f0f921"
             ]
            ],
            "type": "histogram2dcontour"
           }
          ],
          "mesh3d": [
           {
            "colorbar": {
             "outlinewidth": 0,
             "ticks": ""
            },
            "type": "mesh3d"
           }
          ],
          "parcoords": [
           {
            "line": {
             "colorbar": {
              "outlinewidth": 0,
              "ticks": ""
             }
            },
            "type": "parcoords"
           }
          ],
          "pie": [
           {
            "automargin": true,
            "type": "pie"
           }
          ],
          "scatter": [
           {
            "fillpattern": {
             "fillmode": "overlay",
             "size": 10,
             "solidity": 0.2
            },
            "type": "scatter"
           }
          ],
          "scatter3d": [
           {
            "line": {
             "colorbar": {
              "outlinewidth": 0,
              "ticks": ""
             }
            },
            "marker": {
             "colorbar": {
              "outlinewidth": 0,
              "ticks": ""
             }
            },
            "type": "scatter3d"
           }
          ],
          "scattercarpet": [
           {
            "marker": {
             "colorbar": {
              "outlinewidth": 0,
              "ticks": ""
             }
            },
            "type": "scattercarpet"
           }
          ],
          "scattergeo": [
           {
            "marker": {
             "colorbar": {
              "outlinewidth": 0,
              "ticks": ""
             }
            },
            "type": "scattergeo"
           }
          ],
          "scattergl": [
           {
            "marker": {
             "colorbar": {
              "outlinewidth": 0,
              "ticks": ""
             }
            },
            "type": "scattergl"
           }
          ],
          "scattermapbox": [
           {
            "marker": {
             "colorbar": {
              "outlinewidth": 0,
              "ticks": ""
             }
            },
            "type": "scattermapbox"
           }
          ],
          "scatterpolar": [
           {
            "marker": {
             "colorbar": {
              "outlinewidth": 0,
              "ticks": ""
             }
            },
            "type": "scatterpolar"
           }
          ],
          "scatterpolargl": [
           {
            "marker": {
             "colorbar": {
              "outlinewidth": 0,
              "ticks": ""
             }
            },
            "type": "scatterpolargl"
           }
          ],
          "scatterternary": [
           {
            "marker": {
             "colorbar": {
              "outlinewidth": 0,
              "ticks": ""
             }
            },
            "type": "scatterternary"
           }
          ],
          "surface": [
           {
            "colorbar": {
             "outlinewidth": 0,
             "ticks": ""
            },
            "colorscale": [
             [
              0,
              "#0d0887"
             ],
             [
              0.1111111111111111,
              "#46039f"
             ],
             [
              0.2222222222222222,
              "#7201a8"
             ],
             [
              0.3333333333333333,
              "#9c179e"
             ],
             [
              0.4444444444444444,
              "#bd3786"
             ],
             [
              0.5555555555555556,
              "#d8576b"
             ],
             [
              0.6666666666666666,
              "#ed7953"
             ],
             [
              0.7777777777777778,
              "#fb9f3a"
             ],
             [
              0.8888888888888888,
              "#fdca26"
             ],
             [
              1,
              "#f0f921"
             ]
            ],
            "type": "surface"
           }
          ],
          "table": [
           {
            "cells": {
             "fill": {
              "color": "#EBF0F8"
             },
             "line": {
              "color": "white"
             }
            },
            "header": {
             "fill": {
              "color": "#C8D4E3"
             },
             "line": {
              "color": "white"
             }
            },
            "type": "table"
           }
          ]
         },
         "layout": {
          "annotationdefaults": {
           "arrowcolor": "#2a3f5f",
           "arrowhead": 0,
           "arrowwidth": 1
          },
          "autotypenumbers": "strict",
          "coloraxis": {
           "colorbar": {
            "outlinewidth": 0,
            "ticks": ""
           }
          },
          "colorscale": {
           "diverging": [
            [
             0,
             "#8e0152"
            ],
            [
             0.1,
             "#c51b7d"
            ],
            [
             0.2,
             "#de77ae"
            ],
            [
             0.3,
             "#f1b6da"
            ],
            [
             0.4,
             "#fde0ef"
            ],
            [
             0.5,
             "#f7f7f7"
            ],
            [
             0.6,
             "#e6f5d0"
            ],
            [
             0.7,
             "#b8e186"
            ],
            [
             0.8,
             "#7fbc41"
            ],
            [
             0.9,
             "#4d9221"
            ],
            [
             1,
             "#276419"
            ]
           ],
           "sequential": [
            [
             0,
             "#0d0887"
            ],
            [
             0.1111111111111111,
             "#46039f"
            ],
            [
             0.2222222222222222,
             "#7201a8"
            ],
            [
             0.3333333333333333,
             "#9c179e"
            ],
            [
             0.4444444444444444,
             "#bd3786"
            ],
            [
             0.5555555555555556,
             "#d8576b"
            ],
            [
             0.6666666666666666,
             "#ed7953"
            ],
            [
             0.7777777777777778,
             "#fb9f3a"
            ],
            [
             0.8888888888888888,
             "#fdca26"
            ],
            [
             1,
             "#f0f921"
            ]
           ],
           "sequentialminus": [
            [
             0,
             "#0d0887"
            ],
            [
             0.1111111111111111,
             "#46039f"
            ],
            [
             0.2222222222222222,
             "#7201a8"
            ],
            [
             0.3333333333333333,
             "#9c179e"
            ],
            [
             0.4444444444444444,
             "#bd3786"
            ],
            [
             0.5555555555555556,
             "#d8576b"
            ],
            [
             0.6666666666666666,
             "#ed7953"
            ],
            [
             0.7777777777777778,
             "#fb9f3a"
            ],
            [
             0.8888888888888888,
             "#fdca26"
            ],
            [
             1,
             "#f0f921"
            ]
           ]
          },
          "colorway": [
           "#636efa",
           "#EF553B",
           "#00cc96",
           "#ab63fa",
           "#FFA15A",
           "#19d3f3",
           "#FF6692",
           "#B6E880",
           "#FF97FF",
           "#FECB52"
          ],
          "font": {
           "color": "#2a3f5f"
          },
          "geo": {
           "bgcolor": "white",
           "lakecolor": "white",
           "landcolor": "#E5ECF6",
           "showlakes": true,
           "showland": true,
           "subunitcolor": "white"
          },
          "hoverlabel": {
           "align": "left"
          },
          "hovermode": "closest",
          "mapbox": {
           "style": "light"
          },
          "paper_bgcolor": "white",
          "plot_bgcolor": "#E5ECF6",
          "polar": {
           "angularaxis": {
            "gridcolor": "white",
            "linecolor": "white",
            "ticks": ""
           },
           "bgcolor": "#E5ECF6",
           "radialaxis": {
            "gridcolor": "white",
            "linecolor": "white",
            "ticks": ""
           }
          },
          "scene": {
           "xaxis": {
            "backgroundcolor": "#E5ECF6",
            "gridcolor": "white",
            "gridwidth": 2,
            "linecolor": "white",
            "showbackground": true,
            "ticks": "",
            "zerolinecolor": "white"
           },
           "yaxis": {
            "backgroundcolor": "#E5ECF6",
            "gridcolor": "white",
            "gridwidth": 2,
            "linecolor": "white",
            "showbackground": true,
            "ticks": "",
            "zerolinecolor": "white"
           },
           "zaxis": {
            "backgroundcolor": "#E5ECF6",
            "gridcolor": "white",
            "gridwidth": 2,
            "linecolor": "white",
            "showbackground": true,
            "ticks": "",
            "zerolinecolor": "white"
           }
          },
          "shapedefaults": {
           "line": {
            "color": "#2a3f5f"
           }
          },
          "ternary": {
           "aaxis": {
            "gridcolor": "white",
            "linecolor": "white",
            "ticks": ""
           },
           "baxis": {
            "gridcolor": "white",
            "linecolor": "white",
            "ticks": ""
           },
           "bgcolor": "#E5ECF6",
           "caxis": {
            "gridcolor": "white",
            "linecolor": "white",
            "ticks": ""
           }
          },
          "title": {
           "x": 0.05
          },
          "xaxis": {
           "automargin": true,
           "gridcolor": "white",
           "linecolor": "white",
           "ticks": "",
           "title": {
            "standoff": 15
           },
           "zerolinecolor": "white",
           "zerolinewidth": 2
          },
          "yaxis": {
           "automargin": true,
           "gridcolor": "white",
           "linecolor": "white",
           "ticks": "",
           "title": {
            "standoff": 15
           },
           "zerolinecolor": "white",
           "zerolinewidth": 2
          }
         }
        },
        "title": {
         "text": "🏆 Goles por Competición"
        },
        "xaxis": {
         "anchor": "y",
         "domain": [
          0,
          1
         ],
         "tickangle": -45,
         "title": {
          "text": "Competition"
         }
        },
        "yaxis": {
         "anchor": "x",
         "domain": [
          0,
          1
         ],
         "title": {
          "text": "Goles"
         }
        }
       }
      }
     },
     "metadata": {},
     "output_type": "display_data"
    }
   ],
   "source": [
    "# Goles por competición\n",
    "\n",
    "query = \"\"\"\n",
    "SELECT\n",
    "  `Competition`,\n",
    "  SUM(`Goals`) AS Total_Goals\n",
    "FROM messi_career_data\n",
    "GROUP BY `Competition`\n",
    "ORDER BY Total_Goals DESC;\n",
    "\"\"\"\n",
    "\n",
    "df = pd.read_sql(query, engine)\n",
    "\n",
    "fig = px.bar(df, x=\"Competition\", y=\"Total_Goals\",\n",
    "             title=\"🏆 Goles por Competición\",\n",
    "             text_auto=True)\n",
    "fig.update_layout(xaxis_tickangle=-45, yaxis_title=\"Goles\")\n",
    "fig.show()\n"
   ]
  },
  {
   "cell_type": "code",
   "execution_count": 45,
   "metadata": {},
   "outputs": [
    {
     "data": {
      "application/vnd.plotly.v1+json": {
       "config": {
        "plotlyServerURL": "https://plot.ly"
       },
       "data": [
        {
         "alignmentgroup": "True",
         "hovertemplate": "Mes=%{x}<br>Goles=%{y}<extra></extra>",
         "legendgroup": "",
         "marker": {
          "color": "#636efa",
          "pattern": {
           "shape": ""
          }
         },
         "name": "",
         "offsetgroup": "",
         "orientation": "v",
         "showlegend": false,
         "textposition": "auto",
         "texttemplate": "%{y}",
         "type": "bar",
         "x": [
          1,
          2,
          3,
          4,
          5,
          6,
          7,
          8,
          9,
          10,
          11,
          12
         ],
         "xaxis": "x",
         "y": [
          94,
          90,
          109,
          81,
          61,
          47,
          11,
          47,
          92,
          84,
          82,
          60
         ],
         "yaxis": "y"
        }
       ],
       "layout": {
        "barmode": "relative",
        "legend": {
         "tracegroupgap": 0
        },
        "template": {
         "data": {
          "bar": [
           {
            "error_x": {
             "color": "#2a3f5f"
            },
            "error_y": {
             "color": "#2a3f5f"
            },
            "marker": {
             "line": {
              "color": "#E5ECF6",
              "width": 0.5
             },
             "pattern": {
              "fillmode": "overlay",
              "size": 10,
              "solidity": 0.2
             }
            },
            "type": "bar"
           }
          ],
          "barpolar": [
           {
            "marker": {
             "line": {
              "color": "#E5ECF6",
              "width": 0.5
             },
             "pattern": {
              "fillmode": "overlay",
              "size": 10,
              "solidity": 0.2
             }
            },
            "type": "barpolar"
           }
          ],
          "carpet": [
           {
            "aaxis": {
             "endlinecolor": "#2a3f5f",
             "gridcolor": "white",
             "linecolor": "white",
             "minorgridcolor": "white",
             "startlinecolor": "#2a3f5f"
            },
            "baxis": {
             "endlinecolor": "#2a3f5f",
             "gridcolor": "white",
             "linecolor": "white",
             "minorgridcolor": "white",
             "startlinecolor": "#2a3f5f"
            },
            "type": "carpet"
           }
          ],
          "choropleth": [
           {
            "colorbar": {
             "outlinewidth": 0,
             "ticks": ""
            },
            "type": "choropleth"
           }
          ],
          "contour": [
           {
            "colorbar": {
             "outlinewidth": 0,
             "ticks": ""
            },
            "colorscale": [
             [
              0,
              "#0d0887"
             ],
             [
              0.1111111111111111,
              "#46039f"
             ],
             [
              0.2222222222222222,
              "#7201a8"
             ],
             [
              0.3333333333333333,
              "#9c179e"
             ],
             [
              0.4444444444444444,
              "#bd3786"
             ],
             [
              0.5555555555555556,
              "#d8576b"
             ],
             [
              0.6666666666666666,
              "#ed7953"
             ],
             [
              0.7777777777777778,
              "#fb9f3a"
             ],
             [
              0.8888888888888888,
              "#fdca26"
             ],
             [
              1,
              "#f0f921"
             ]
            ],
            "type": "contour"
           }
          ],
          "contourcarpet": [
           {
            "colorbar": {
             "outlinewidth": 0,
             "ticks": ""
            },
            "type": "contourcarpet"
           }
          ],
          "heatmap": [
           {
            "colorbar": {
             "outlinewidth": 0,
             "ticks": ""
            },
            "colorscale": [
             [
              0,
              "#0d0887"
             ],
             [
              0.1111111111111111,
              "#46039f"
             ],
             [
              0.2222222222222222,
              "#7201a8"
             ],
             [
              0.3333333333333333,
              "#9c179e"
             ],
             [
              0.4444444444444444,
              "#bd3786"
             ],
             [
              0.5555555555555556,
              "#d8576b"
             ],
             [
              0.6666666666666666,
              "#ed7953"
             ],
             [
              0.7777777777777778,
              "#fb9f3a"
             ],
             [
              0.8888888888888888,
              "#fdca26"
             ],
             [
              1,
              "#f0f921"
             ]
            ],
            "type": "heatmap"
           }
          ],
          "heatmapgl": [
           {
            "colorbar": {
             "outlinewidth": 0,
             "ticks": ""
            },
            "colorscale": [
             [
              0,
              "#0d0887"
             ],
             [
              0.1111111111111111,
              "#46039f"
             ],
             [
              0.2222222222222222,
              "#7201a8"
             ],
             [
              0.3333333333333333,
              "#9c179e"
             ],
             [
              0.4444444444444444,
              "#bd3786"
             ],
             [
              0.5555555555555556,
              "#d8576b"
             ],
             [
              0.6666666666666666,
              "#ed7953"
             ],
             [
              0.7777777777777778,
              "#fb9f3a"
             ],
             [
              0.8888888888888888,
              "#fdca26"
             ],
             [
              1,
              "#f0f921"
             ]
            ],
            "type": "heatmapgl"
           }
          ],
          "histogram": [
           {
            "marker": {
             "pattern": {
              "fillmode": "overlay",
              "size": 10,
              "solidity": 0.2
             }
            },
            "type": "histogram"
           }
          ],
          "histogram2d": [
           {
            "colorbar": {
             "outlinewidth": 0,
             "ticks": ""
            },
            "colorscale": [
             [
              0,
              "#0d0887"
             ],
             [
              0.1111111111111111,
              "#46039f"
             ],
             [
              0.2222222222222222,
              "#7201a8"
             ],
             [
              0.3333333333333333,
              "#9c179e"
             ],
             [
              0.4444444444444444,
              "#bd3786"
             ],
             [
              0.5555555555555556,
              "#d8576b"
             ],
             [
              0.6666666666666666,
              "#ed7953"
             ],
             [
              0.7777777777777778,
              "#fb9f3a"
             ],
             [
              0.8888888888888888,
              "#fdca26"
             ],
             [
              1,
              "#f0f921"
             ]
            ],
            "type": "histogram2d"
           }
          ],
          "histogram2dcontour": [
           {
            "colorbar": {
             "outlinewidth": 0,
             "ticks": ""
            },
            "colorscale": [
             [
              0,
              "#0d0887"
             ],
             [
              0.1111111111111111,
              "#46039f"
             ],
             [
              0.2222222222222222,
              "#7201a8"
             ],
             [
              0.3333333333333333,
              "#9c179e"
             ],
             [
              0.4444444444444444,
              "#bd3786"
             ],
             [
              0.5555555555555556,
              "#d8576b"
             ],
             [
              0.6666666666666666,
              "#ed7953"
             ],
             [
              0.7777777777777778,
              "#fb9f3a"
             ],
             [
              0.8888888888888888,
              "#fdca26"
             ],
             [
              1,
              "#f0f921"
             ]
            ],
            "type": "histogram2dcontour"
           }
          ],
          "mesh3d": [
           {
            "colorbar": {
             "outlinewidth": 0,
             "ticks": ""
            },
            "type": "mesh3d"
           }
          ],
          "parcoords": [
           {
            "line": {
             "colorbar": {
              "outlinewidth": 0,
              "ticks": ""
             }
            },
            "type": "parcoords"
           }
          ],
          "pie": [
           {
            "automargin": true,
            "type": "pie"
           }
          ],
          "scatter": [
           {
            "fillpattern": {
             "fillmode": "overlay",
             "size": 10,
             "solidity": 0.2
            },
            "type": "scatter"
           }
          ],
          "scatter3d": [
           {
            "line": {
             "colorbar": {
              "outlinewidth": 0,
              "ticks": ""
             }
            },
            "marker": {
             "colorbar": {
              "outlinewidth": 0,
              "ticks": ""
             }
            },
            "type": "scatter3d"
           }
          ],
          "scattercarpet": [
           {
            "marker": {
             "colorbar": {
              "outlinewidth": 0,
              "ticks": ""
             }
            },
            "type": "scattercarpet"
           }
          ],
          "scattergeo": [
           {
            "marker": {
             "colorbar": {
              "outlinewidth": 0,
              "ticks": ""
             }
            },
            "type": "scattergeo"
           }
          ],
          "scattergl": [
           {
            "marker": {
             "colorbar": {
              "outlinewidth": 0,
              "ticks": ""
             }
            },
            "type": "scattergl"
           }
          ],
          "scattermapbox": [
           {
            "marker": {
             "colorbar": {
              "outlinewidth": 0,
              "ticks": ""
             }
            },
            "type": "scattermapbox"
           }
          ],
          "scatterpolar": [
           {
            "marker": {
             "colorbar": {
              "outlinewidth": 0,
              "ticks": ""
             }
            },
            "type": "scatterpolar"
           }
          ],
          "scatterpolargl": [
           {
            "marker": {
             "colorbar": {
              "outlinewidth": 0,
              "ticks": ""
             }
            },
            "type": "scatterpolargl"
           }
          ],
          "scatterternary": [
           {
            "marker": {
             "colorbar": {
              "outlinewidth": 0,
              "ticks": ""
             }
            },
            "type": "scatterternary"
           }
          ],
          "surface": [
           {
            "colorbar": {
             "outlinewidth": 0,
             "ticks": ""
            },
            "colorscale": [
             [
              0,
              "#0d0887"
             ],
             [
              0.1111111111111111,
              "#46039f"
             ],
             [
              0.2222222222222222,
              "#7201a8"
             ],
             [
              0.3333333333333333,
              "#9c179e"
             ],
             [
              0.4444444444444444,
              "#bd3786"
             ],
             [
              0.5555555555555556,
              "#d8576b"
             ],
             [
              0.6666666666666666,
              "#ed7953"
             ],
             [
              0.7777777777777778,
              "#fb9f3a"
             ],
             [
              0.8888888888888888,
              "#fdca26"
             ],
             [
              1,
              "#f0f921"
             ]
            ],
            "type": "surface"
           }
          ],
          "table": [
           {
            "cells": {
             "fill": {
              "color": "#EBF0F8"
             },
             "line": {
              "color": "white"
             }
            },
            "header": {
             "fill": {
              "color": "#C8D4E3"
             },
             "line": {
              "color": "white"
             }
            },
            "type": "table"
           }
          ]
         },
         "layout": {
          "annotationdefaults": {
           "arrowcolor": "#2a3f5f",
           "arrowhead": 0,
           "arrowwidth": 1
          },
          "autotypenumbers": "strict",
          "coloraxis": {
           "colorbar": {
            "outlinewidth": 0,
            "ticks": ""
           }
          },
          "colorscale": {
           "diverging": [
            [
             0,
             "#8e0152"
            ],
            [
             0.1,
             "#c51b7d"
            ],
            [
             0.2,
             "#de77ae"
            ],
            [
             0.3,
             "#f1b6da"
            ],
            [
             0.4,
             "#fde0ef"
            ],
            [
             0.5,
             "#f7f7f7"
            ],
            [
             0.6,
             "#e6f5d0"
            ],
            [
             0.7,
             "#b8e186"
            ],
            [
             0.8,
             "#7fbc41"
            ],
            [
             0.9,
             "#4d9221"
            ],
            [
             1,
             "#276419"
            ]
           ],
           "sequential": [
            [
             0,
             "#0d0887"
            ],
            [
             0.1111111111111111,
             "#46039f"
            ],
            [
             0.2222222222222222,
             "#7201a8"
            ],
            [
             0.3333333333333333,
             "#9c179e"
            ],
            [
             0.4444444444444444,
             "#bd3786"
            ],
            [
             0.5555555555555556,
             "#d8576b"
            ],
            [
             0.6666666666666666,
             "#ed7953"
            ],
            [
             0.7777777777777778,
             "#fb9f3a"
            ],
            [
             0.8888888888888888,
             "#fdca26"
            ],
            [
             1,
             "#f0f921"
            ]
           ],
           "sequentialminus": [
            [
             0,
             "#0d0887"
            ],
            [
             0.1111111111111111,
             "#46039f"
            ],
            [
             0.2222222222222222,
             "#7201a8"
            ],
            [
             0.3333333333333333,
             "#9c179e"
            ],
            [
             0.4444444444444444,
             "#bd3786"
            ],
            [
             0.5555555555555556,
             "#d8576b"
            ],
            [
             0.6666666666666666,
             "#ed7953"
            ],
            [
             0.7777777777777778,
             "#fb9f3a"
            ],
            [
             0.8888888888888888,
             "#fdca26"
            ],
            [
             1,
             "#f0f921"
            ]
           ]
          },
          "colorway": [
           "#636efa",
           "#EF553B",
           "#00cc96",
           "#ab63fa",
           "#FFA15A",
           "#19d3f3",
           "#FF6692",
           "#B6E880",
           "#FF97FF",
           "#FECB52"
          ],
          "font": {
           "color": "#2a3f5f"
          },
          "geo": {
           "bgcolor": "white",
           "lakecolor": "white",
           "landcolor": "#E5ECF6",
           "showlakes": true,
           "showland": true,
           "subunitcolor": "white"
          },
          "hoverlabel": {
           "align": "left"
          },
          "hovermode": "closest",
          "mapbox": {
           "style": "light"
          },
          "paper_bgcolor": "white",
          "plot_bgcolor": "#E5ECF6",
          "polar": {
           "angularaxis": {
            "gridcolor": "white",
            "linecolor": "white",
            "ticks": ""
           },
           "bgcolor": "#E5ECF6",
           "radialaxis": {
            "gridcolor": "white",
            "linecolor": "white",
            "ticks": ""
           }
          },
          "scene": {
           "xaxis": {
            "backgroundcolor": "#E5ECF6",
            "gridcolor": "white",
            "gridwidth": 2,
            "linecolor": "white",
            "showbackground": true,
            "ticks": "",
            "zerolinecolor": "white"
           },
           "yaxis": {
            "backgroundcolor": "#E5ECF6",
            "gridcolor": "white",
            "gridwidth": 2,
            "linecolor": "white",
            "showbackground": true,
            "ticks": "",
            "zerolinecolor": "white"
           },
           "zaxis": {
            "backgroundcolor": "#E5ECF6",
            "gridcolor": "white",
            "gridwidth": 2,
            "linecolor": "white",
            "showbackground": true,
            "ticks": "",
            "zerolinecolor": "white"
           }
          },
          "shapedefaults": {
           "line": {
            "color": "#2a3f5f"
           }
          },
          "ternary": {
           "aaxis": {
            "gridcolor": "white",
            "linecolor": "white",
            "ticks": ""
           },
           "baxis": {
            "gridcolor": "white",
            "linecolor": "white",
            "ticks": ""
           },
           "bgcolor": "#E5ECF6",
           "caxis": {
            "gridcolor": "white",
            "linecolor": "white",
            "ticks": ""
           }
          },
          "title": {
           "x": 0.05
          },
          "xaxis": {
           "automargin": true,
           "gridcolor": "white",
           "linecolor": "white",
           "ticks": "",
           "title": {
            "standoff": 15
           },
           "zerolinecolor": "white",
           "zerolinewidth": 2
          },
          "yaxis": {
           "automargin": true,
           "gridcolor": "white",
           "linecolor": "white",
           "ticks": "",
           "title": {
            "standoff": 15
           },
           "zerolinecolor": "white",
           "zerolinewidth": 2
          }
         }
        },
        "title": {
         "text": "📅 Goles por Mes"
        },
        "xaxis": {
         "anchor": "y",
         "domain": [
          0,
          1
         ],
         "title": {
          "text": "Mes"
         }
        },
        "yaxis": {
         "anchor": "x",
         "domain": [
          0,
          1
         ],
         "title": {
          "text": "Goles"
         }
        }
       }
      }
     },
     "metadata": {},
     "output_type": "display_data"
    }
   ],
   "source": [
    "# Goles por mes (tendencia estacional)\n",
    "\n",
    "query = \"\"\"\n",
    "SELECT\n",
    "  MONTH(`Date`) AS Month,\n",
    "  SUM(`Goals`) AS Total_Goals\n",
    "FROM messi_career_data\n",
    "GROUP BY MONTH(`Date`)\n",
    "ORDER BY Month;\n",
    "\"\"\"\n",
    "\n",
    "df = pd.read_sql(query, engine)\n",
    "\n",
    "fig = px.bar(df, x=\"Month\", y=\"Total_Goals\",\n",
    "             title=\"📅 Goles por Mes\",\n",
    "             labels={\"Month\": \"Mes\", \"Total_Goals\": \"Goles\"},\n",
    "             text_auto=True)\n",
    "fig.update_layout(yaxis_title=\"Goles\", xaxis_title=\"Mes\")\n",
    "fig.show()\n"
   ]
  },
  {
   "cell_type": "code",
   "execution_count": 46,
   "metadata": {},
   "outputs": [
    {
     "data": {
      "application/vnd.plotly.v1+json": {
       "config": {
        "plotlyServerURL": "https://plot.ly"
       },
       "data": [
        {
         "alignmentgroup": "True",
         "hovertemplate": "Home_Away=Home<br>Rival_Team_Name=%{x}<br>Total_Goals=%{y}<extra></extra>",
         "legendgroup": "Home",
         "marker": {
          "color": "#636efa",
          "pattern": {
           "shape": ""
          }
         },
         "name": "Home",
         "offsetgroup": "Home",
         "orientation": "v",
         "showlegend": true,
         "textposition": "auto",
         "texttemplate": "%{y}",
         "type": "bar",
         "x": [
          "Real Betis",
          "Athletic de Bilbao",
          "Espanyol",
          "Getafe",
          "Real Madrid",
          "Sevilla",
          "Osasuna",
          "Valencia",
          "Levante",
          "Atlético Madrid"
         ],
         "xaxis": "x",
         "y": [
          17,
          16,
          20,
          13,
          11,
          24,
          18,
          20,
          13,
          19
         ],
         "yaxis": "y"
        },
        {
         "alignmentgroup": "True",
         "hovertemplate": "Home_Away=Away<br>Rival_Team_Name=%{x}<br>Total_Goals=%{y}<extra></extra>",
         "legendgroup": "Away",
         "marker": {
          "color": "#EF553B",
          "pattern": {
           "shape": ""
          }
         },
         "name": "Away",
         "offsetgroup": "Away",
         "orientation": "v",
         "showlegend": true,
         "textposition": "auto",
         "texttemplate": "%{y}",
         "type": "bar",
         "x": [
          "Atlético Madrid",
          "Levante",
          "Athletic de Bilbao",
          "Real Madrid",
          "Valencia",
          "Getafe",
          "Osasuna",
          "Sevilla",
          "Espanyol",
          "Real Betis"
         ],
         "xaxis": "x",
         "y": [
          13,
          11,
          13,
          15,
          11,
          8,
          7,
          14,
          5,
          9
         ],
         "yaxis": "y"
        }
       ],
       "layout": {
        "barmode": "group",
        "legend": {
         "title": {
          "text": "Home_Away"
         },
         "tracegroupgap": 0
        },
        "template": {
         "data": {
          "bar": [
           {
            "error_x": {
             "color": "#2a3f5f"
            },
            "error_y": {
             "color": "#2a3f5f"
            },
            "marker": {
             "line": {
              "color": "#E5ECF6",
              "width": 0.5
             },
             "pattern": {
              "fillmode": "overlay",
              "size": 10,
              "solidity": 0.2
             }
            },
            "type": "bar"
           }
          ],
          "barpolar": [
           {
            "marker": {
             "line": {
              "color": "#E5ECF6",
              "width": 0.5
             },
             "pattern": {
              "fillmode": "overlay",
              "size": 10,
              "solidity": 0.2
             }
            },
            "type": "barpolar"
           }
          ],
          "carpet": [
           {
            "aaxis": {
             "endlinecolor": "#2a3f5f",
             "gridcolor": "white",
             "linecolor": "white",
             "minorgridcolor": "white",
             "startlinecolor": "#2a3f5f"
            },
            "baxis": {
             "endlinecolor": "#2a3f5f",
             "gridcolor": "white",
             "linecolor": "white",
             "minorgridcolor": "white",
             "startlinecolor": "#2a3f5f"
            },
            "type": "carpet"
           }
          ],
          "choropleth": [
           {
            "colorbar": {
             "outlinewidth": 0,
             "ticks": ""
            },
            "type": "choropleth"
           }
          ],
          "contour": [
           {
            "colorbar": {
             "outlinewidth": 0,
             "ticks": ""
            },
            "colorscale": [
             [
              0,
              "#0d0887"
             ],
             [
              0.1111111111111111,
              "#46039f"
             ],
             [
              0.2222222222222222,
              "#7201a8"
             ],
             [
              0.3333333333333333,
              "#9c179e"
             ],
             [
              0.4444444444444444,
              "#bd3786"
             ],
             [
              0.5555555555555556,
              "#d8576b"
             ],
             [
              0.6666666666666666,
              "#ed7953"
             ],
             [
              0.7777777777777778,
              "#fb9f3a"
             ],
             [
              0.8888888888888888,
              "#fdca26"
             ],
             [
              1,
              "#f0f921"
             ]
            ],
            "type": "contour"
           }
          ],
          "contourcarpet": [
           {
            "colorbar": {
             "outlinewidth": 0,
             "ticks": ""
            },
            "type": "contourcarpet"
           }
          ],
          "heatmap": [
           {
            "colorbar": {
             "outlinewidth": 0,
             "ticks": ""
            },
            "colorscale": [
             [
              0,
              "#0d0887"
             ],
             [
              0.1111111111111111,
              "#46039f"
             ],
             [
              0.2222222222222222,
              "#7201a8"
             ],
             [
              0.3333333333333333,
              "#9c179e"
             ],
             [
              0.4444444444444444,
              "#bd3786"
             ],
             [
              0.5555555555555556,
              "#d8576b"
             ],
             [
              0.6666666666666666,
              "#ed7953"
             ],
             [
              0.7777777777777778,
              "#fb9f3a"
             ],
             [
              0.8888888888888888,
              "#fdca26"
             ],
             [
              1,
              "#f0f921"
             ]
            ],
            "type": "heatmap"
           }
          ],
          "heatmapgl": [
           {
            "colorbar": {
             "outlinewidth": 0,
             "ticks": ""
            },
            "colorscale": [
             [
              0,
              "#0d0887"
             ],
             [
              0.1111111111111111,
              "#46039f"
             ],
             [
              0.2222222222222222,
              "#7201a8"
             ],
             [
              0.3333333333333333,
              "#9c179e"
             ],
             [
              0.4444444444444444,
              "#bd3786"
             ],
             [
              0.5555555555555556,
              "#d8576b"
             ],
             [
              0.6666666666666666,
              "#ed7953"
             ],
             [
              0.7777777777777778,
              "#fb9f3a"
             ],
             [
              0.8888888888888888,
              "#fdca26"
             ],
             [
              1,
              "#f0f921"
             ]
            ],
            "type": "heatmapgl"
           }
          ],
          "histogram": [
           {
            "marker": {
             "pattern": {
              "fillmode": "overlay",
              "size": 10,
              "solidity": 0.2
             }
            },
            "type": "histogram"
           }
          ],
          "histogram2d": [
           {
            "colorbar": {
             "outlinewidth": 0,
             "ticks": ""
            },
            "colorscale": [
             [
              0,
              "#0d0887"
             ],
             [
              0.1111111111111111,
              "#46039f"
             ],
             [
              0.2222222222222222,
              "#7201a8"
             ],
             [
              0.3333333333333333,
              "#9c179e"
             ],
             [
              0.4444444444444444,
              "#bd3786"
             ],
             [
              0.5555555555555556,
              "#d8576b"
             ],
             [
              0.6666666666666666,
              "#ed7953"
             ],
             [
              0.7777777777777778,
              "#fb9f3a"
             ],
             [
              0.8888888888888888,
              "#fdca26"
             ],
             [
              1,
              "#f0f921"
             ]
            ],
            "type": "histogram2d"
           }
          ],
          "histogram2dcontour": [
           {
            "colorbar": {
             "outlinewidth": 0,
             "ticks": ""
            },
            "colorscale": [
             [
              0,
              "#0d0887"
             ],
             [
              0.1111111111111111,
              "#46039f"
             ],
             [
              0.2222222222222222,
              "#7201a8"
             ],
             [
              0.3333333333333333,
              "#9c179e"
             ],
             [
              0.4444444444444444,
              "#bd3786"
             ],
             [
              0.5555555555555556,
              "#d8576b"
             ],
             [
              0.6666666666666666,
              "#ed7953"
             ],
             [
              0.7777777777777778,
              "#fb9f3a"
             ],
             [
              0.8888888888888888,
              "#fdca26"
             ],
             [
              1,
              "#f0f921"
             ]
            ],
            "type": "histogram2dcontour"
           }
          ],
          "mesh3d": [
           {
            "colorbar": {
             "outlinewidth": 0,
             "ticks": ""
            },
            "type": "mesh3d"
           }
          ],
          "parcoords": [
           {
            "line": {
             "colorbar": {
              "outlinewidth": 0,
              "ticks": ""
             }
            },
            "type": "parcoords"
           }
          ],
          "pie": [
           {
            "automargin": true,
            "type": "pie"
           }
          ],
          "scatter": [
           {
            "fillpattern": {
             "fillmode": "overlay",
             "size": 10,
             "solidity": 0.2
            },
            "type": "scatter"
           }
          ],
          "scatter3d": [
           {
            "line": {
             "colorbar": {
              "outlinewidth": 0,
              "ticks": ""
             }
            },
            "marker": {
             "colorbar": {
              "outlinewidth": 0,
              "ticks": ""
             }
            },
            "type": "scatter3d"
           }
          ],
          "scattercarpet": [
           {
            "marker": {
             "colorbar": {
              "outlinewidth": 0,
              "ticks": ""
             }
            },
            "type": "scattercarpet"
           }
          ],
          "scattergeo": [
           {
            "marker": {
             "colorbar": {
              "outlinewidth": 0,
              "ticks": ""
             }
            },
            "type": "scattergeo"
           }
          ],
          "scattergl": [
           {
            "marker": {
             "colorbar": {
              "outlinewidth": 0,
              "ticks": ""
             }
            },
            "type": "scattergl"
           }
          ],
          "scattermapbox": [
           {
            "marker": {
             "colorbar": {
              "outlinewidth": 0,
              "ticks": ""
             }
            },
            "type": "scattermapbox"
           }
          ],
          "scatterpolar": [
           {
            "marker": {
             "colorbar": {
              "outlinewidth": 0,
              "ticks": ""
             }
            },
            "type": "scatterpolar"
           }
          ],
          "scatterpolargl": [
           {
            "marker": {
             "colorbar": {
              "outlinewidth": 0,
              "ticks": ""
             }
            },
            "type": "scatterpolargl"
           }
          ],
          "scatterternary": [
           {
            "marker": {
             "colorbar": {
              "outlinewidth": 0,
              "ticks": ""
             }
            },
            "type": "scatterternary"
           }
          ],
          "surface": [
           {
            "colorbar": {
             "outlinewidth": 0,
             "ticks": ""
            },
            "colorscale": [
             [
              0,
              "#0d0887"
             ],
             [
              0.1111111111111111,
              "#46039f"
             ],
             [
              0.2222222222222222,
              "#7201a8"
             ],
             [
              0.3333333333333333,
              "#9c179e"
             ],
             [
              0.4444444444444444,
              "#bd3786"
             ],
             [
              0.5555555555555556,
              "#d8576b"
             ],
             [
              0.6666666666666666,
              "#ed7953"
             ],
             [
              0.7777777777777778,
              "#fb9f3a"
             ],
             [
              0.8888888888888888,
              "#fdca26"
             ],
             [
              1,
              "#f0f921"
             ]
            ],
            "type": "surface"
           }
          ],
          "table": [
           {
            "cells": {
             "fill": {
              "color": "#EBF0F8"
             },
             "line": {
              "color": "white"
             }
            },
            "header": {
             "fill": {
              "color": "#C8D4E3"
             },
             "line": {
              "color": "white"
             }
            },
            "type": "table"
           }
          ]
         },
         "layout": {
          "annotationdefaults": {
           "arrowcolor": "#2a3f5f",
           "arrowhead": 0,
           "arrowwidth": 1
          },
          "autotypenumbers": "strict",
          "coloraxis": {
           "colorbar": {
            "outlinewidth": 0,
            "ticks": ""
           }
          },
          "colorscale": {
           "diverging": [
            [
             0,
             "#8e0152"
            ],
            [
             0.1,
             "#c51b7d"
            ],
            [
             0.2,
             "#de77ae"
            ],
            [
             0.3,
             "#f1b6da"
            ],
            [
             0.4,
             "#fde0ef"
            ],
            [
             0.5,
             "#f7f7f7"
            ],
            [
             0.6,
             "#e6f5d0"
            ],
            [
             0.7,
             "#b8e186"
            ],
            [
             0.8,
             "#7fbc41"
            ],
            [
             0.9,
             "#4d9221"
            ],
            [
             1,
             "#276419"
            ]
           ],
           "sequential": [
            [
             0,
             "#0d0887"
            ],
            [
             0.1111111111111111,
             "#46039f"
            ],
            [
             0.2222222222222222,
             "#7201a8"
            ],
            [
             0.3333333333333333,
             "#9c179e"
            ],
            [
             0.4444444444444444,
             "#bd3786"
            ],
            [
             0.5555555555555556,
             "#d8576b"
            ],
            [
             0.6666666666666666,
             "#ed7953"
            ],
            [
             0.7777777777777778,
             "#fb9f3a"
            ],
            [
             0.8888888888888888,
             "#fdca26"
            ],
            [
             1,
             "#f0f921"
            ]
           ],
           "sequentialminus": [
            [
             0,
             "#0d0887"
            ],
            [
             0.1111111111111111,
             "#46039f"
            ],
            [
             0.2222222222222222,
             "#7201a8"
            ],
            [
             0.3333333333333333,
             "#9c179e"
            ],
            [
             0.4444444444444444,
             "#bd3786"
            ],
            [
             0.5555555555555556,
             "#d8576b"
            ],
            [
             0.6666666666666666,
             "#ed7953"
            ],
            [
             0.7777777777777778,
             "#fb9f3a"
            ],
            [
             0.8888888888888888,
             "#fdca26"
            ],
            [
             1,
             "#f0f921"
            ]
           ]
          },
          "colorway": [
           "#636efa",
           "#EF553B",
           "#00cc96",
           "#ab63fa",
           "#FFA15A",
           "#19d3f3",
           "#FF6692",
           "#B6E880",
           "#FF97FF",
           "#FECB52"
          ],
          "font": {
           "color": "#2a3f5f"
          },
          "geo": {
           "bgcolor": "white",
           "lakecolor": "white",
           "landcolor": "#E5ECF6",
           "showlakes": true,
           "showland": true,
           "subunitcolor": "white"
          },
          "hoverlabel": {
           "align": "left"
          },
          "hovermode": "closest",
          "mapbox": {
           "style": "light"
          },
          "paper_bgcolor": "white",
          "plot_bgcolor": "#E5ECF6",
          "polar": {
           "angularaxis": {
            "gridcolor": "white",
            "linecolor": "white",
            "ticks": ""
           },
           "bgcolor": "#E5ECF6",
           "radialaxis": {
            "gridcolor": "white",
            "linecolor": "white",
            "ticks": ""
           }
          },
          "scene": {
           "xaxis": {
            "backgroundcolor": "#E5ECF6",
            "gridcolor": "white",
            "gridwidth": 2,
            "linecolor": "white",
            "showbackground": true,
            "ticks": "",
            "zerolinecolor": "white"
           },
           "yaxis": {
            "backgroundcolor": "#E5ECF6",
            "gridcolor": "white",
            "gridwidth": 2,
            "linecolor": "white",
            "showbackground": true,
            "ticks": "",
            "zerolinecolor": "white"
           },
           "zaxis": {
            "backgroundcolor": "#E5ECF6",
            "gridcolor": "white",
            "gridwidth": 2,
            "linecolor": "white",
            "showbackground": true,
            "ticks": "",
            "zerolinecolor": "white"
           }
          },
          "shapedefaults": {
           "line": {
            "color": "#2a3f5f"
           }
          },
          "ternary": {
           "aaxis": {
            "gridcolor": "white",
            "linecolor": "white",
            "ticks": ""
           },
           "baxis": {
            "gridcolor": "white",
            "linecolor": "white",
            "ticks": ""
           },
           "bgcolor": "#E5ECF6",
           "caxis": {
            "gridcolor": "white",
            "linecolor": "white",
            "ticks": ""
           }
          },
          "title": {
           "x": 0.05
          },
          "xaxis": {
           "automargin": true,
           "gridcolor": "white",
           "linecolor": "white",
           "ticks": "",
           "title": {
            "standoff": 15
           },
           "zerolinecolor": "white",
           "zerolinewidth": 2
          },
          "yaxis": {
           "automargin": true,
           "gridcolor": "white",
           "linecolor": "white",
           "ticks": "",
           "title": {
            "standoff": 15
           },
           "zerolinecolor": "white",
           "zerolinewidth": 2
          }
         }
        },
        "title": {
         "text": "🔟 Rivales más goleados por Messi (Local vs Visitante)"
        },
        "xaxis": {
         "anchor": "y",
         "categoryarray": [
          "Sevilla",
          "Atlético Madrid",
          "Valencia",
          "Athletic de Bilbao",
          "Real Betis",
          "Real Madrid",
          "Osasuna",
          "Espanyol",
          "Levante",
          "Getafe"
         ],
         "categoryorder": "array",
         "domain": [
          0,
          1
         ],
         "tickangle": -45,
         "title": {
          "text": "Rival"
         }
        },
        "yaxis": {
         "anchor": "x",
         "domain": [
          0,
          1
         ],
         "title": {
          "text": "Total de Goles"
         }
        }
       }
      }
     },
     "metadata": {},
     "output_type": "display_data"
    }
   ],
   "source": [
    "# Top 10 Total de Goles en Casa y Fuera de Casa por Rivales\n",
    "\n",
    "import pandas as pd\n",
    "import plotly.express as px\n",
    "from src.db import get_engine\n",
    "\n",
    "engine = get_engine()\n",
    "\n",
    "query = \"\"\"\n",
    "SELECT\n",
    "  CASE\n",
    "    WHEN mc.`Player_Team` = mc.`Home Team` THEN mc.`Away Team`\n",
    "    ELSE mc.`Home Team`\n",
    "  END AS Rival_Team_Name,\n",
    "  TRIM(mc.`Home/Away`) AS Home_Away,\n",
    "  SUM(mc.Goals) AS Total_Goals\n",
    "FROM messi_career_data mc\n",
    "WHERE mc.`Player` = 'Leo Messi'\n",
    "  AND mc.`Player_Team` IS NOT NULL\n",
    "  AND (\n",
    "    (mc.`Player_Team` = mc.`Home Team` AND mc.`Away Team` NOT IN ('Argentina', 'FC Barcelona', 'Paris Saint-Germain', 'Inter Miami CF'))\n",
    "    OR\n",
    "    (mc.`Player_Team` = mc.`Away Team` AND mc.`Home Team` NOT IN ('Argentina', 'FC Barcelona', 'Paris Saint-Germain', 'Inter Miami CF'))\n",
    "  )\n",
    "  AND mc.Goals > 0\n",
    "  AND (\n",
    "    mc.`Home Team` IS NOT NULL AND mc.`Away Team` IS NOT NULL\n",
    "  )\n",
    "GROUP BY\n",
    "  CASE\n",
    "    WHEN mc.`Player_Team` = mc.`Home Team` THEN mc.`Away Team`\n",
    "    ELSE mc.`Home Team`\n",
    "  END,\n",
    "  TRIM(mc.`Home/Away`)\n",
    "HAVING Rival_Team_Name IS NOT NULL;\n",
    "\"\"\"\n",
    "\n",
    "# Cargar resultados\n",
    "df = pd.read_sql(query, engine)\n",
    "\n",
    "# 🏆 Obtener Top 10 rivales con más goles (sumando Home + Away)\n",
    "top10_rivales = (\n",
    "    df.groupby(\"Rival_Team_Name\")[\"Total_Goals\"]\n",
    "    .sum()\n",
    "    .sort_values(ascending=False)\n",
    "    .head(10)\n",
    "    .index\n",
    ")\n",
    "\n",
    "# 🧽 Filtrar solo esos 10\n",
    "df_top10 = df[df[\"Rival_Team_Name\"].isin(top10_rivales)]\n",
    "\n",
    "# Orden para gráfico\n",
    "orden_rivales = (\n",
    "    df_top10.groupby(\"Rival_Team_Name\")[\"Total_Goals\"]\n",
    "    .sum()\n",
    "    .sort_values(ascending=False)\n",
    "    .index.tolist()\n",
    ")\n",
    "\n",
    "# 🎨 Gráfico\n",
    "fig = px.bar(\n",
    "    df_top10,\n",
    "    x=\"Rival_Team_Name\",\n",
    "    y=\"Total_Goals\",\n",
    "    color=\"Home_Away\",\n",
    "    category_orders={\"Rival_Team_Name\": orden_rivales},\n",
    "    title=\"🔟 Rivales más goleados por Messi (Local vs Visitante)\",\n",
    "    text_auto=True,\n",
    "    barmode=\"group\"\n",
    ")\n",
    "\n",
    "fig.update_layout(\n",
    "    xaxis_title=\"Rival\",\n",
    "    yaxis_title=\"Total de Goles\",\n",
    "    xaxis_tickangle=-45\n",
    ")\n",
    "\n",
    "fig.show()\n",
    "\n"
   ]
  },
  {
   "cell_type": "code",
   "execution_count": null,
   "metadata": {},
   "outputs": [],
   "source": []
  }
 ],
 "metadata": {
  "kernelspec": {
   "display_name": "jcmdc_proy_abril",
   "language": "python",
   "name": "python3"
  },
  "language_info": {
   "codemirror_mode": {
    "name": "ipython",
    "version": 3
   },
   "file_extension": ".py",
   "mimetype": "text/x-python",
   "name": "python",
   "nbconvert_exporter": "python",
   "pygments_lexer": "ipython3",
   "version": "3.13.2"
  }
 },
 "nbformat": 4,
 "nbformat_minor": 2
}
